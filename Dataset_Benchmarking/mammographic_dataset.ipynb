{
 "cells": [
  {
   "cell_type": "code",
   "execution_count": 1,
   "metadata": {},
   "outputs": [],
   "source": [
    "from sklearn.preprocessing import StandardScaler\n",
    "from sklearn.metrics import classification_report\n",
    "import numpy as np\n",
    "import pandas as pd\n",
    "import seaborn as sns\n",
    "import matplotlib.pyplot as plt\n",
    "from sklearn.model_selection import train_test_split\n",
    "from classifier_selector import Classifier_selector\n",
    "from sbs import SequentialBackwardSelection\n",
    "from sklearn.neighbors import KNeighborsClassifier\n",
    "from sklearn.linear_model import Perceptron\n",
    "from sklearn.ensemble import RandomForestClassifier\n",
    "from sklearn.tree import DecisionTreeClassifier\n",
    "from sklearn.svm import SVC\n",
    "from mpa import mpa\n",
    "from sklearn.metrics import accuracy_score"
   ]
  },
  {
   "cell_type": "code",
   "execution_count": 2,
   "metadata": {},
   "outputs": [],
   "source": [
    "classifier_selecting = Classifier_selector()"
   ]
  },
  {
   "cell_type": "code",
   "execution_count": 3,
   "metadata": {},
   "outputs": [
    {
     "data": {
      "text/html": [
       "<div>\n",
       "<style scoped>\n",
       "    .dataframe tbody tr th:only-of-type {\n",
       "        vertical-align: middle;\n",
       "    }\n",
       "\n",
       "    .dataframe tbody tr th {\n",
       "        vertical-align: top;\n",
       "    }\n",
       "\n",
       "    .dataframe thead th {\n",
       "        text-align: right;\n",
       "    }\n",
       "</style>\n",
       "<table border=\"1\" class=\"dataframe\">\n",
       "  <thead>\n",
       "    <tr style=\"text-align: right;\">\n",
       "      <th></th>\n",
       "      <th>BI RADS Assessment</th>\n",
       "      <th>Age</th>\n",
       "      <th>Shape</th>\n",
       "      <th>Margin</th>\n",
       "      <th>Density</th>\n",
       "      <th>Severity</th>\n",
       "    </tr>\n",
       "  </thead>\n",
       "  <tbody>\n",
       "    <tr>\n",
       "      <th>0</th>\n",
       "      <td>5</td>\n",
       "      <td>67</td>\n",
       "      <td>3</td>\n",
       "      <td>5</td>\n",
       "      <td>3</td>\n",
       "      <td>1</td>\n",
       "    </tr>\n",
       "    <tr>\n",
       "      <th>1</th>\n",
       "      <td>4</td>\n",
       "      <td>43</td>\n",
       "      <td>1</td>\n",
       "      <td>1</td>\n",
       "      <td>?</td>\n",
       "      <td>1</td>\n",
       "    </tr>\n",
       "    <tr>\n",
       "      <th>2</th>\n",
       "      <td>5</td>\n",
       "      <td>58</td>\n",
       "      <td>4</td>\n",
       "      <td>5</td>\n",
       "      <td>3</td>\n",
       "      <td>1</td>\n",
       "    </tr>\n",
       "    <tr>\n",
       "      <th>3</th>\n",
       "      <td>4</td>\n",
       "      <td>28</td>\n",
       "      <td>1</td>\n",
       "      <td>1</td>\n",
       "      <td>3</td>\n",
       "      <td>0</td>\n",
       "    </tr>\n",
       "    <tr>\n",
       "      <th>4</th>\n",
       "      <td>5</td>\n",
       "      <td>74</td>\n",
       "      <td>1</td>\n",
       "      <td>5</td>\n",
       "      <td>?</td>\n",
       "      <td>1</td>\n",
       "    </tr>\n",
       "  </tbody>\n",
       "</table>\n",
       "</div>"
      ],
      "text/plain": [
       "  BI RADS Assessment Age Shape  Margin Density  Severity\n",
       "0                  5  67      3      5       3         1\n",
       "1                  4  43      1      1       ?         1\n",
       "2                  5  58      4      5       3         1\n",
       "3                  4  28      1      1       3         0\n",
       "4                  5  74      1      5       ?         1"
      ]
     },
     "execution_count": 3,
     "metadata": {},
     "output_type": "execute_result"
    }
   ],
   "source": [
    "mammographic_df = pd.read_csv(\"./Datasets/mammographic_dataset.csv\")\n",
    "\n",
    "mammographic_df.head()"
   ]
  },
  {
   "cell_type": "code",
   "execution_count": 4,
   "metadata": {},
   "outputs": [],
   "source": [
    "mammographic_df.replace(\"?\", np.nan, inplace = True)"
   ]
  },
  {
   "cell_type": "code",
   "execution_count": 5,
   "metadata": {},
   "outputs": [],
   "source": [
    "columns_to_convert = [\"BI RADS Assessment\", \"Age\", \"Shape \", \"Margin\", \"Density\"]\n",
    "mammographic_df[columns_to_convert] = mammographic_df[columns_to_convert].apply(pd.to_numeric, errors='coerce')"
   ]
  },
  {
   "cell_type": "code",
   "execution_count": 6,
   "metadata": {},
   "outputs": [
    {
     "data": {
      "text/plain": [
       "BI RADS Assessment     2\n",
       "Age                    5\n",
       "Shape                 31\n",
       "Margin                48\n",
       "Density               76\n",
       "Severity               0\n",
       "dtype: int64"
      ]
     },
     "execution_count": 6,
     "metadata": {},
     "output_type": "execute_result"
    }
   ],
   "source": [
    "mammographic_df.isnull().sum()"
   ]
  },
  {
   "cell_type": "code",
   "execution_count": 7,
   "metadata": {},
   "outputs": [],
   "source": [
    "def fill_nan_by_group(df, group_column, columns_to_fill=None):\n",
    "    df_filled = df.copy()\n",
    "\n",
    "    # If no columns specified, get all numeric columns except the group column\n",
    "    if columns_to_fill is None:\n",
    "        columns_to_fill = df.select_dtypes(include=[np.number]).columns\n",
    "        columns_to_fill = columns_to_fill[columns_to_fill != group_column]\n",
    "\n",
    "    # Fill each column separately\n",
    "    for column in columns_to_fill:\n",
    "        # Calculate means for each group for the current column\n",
    "        group_means = df.groupby(group_column)[column].mean()\n",
    "\n",
    "        # For each unique group, fill NaN values with that group's mean\n",
    "        for group_value in df[group_column].unique():\n",
    "            mask = (df[group_column] == group_value) & (df[column].isna())\n",
    "            df_filled.loc[mask, column] = group_means[group_value]\n",
    "\n",
    "    return df_filled\n",
    "mammographic_df = fill_nan_by_group(mammographic_df, \"Severity\")\n"
   ]
  },
  {
   "cell_type": "code",
   "execution_count": 8,
   "metadata": {},
   "outputs": [],
   "source": [
    "train_df, test_df = train_test_split(mammographic_df, test_size = 0.2)\n",
    "X_train = train_df.drop(\"Severity\", axis = 1)\n",
    "y_train = train_df[\"Severity\"]\n",
    "X_test = test_df.drop(\"Severity\", axis = 1)\n",
    "y_test = test_df[\"Severity\"]"
   ]
  },
  {
   "cell_type": "code",
   "execution_count": 9,
   "metadata": {},
   "outputs": [
    {
     "name": "stdout",
     "output_type": "stream",
     "text": [
      "n_jobs = -1\n",
      "Fitting 5 folds for each of 48 candidates, totalling 240 fits\n",
      "\n",
      "Best Parameters: {'algorithm': 'ball_tree', 'metric': 'manhattan', 'n_neighbors': 7, 'weights': 'uniform'}\n",
      "\n",
      "Best Cross-validation Score: 0.8218341317004392\n",
      "\n",
      "Feature Importances: None\n",
      "\n",
      "Classification Report:\n",
      "              precision    recall  f1-score   support\n",
      "\n",
      "           0       0.71      0.86      0.78       103\n",
      "           1       0.79      0.59      0.68        90\n",
      "\n",
      "    accuracy                           0.74       193\n",
      "   macro avg       0.75      0.73      0.73       193\n",
      "weighted avg       0.75      0.74      0.73       193\n",
      "\n"
     ]
    },
    {
     "data": {
      "image/png": "[encoded data removed]",
      "text/plain": [
       "<Figure size 2000x1000 with 3 Axes>"
      ]
     },
     "metadata": {},
     "output_type": "display_data"
    }
   ],
   "source": [
    "results_knn, scaler = classifier_selecting.optimize_classifier(X_train, X_test, y_train, y_test, 'knn')\n",
    "\n",
    "print(\"\\nBest Parameters:\", results_knn['best_parameters'])\n",
    "print(\"\\nBest Cross-validation Score:\", results_knn['best_score'])\n",
    "print(\"\\nFeature Importances:\", results_knn['feature_importances'])\n",
    "print(\"\\nClassification Report:\")\n",
    "print(classification_report(y_test, results_knn['best_model'].predict(\n",
    "    scaler.fit_transform(X_test))))"
   ]
  },
  {
   "cell_type": "code",
   "execution_count": 10,
   "metadata": {},
   "outputs": [
    {
     "name": "stdout",
     "output_type": "stream",
     "text": [
      "\n",
      "Removed feature: BI RADS Assessment\n",
      "Current performance: 0.78238\n",
      "Remaining features: ['Age', 'Shape ', 'Margin', 'Density']\n",
      "\n",
      "\n",
      "Removed feature: Density\n",
      "Current performance: 0.80311\n",
      "Remaining features: ['Age', 'Shape ', 'Margin']\n",
      "\n"
     ]
    },
    {
     "data": {
      "text/plain": [
       "<sbs.sbs.SequentialBackwardSelection at 0x70d71f92b050>"
      ]
     },
     "execution_count": 10,
     "metadata": {},
     "output_type": "execute_result"
    }
   ],
   "source": [
    "knn = KNeighborsClassifier(**results_knn['best_parameters'])\n",
    "\n",
    "sbs_knn = SequentialBackwardSelection(estimator=knn,\n",
    "                                      min_features = 3,\n",
    "                                      scoring_metric=accuracy_score,\n",
    "                                      scale_features=True,\n",
    "                                      verbose=True)\n",
    "sbs_knn.fit(X_train, X_test, y_train, y_test)"
   ]
  },
  {
   "cell_type": "code",
   "execution_count": 11,
   "metadata": {},
   "outputs": [
    {
     "name": "stdout",
     "output_type": "stream",
     "text": [
      "Warning: Large parameter grid for perceptron. Switching to RandomizedSearchCV\n",
      "n_jobs = -1\n",
      "Fitting 5 folds for each of 48 candidates, totalling 240 fits\n"
     ]
    },
    {
     "name": "stderr",
     "output_type": "stream",
     "text": [
      "/home/soulangel443/.local/share/mise/installs/python/latest/lib/python3.12/site-packages/sklearn/model_selection/_search.py:317: UserWarning: The total space of parameters 48 is smaller than n_iter=100. Running 48 iterations. For exhaustive searches, use GridSearchCV.\n",
      "  warnings.warn(\n"
     ]
    },
    {
     "name": "stdout",
     "output_type": "stream",
     "text": [
      "\n",
      "Best Parameters: {'validation_fraction': 0.1, 'tol': 0.001, 'penalty': None, 'max_iter': 500, 'early_stopping': True, 'alpha': 0.0001}\n",
      "\n",
      "Best Cross-validation Score: 0.79106107005756\n",
      "\n",
      "Feature Importances: {'BI RADS Assessment': 2.6220994492818166, 'Age': 0.4426396007161443, 'Shape ': 0.20344381200743555, 'Margin': 1.6622907693737619, 'Density': 0.36052533348959}\n",
      "\n",
      "Classification Report:\n",
      "              precision    recall  f1-score   support\n",
      "\n",
      "           0       0.81      0.86      0.84       103\n",
      "           1       0.83      0.77      0.80        90\n",
      "\n",
      "    accuracy                           0.82       193\n",
      "   macro avg       0.82      0.82      0.82       193\n",
      "weighted avg       0.82      0.82      0.82       193\n",
      "\n"
     ]
    },
    {
     "data": {
      "image/png": "[encoded data removed]",
      "text/plain": [
       "<Figure size 2000x1000 with 3 Axes>"
      ]
     },
     "metadata": {},
     "output_type": "display_data"
    }
   ],
   "source": [
    "results_perceptron, scaler = classifier_selecting.optimize_classifier(X_train, X_test, y_train, y_test, 'perceptron')\n",
    "\n",
    "print(\"\\nBest Parameters:\", results_perceptron['best_parameters'])\n",
    "print(\"\\nBest Cross-validation Score:\", results_perceptron['best_score'])\n",
    "print(\"\\nFeature Importances:\", results_perceptron['feature_importances'])\n",
    "print(\"\\nClassification Report:\")\n",
    "print(classification_report(y_test, results_perceptron['best_model'].predict(\n",
    "    scaler.fit_transform(X_test))))"
   ]
  },
  {
   "cell_type": "code",
   "execution_count": 12,
   "metadata": {},
   "outputs": [
    {
     "name": "stdout",
     "output_type": "stream",
     "text": [
      "\n",
      "Removed feature: Margin\n",
      "Current performance: 0.76684\n",
      "Remaining features: ['BI RADS Assessment', 'Age', 'Shape ', 'Density']\n",
      "\n",
      "\n",
      "Removed feature: Density\n",
      "Current performance: 0.7513\n",
      "Remaining features: ['BI RADS Assessment', 'Age', 'Shape ']\n",
      "\n"
     ]
    },
    {
     "data": {
      "text/plain": [
       "<sbs.sbs.SequentialBackwardSelection at 0x70d71ef63920>"
      ]
     },
     "execution_count": 12,
     "metadata": {},
     "output_type": "execute_result"
    }
   ],
   "source": [
    "perceptron = Perceptron(**results_perceptron['best_parameters'])\n",
    "\n",
    "sbs_perceptron = SequentialBackwardSelection(estimator=perceptron,\n",
    "                                             min_features = 3,\n",
    "                                             scoring_metric=accuracy_score,\n",
    "                                             scale_features=True,\n",
    "                                             verbose=True)\n",
    "sbs_perceptron.fit(X_train, X_test, y_train, y_test)"
   ]
  },
  {
   "cell_type": "code",
   "execution_count": 13,
   "metadata": {},
   "outputs": [
    {
     "name": "stdout",
     "output_type": "stream",
     "text": [
      "Warning: Large parameter grid for rf. Switching to RandomizedSearchCV\n",
      "n_jobs = -1\n",
      "Fitting 5 folds for each of 100 candidates, totalling 500 fits\n",
      "\n",
      "Best Parameters: {'n_estimators': 200, 'min_samples_split': 2, 'min_samples_leaf': 4, 'max_features': 'log2', 'max_depth': 50, 'criterion': 'entropy', 'class_weight': 'balanced', 'bootstrap': True}\n",
      "\n",
      "Best Cross-validation Score: 0.8350771169633887\n",
      "\n",
      "Feature Importances: {'BI RADS Assessment': 0.3239729916607009, 'Age': 0.19026840605164813, 'Shape ': 0.2156050028534324, 'Margin': 0.2345178980344195, 'Density': 0.035635701399799026}\n",
      "\n",
      "Classification Report:\n",
      "              precision    recall  f1-score   support\n",
      "\n",
      "           0       0.76      0.87      0.81       103\n",
      "           1       0.83      0.69      0.75        90\n",
      "\n",
      "    accuracy                           0.79       193\n",
      "   macro avg       0.79      0.78      0.78       193\n",
      "weighted avg       0.79      0.79      0.79       193\n",
      "\n"
     ]
    },
    {
     "data": {
      "image/png": "[encoded data removed]",
      "text/plain": [
       "<Figure size 2000x1000 with 3 Axes>"
      ]
     },
     "metadata": {},
     "output_type": "display_data"
    }
   ],
   "source": [
    "results_rf, scaler = classifier_selecting.optimize_classifier(X_train, X_test, y_train, y_test, 'rf')\n",
    "\n",
    "print(\"\\nBest Parameters:\", results_rf['best_parameters'])\n",
    "print(\"\\nBest Cross-validation Score:\", results_rf['best_score'])\n",
    "print(\"\\nFeature Importances:\", results_rf['feature_importances'])\n",
    "print(\"\\nClassification Report:\")\n",
    "print(classification_report(y_test, results_rf['best_model'].predict(\n",
    "    scaler.fit_transform(X_test))))"
   ]
  },
  {
   "cell_type": "code",
   "execution_count": 14,
   "metadata": {},
   "outputs": [
    {
     "name": "stdout",
     "output_type": "stream",
     "text": [
      "\n",
      "Removed feature: BI RADS Assessment\n",
      "Current performance: 0.80829\n",
      "Remaining features: ['Age', 'Shape ', 'Margin', 'Density']\n",
      "\n",
      "\n",
      "Removed feature: Density\n",
      "Current performance: 0.79793\n",
      "Remaining features: ['Age', 'Shape ', 'Margin']\n",
      "\n"
     ]
    },
    {
     "data": {
      "text/plain": [
       "<sbs.sbs.SequentialBackwardSelection at 0x70d71ed7d220>"
      ]
     },
     "execution_count": 14,
     "metadata": {},
     "output_type": "execute_result"
    }
   ],
   "source": [
    "rf = RandomForestClassifier(**results_rf['best_parameters'])\n",
    "\n",
    "sbs_rf = SequentialBackwardSelection(estimator=rf,\n",
    "                                     min_features = 3,\n",
    "                                     scoring_metric=accuracy_score,\n",
    "                                     scale_features=True,\n",
    "                                     verbose=True)\n",
    "sbs_rf.fit(X_train, X_test, y_train, y_test)"
   ]
  },
  {
   "cell_type": "code",
   "execution_count": 15,
   "metadata": {},
   "outputs": [
    {
     "name": "stdout",
     "output_type": "stream",
     "text": [
      "Warning: Large parameter grid for dt. Switching to RandomizedSearchCV\n",
      "n_jobs = -1\n",
      "Fitting 5 folds for each of 100 candidates, totalling 500 fits\n",
      "\n",
      "Best Parameters: {'splitter': 'best', 'min_samples_split': 20, 'min_samples_leaf': 4, 'min_impurity_decrease': 0.0, 'max_features': 'sqrt', 'max_depth': 20, 'criterion': 'gini', 'class_weight': 'balanced'}\n",
      "\n",
      "Best Cross-validation Score: 0.8310823435311814\n",
      "\n",
      "Feature Importances: {'BI RADS Assessment': 0.6516693357686753, 'Age': 0.07338455801806767, 'Shape ': 0.19819607635751643, 'Margin': 0.057751625044829724, 'Density': 0.018998404810910894}\n",
      "\n",
      "Classification Report:\n",
      "              precision    recall  f1-score   support\n",
      "\n",
      "           0       0.68      0.89      0.77       103\n",
      "           1       0.81      0.51      0.63        90\n",
      "\n",
      "    accuracy                           0.72       193\n",
      "   macro avg       0.74      0.70      0.70       193\n",
      "weighted avg       0.74      0.72      0.70       193\n",
      "\n"
     ]
    },
    {
     "data": {
      "image/png": "[encoded data removed]",
      "text/plain": [
       "<Figure size 2000x1000 with 3 Axes>"
      ]
     },
     "metadata": {},
     "output_type": "display_data"
    }
   ],
   "source": [
    "results_dt, scaler = classifier_selecting.optimize_classifier(X_train, X_test, y_train, y_test, 'dt')\n",
    "\n",
    "print(\"\\nBest Parameters:\", results_dt['best_parameters'])\n",
    "print(\"\\nBest Cross-validation Score:\", results_dt['best_score'])\n",
    "print(\"\\nFeature Importances:\", results_dt['feature_importances'])\n",
    "print(\"\\nClassification Report:\")\n",
    "print(classification_report(y_test, results_dt['best_model'].predict(\n",
    "    scaler.fit_transform(X_test))))"
   ]
  },
  {
   "cell_type": "code",
   "execution_count": 16,
   "metadata": {},
   "outputs": [
    {
     "name": "stdout",
     "output_type": "stream",
     "text": [
      "\n",
      "Removed feature: BI RADS Assessment\n",
      "Current performance: 0.79275\n",
      "Remaining features: ['Age', 'Shape ', 'Margin', 'Density']\n",
      "\n",
      "\n",
      "Removed feature: Density\n",
      "Current performance: 0.80311\n",
      "Remaining features: ['Age', 'Shape ', 'Margin']\n",
      "\n"
     ]
    },
    {
     "data": {
      "text/plain": [
       "<sbs.sbs.SequentialBackwardSelection at 0x70d6bd2c3950>"
      ]
     },
     "execution_count": 16,
     "metadata": {},
     "output_type": "execute_result"
    }
   ],
   "source": [
    "dt = DecisionTreeClassifier(**results_dt['best_parameters'])\n",
    "\n",
    "sbs_dt = SequentialBackwardSelection(estimator=dt,\n",
    "                                     min_features = 3,\n",
    "                                     scoring_metric=accuracy_score,\n",
    "                                     scale_features=True,\n",
    "                                     verbose=True)\n",
    "sbs_dt.fit(X_train, X_test, y_train, y_test)"
   ]
  },
  {
   "cell_type": "code",
   "execution_count": 17,
   "metadata": {},
   "outputs": [
    {
     "name": "stdout",
     "output_type": "stream",
     "text": [
      "Warning: Large parameter grid for svm. Switching to RandomizedSearchCV\n",
      "n_jobs = -1\n",
      "Fitting 5 folds for each of 100 candidates, totalling 500 fits\n",
      "\n",
      "Best Parameters: {'kernel': 'poly', 'gamma': 0.1, 'degree': 2, 'coef0': 0.5, 'class_weight': 'balanced', 'C': 1}\n",
      "\n",
      "Best Cross-validation Score: 0.8407963858575274\n",
      "\n",
      "Feature Importances: None\n",
      "\n",
      "Classification Report:\n",
      "              precision    recall  f1-score   support\n",
      "\n",
      "           0       0.81      0.83      0.82       103\n",
      "           1       0.80      0.78      0.79        90\n",
      "\n",
      "    accuracy                           0.80       193\n",
      "   macro avg       0.80      0.80      0.80       193\n",
      "weighted avg       0.80      0.80      0.80       193\n",
      "\n"
     ]
    },
    {
     "data": {
      "image/png": "[encoded data removed]",
      "text/plain": [
       "<Figure size 2000x1000 with 3 Axes>"
      ]
     },
     "metadata": {},
     "output_type": "display_data"
    }
   ],
   "source": [
    "results_svm, scaler = classifier_selecting.optimize_classifier(X_train, X_test, y_train, y_test, 'svm')\n",
    "\n",
    "print(\"\\nBest Parameters:\", results_svm['best_parameters'])\n",
    "print(\"\\nBest Cross-validation Score:\", results_svm['best_score'])\n",
    "print(\"\\nFeature Importances:\", results_svm['feature_importances'])\n",
    "print(\"\\nClassification Report:\")\n",
    "print(classification_report(y_test, results_svm['best_model'].predict(\n",
    "    scaler.fit_transform(X_test))))"
   ]
  },
  {
   "cell_type": "code",
   "execution_count": 18,
   "metadata": {},
   "outputs": [
    {
     "name": "stdout",
     "output_type": "stream",
     "text": [
      "\n",
      "Removed feature: Shape \n",
      "Current performance: 0.8342\n",
      "Remaining features: ['BI RADS Assessment', 'Age', 'Margin', 'Density']\n",
      "\n",
      "\n",
      "Removed feature: Density\n",
      "Current performance: 0.8342\n",
      "Remaining features: ['BI RADS Assessment', 'Age', 'Margin']\n",
      "\n"
     ]
    },
    {
     "data": {
      "text/plain": [
       "<sbs.sbs.SequentialBackwardSelection at 0x70d71f8c3080>"
      ]
     },
     "execution_count": 18,
     "metadata": {},
     "output_type": "execute_result"
    }
   ],
   "source": [
    "svm = SVC(**results_svm['best_parameters'])\n",
    "\n",
    "sbs_svm = SequentialBackwardSelection(estimator=svm,\n",
    "                                      min_features = 3,\n",
    "                                      scoring_metric=accuracy_score,\n",
    "                                      scale_features=True,\n",
    "                                      verbose=True)\n",
    "sbs_svm.fit(X_train, X_test, y_train, y_test)"
   ]
  },
  {
   "cell_type": "code",
   "execution_count": 19,
   "metadata": {},
   "outputs": [],
   "source": [
    "import numpy as np\n",
    "import torch\n",
    "from torch import nn\n",
    "from torch.optim import Adam\n",
    "from sklearn.base import BaseEstimator, ClassifierMixin\n",
    "import matplotlib.pyplot as plt\n"
   ]
  },
  {
   "cell_type": "code",
   "execution_count": 20,
   "metadata": {},
   "outputs": [],
   "source": [
    "import pandas as pd\n",
    "from sklearn.preprocessing import MinMaxScaler, StandardScaler\n",
    "from sklearn.model_selection import train_test_split"
   ]
  },
  {
   "cell_type": "code",
   "execution_count": 21,
   "metadata": {},
   "outputs": [],
   "source": [
    "def reorder_least_correlated_feature(X, standardize=True, feature_order=None, scaler=None):\n",
    "    \"\"\"\n",
    "    Reorder X based on correlation or a provided feature order.\n",
    "\n",
    "    Parameters:\n",
    "    - X: numpy array or pandas DataFrame\n",
    "    - standardize: bool\n",
    "    - feature_order: list, optional order from training set (default: None, compute from X)\n",
    "    - scaler: fitted scaler object (default: None, create new scaler if needed)\n",
    "\n",
    "    Returns:\n",
    "    - X_reordered, feature_order (if computed), scaler (if created/used)\n",
    "    \"\"\"\n",
    "    is_dataframe = isinstance(X, pd.DataFrame)\n",
    "    if is_dataframe:\n",
    "        column_names = X.columns\n",
    "        X_np = X.to_numpy()\n",
    "    else:\n",
    "        X_np = np.asarray(X)\n",
    "\n",
    "    # Handle scaling regardless of whether feature_order is provided\n",
    "    if standardize:\n",
    "        if scaler is None:\n",
    "            scaler = MinMaxScaler(feature_range=(-100,100))\n",
    "            X_scaled = scaler.fit_transform(X_np)\n",
    "        else:\n",
    "            X_scaled = scaler.transform(X_np)\n",
    "    else:\n",
    "        X_scaled = X_np.copy()\n",
    "        scaler = None\n",
    "\n",
    "    # Compute feature order if not provided\n",
    "    if feature_order is None:\n",
    "        corr_matrix = np.abs(np.corrcoef(X_scaled, rowvar=False))\n",
    "        n_features = X_np.shape[1]\n",
    "        avg_corr = (np.sum(corr_matrix, axis=1) - np.diag(corr_matrix)) / (n_features - 1)\n",
    "        target_idx = np.argmin(avg_corr)\n",
    "        feature_order = list(range(n_features))\n",
    "        feature_order.pop(target_idx)\n",
    "        feature_order.append(target_idx)\n",
    "\n",
    "    # Reorder the data (using original data, not scaled)\n",
    "    if is_dataframe:\n",
    "        X_reordered = X.iloc[:, feature_order]\n",
    "    else:\n",
    "        X_reordered = X_np[:, feature_order]\n",
    "\n",
    "    return X_reordered, feature_order, scaler\n",
    "\n",
    "# Usage:\n",
    "X_train_reordered, feature_order, scaler = reorder_least_correlated_feature(X_train)\n",
    "X_test_reordered, _, _ = reorder_least_correlated_feature(X_test, feature_order=feature_order, scaler=scaler)"
   ]
  },
  {
   "cell_type": "code",
   "execution_count": 22,
   "metadata": {},
   "outputs": [],
   "source": [
    "from sklearn.model_selection import StratifiedKFold, GridSearchCV"
   ]
  },
  {
   "cell_type": "code",
   "execution_count": 23,
   "metadata": {},
   "outputs": [],
   "source": [
    "import numpy as np\n",
    "from sklearn.base import BaseEstimator, ClassifierMixin\n",
    "from scipy.interpolate import CubicSpline, PchipInterpolator\n",
    "import matplotlib.pyplot as plt\n",
    "from matplotlib.animation import FuncAnimation\n",
    "from IPython.display import HTML\n",
    "import matplotlib\n",
    "matplotlib.rcParams['animation.embed_limit'] = 100  # Increase animation size limit\n",
    "\n",
    "class ImprovedSMPA(BaseEstimator, ClassifierMixin):\n",
    "    \"\"\"\n",
    "    Smooth Manifold Projection Algorithm with improved boundary handling.\n",
    "    This classifier uses a smooth spline boundary to separate binary classes in 2D.\n",
    "    \"\"\"\n",
    "\n",
    "    def __init__(self, learning_rate=0.005, epochs=50, random_state=7, verbose=False,\n",
    "                 lambda_scaling='log', patience=5, decay_factor=0.5, min_learning_rate=1e-6,\n",
    "                 n_control_points=5, smoothing_factor=0.1, spline_type='cubic'):\n",
    "        \"\"\"\n",
    "        Initialize the SMPA classifier.\n",
    "\n",
    "        Parameters:\n",
    "        -----------\n",
    "        learning_rate : float, default=0.005\n",
    "            Initial learning rate for gradient updates\n",
    "        epochs : int, default=50\n",
    "            Maximum number of training epochs\n",
    "        random_state : int, default=7\n",
    "            Random seed for reproducibility\n",
    "        verbose : bool, default=False\n",
    "            Whether to print progress during training\n",
    "        lambda_scaling : {'log', 'sqrt', 'none'}, default='log'\n",
    "            Method to scale the update based on distance\n",
    "        patience : int, default=5\n",
    "            Epochs to wait before reducing learning rate\n",
    "        decay_factor : float, default=0.5\n",
    "            Factor to reduce learning rate by when patience is exceeded\n",
    "        min_learning_rate : float, default=1e-6\n",
    "            Minimum learning rate to stop training\n",
    "        n_control_points : int, default=5\n",
    "            Number of control points for the spline\n",
    "        smoothing_factor : float, default=0.1\n",
    "            Smoothing parameter for the spline\n",
    "        spline_type : {'cubic', 'pchip'}, default='cubic'\n",
    "            Type of spline to use ('pchip' preserves monotonicity better)\n",
    "        \"\"\"\n",
    "        self.learning_rate = learning_rate\n",
    "        self.initial_learning_rate = learning_rate\n",
    "        self.epochs = epochs\n",
    "        self.random_state = random_state\n",
    "        self.verbose = verbose\n",
    "        self.lambda_scaling = lambda_scaling\n",
    "        self.patience = patience\n",
    "        self.decay_factor = decay_factor\n",
    "        self.min_learning_rate = min_learning_rate\n",
    "        self.n_control_points = n_control_points\n",
    "        self.smoothing_factor = smoothing_factor\n",
    "        self.spline_type = spline_type\n",
    "\n",
    "        # Validation\n",
    "        if lambda_scaling not in ['log', 'sqrt', 'none']:\n",
    "            raise ValueError(\"lambda_scaling must be one of 'log', 'sqrt', or 'none'\")\n",
    "        if spline_type not in ['cubic', 'pchip']:\n",
    "            raise ValueError(\"spline_type must be one of 'cubic' or 'pchip'\")\n",
    "\n",
    "        # History tracking\n",
    "        self.error_history_ = []\n",
    "        self.learning_rate_history_ = []\n",
    "        self.control_point_history = []\n",
    "        self.displacement_history = []\n",
    "        self.error_index_history = []\n",
    "\n",
    "        # Set random seed\n",
    "        np.random.seed(random_state)\n",
    "\n",
    "    def _calculate_class_means(self, X, y):\n",
    "        \"\"\"Calculate the mean point for each class.\"\"\"\n",
    "        mask_1 = y == 1\n",
    "        self.m1 = X[mask_1].mean(axis=0)\n",
    "        self.m0 = X[~mask_1].mean(axis=0)\n",
    "\n",
    "    def _initialize_control_points(self, X):\n",
    "        \"\"\"Initialize control points with improved boundary handling.\"\"\"\n",
    "        # Data range with padding to prevent boundary issues\n",
    "        x_min, x_max = X[:, 0].min(), X[:, 0].max()\n",
    "        y_min, y_max = X[:, 1].min(), X[:, 1].max()\n",
    "        x_range = x_max - x_min\n",
    "        y_range = y_max - y_min\n",
    "\n",
    "        # Add padding outside data range for better boundary behavior\n",
    "        x_min_extended = x_min - 0.2 * x_range\n",
    "        x_max_extended = x_max + 0.2 * x_range\n",
    "\n",
    "        # Create evenly spaced control points\n",
    "        self.control_x = np.linspace(x_min_extended, x_max_extended, self.n_control_points)\n",
    "\n",
    "        # Initialize control y values near the midpoint between class means\n",
    "        y_mid = (self.m0[1] + self.m1[1]) / 2\n",
    "\n",
    "        # Add slight randomization but keep endpoints stable\n",
    "        self.control_y = np.random.uniform(\n",
    "            y_mid - y_range * 0.05,\n",
    "            y_mid + y_range * 0.05,\n",
    "            self.n_control_points\n",
    "        )\n",
    "\n",
    "        # Make sure boundary control points have stable derivatives (flatter)\n",
    "        # This helps prevent the spline from shooting up at the edges\n",
    "        if self.n_control_points > 2:\n",
    "            # Set the first and last control points to match second and second-to-last\n",
    "            self.control_y[0] = self.control_y[1]\n",
    "            self.control_y[-1] = self.control_y[-2]\n",
    "\n",
    "        # Store initial control points for visualization\n",
    "        self.initial_control_x = self.control_x.copy()\n",
    "        self.initial_control_y = self.control_y.copy()\n",
    "        self.control_point_history.append((self.control_x.copy(), self.control_y.copy()))\n",
    "\n",
    "    def _fit_spline(self):\n",
    "        \"\"\"Fit a spline to the current control points with boundary constraints.\"\"\"\n",
    "        if self.spline_type == 'cubic':\n",
    "            # Use cubic spline with clamped boundary conditions (zero derivative at endpoints)\n",
    "            self.spline = CubicSpline(\n",
    "                self.control_x,\n",
    "                self.control_y,\n",
    "                bc_type='clamped'  # This forces zero first derivative at endpoints\n",
    "            )\n",
    "        else:  # 'pchip'\n",
    "            # PCHIP preserves monotonicity and reduces oscillations\n",
    "            self.spline = PchipInterpolator(self.control_x, self.control_y)\n",
    "\n",
    "    def _calculate_displacement(self, X):\n",
    "        \"\"\"Calculate vertical displacement from the spline.\"\"\"\n",
    "        spline_y = self.spline(X[:, 0])\n",
    "        return X[:, 1] - spline_y\n",
    "\n",
    "    def _update_pseudo_labels(self, X, y):\n",
    "        \"\"\"Determine which side of the spline each class should be on.\"\"\"\n",
    "        m1_displacement = self._calculate_displacement(self.m1.reshape(1, -1))[0]\n",
    "        self.class_1_pseudo = 1 if m1_displacement > 0 else -1\n",
    "        self.class_0_pseudo = -self.class_1_pseudo\n",
    "        return np.where(y == 1, self.class_1_pseudo, self.class_0_pseudo)\n",
    "\n",
    "    def fit(self, X, y):\n",
    "        \"\"\"\n",
    "        Fit the classifier to the training data.\n",
    "\n",
    "        Parameters:\n",
    "        -----------\n",
    "        X : array-like, shape (n_samples, 2)\n",
    "            Training data\n",
    "        y : array-like, shape (n_samples,)\n",
    "            Target values (0 or 1)\n",
    "\n",
    "        Returns:\n",
    "        --------\n",
    "        self : object\n",
    "            Returns self\n",
    "        \"\"\"\n",
    "        # Validate inputs\n",
    "        self.classes_ = np.unique(y)\n",
    "        if not set(self.classes_).issubset({0, 1}):\n",
    "            raise ValueError(\"Labels must be 0 and 1\")\n",
    "        if X.shape[1] != 2:\n",
    "            raise ValueError(\"This is a 2D-only algorithm for now!\")\n",
    "\n",
    "        X = np.asarray(X)\n",
    "        y = np.asarray(y)\n",
    "\n",
    "        # Reset training history\n",
    "        self.control_point_history = []\n",
    "        self.displacement_history = []\n",
    "        self.error_index_history = []\n",
    "        self.error_history_ = []\n",
    "        self.learning_rate_history_ = []\n",
    "\n",
    "        # Initialize\n",
    "        self._calculate_class_means(X, y)\n",
    "        self._initialize_control_points(X)\n",
    "        self._fit_spline()\n",
    "\n",
    "        # Track best model\n",
    "        best_error = float('inf')\n",
    "        best_control_x = None\n",
    "        best_control_y = None\n",
    "        best_class_1_pseudo = None\n",
    "\n",
    "        # Learning rate scheduling\n",
    "        patience_counter = 0\n",
    "        current_learning_rate = self.initial_learning_rate\n",
    "\n",
    "        # Pre-compute class indices for efficient updates\n",
    "        indices_class_0 = np.where(y == 0)[0]\n",
    "        indices_class_1 = np.where(y == 1)[0]\n",
    "\n",
    "        # Main training loop\n",
    "        for epoch in range(self.epochs):\n",
    "            # Update spline and calculate errors\n",
    "            self._fit_spline()\n",
    "            pseudo_labels = self._update_pseudo_labels(X, y)\n",
    "            displacements = self._calculate_displacement(X)\n",
    "            errors = (displacements * pseudo_labels <= 0)\n",
    "            error_count = np.sum(errors)\n",
    "\n",
    "            # Store history\n",
    "            self.error_history_.append(error_count)\n",
    "            self.learning_rate_history_.append(current_learning_rate)\n",
    "            self.displacement_history.append(displacements.copy())\n",
    "            self.error_index_history.append(np.where(errors)[0].copy())\n",
    "\n",
    "            # Verbose logging\n",
    "            if self.verbose and epoch % 5 == 0:\n",
    "                print(f\"Epoch {epoch}: Errors = {error_count}, LR = {current_learning_rate:.6f}\")\n",
    "\n",
    "            # Update best model if improved\n",
    "            if error_count < best_error:\n",
    "                best_error = error_count\n",
    "                best_control_x = self.control_x.copy()\n",
    "                best_control_y = self.control_y.copy()\n",
    "                best_class_1_pseudo = self.class_1_pseudo\n",
    "                patience_counter = 0\n",
    "                self.best_epoch = epoch\n",
    "            else:\n",
    "                # Learning rate decay\n",
    "                patience_counter += 1\n",
    "                if patience_counter >= self.patience:\n",
    "                    current_learning_rate = max(current_learning_rate * self.decay_factor, self.min_learning_rate)\n",
    "                    patience_counter = 0\n",
    "                    if current_learning_rate == self.min_learning_rate:\n",
    "                        if self.verbose:\n",
    "                            print(f\"Min learning rate reached at epoch {epoch}\")\n",
    "                        break\n",
    "\n",
    "            # Update control points based on errors\n",
    "            if errors.any():\n",
    "                error_indices = np.where(errors)[0]\n",
    "\n",
    "                for idx in error_indices:\n",
    "                    # Get the misclassified point\n",
    "                    d = X[idx]\n",
    "\n",
    "                    # Find nearest control point\n",
    "                    distances = np.abs(self.control_x - d[0])\n",
    "                    nearest_idx = np.argmin(distances)\n",
    "                    distance = distances[nearest_idx]\n",
    "\n",
    "                    # Scale update based on distance\n",
    "                    if self.lambda_scaling == 'log':\n",
    "                        lmbda = np.log1p(distance)\n",
    "                    elif self.lambda_scaling == 'sqrt':\n",
    "                        lmbda = np.sqrt(distance)\n",
    "                    else:  # 'none'\n",
    "                        lmbda = distance\n",
    "\n",
    "                    # Adaptive margin: higher margins for points far from the decision boundary\n",
    "                    margin = max(0.1, min(1.0, lmbda * 0.2))\n",
    "\n",
    "                    # Determine opposite class's correctly classified points\n",
    "                    if y[idx] == 1:  # Misclassified class 1 point\n",
    "                        opp_indices = indices_class_0\n",
    "                    else:  # Misclassified class 0 point\n",
    "                        opp_indices = indices_class_1\n",
    "\n",
    "                    # Find correctly classified points in opposite class\n",
    "                    opp_displacements = displacements[opp_indices]\n",
    "                    opp_labels = pseudo_labels[opp_indices]\n",
    "                    correct_opp = opp_indices[opp_displacements * opp_labels > margin]  # Use margin\n",
    "\n",
    "                    # Calculate step direction\n",
    "                    if len(correct_opp) > 0:\n",
    "                        # Pick a random subset of correctly classified opposite class points\n",
    "                        n_random = max(1, min(len(correct_opp) // 5, 5))  # Take 20%, max 5 points\n",
    "                        random_correct = np.random.choice(correct_opp, size=n_random, replace=False)\n",
    "\n",
    "                        # Average position of the random subset\n",
    "                        random_avg_opp = np.mean(X[random_correct], axis=0)\n",
    "\n",
    "                        # Calculate step direction toward this average\n",
    "                        delta_x = random_avg_opp[0] - self.control_x[nearest_idx]\n",
    "                        delta_y = random_avg_opp[1] - self.control_y[nearest_idx]\n",
    "\n",
    "                        # Apply step with learning rate\n",
    "                        step_x = delta_x * current_learning_rate / (1 + lmbda)\n",
    "                        step_y = delta_y * current_learning_rate / (1 + lmbda)\n",
    "                    else:\n",
    "                        # Fallback: Move control point vertically to correct the error\n",
    "                        step_x = 0\n",
    "                        step_y = -pseudo_labels[idx] * margin * current_learning_rate\n",
    "\n",
    "                    # Constrain step_x to maintain ascending order of control points\n",
    "                    if nearest_idx > 0:\n",
    "                        min_allowed_x = self.control_x[nearest_idx - 1] + 1e-6\n",
    "                        max_step_left = self.control_x[nearest_idx] - min_allowed_x\n",
    "                        step_x = max(step_x, -max_step_left)\n",
    "                    if nearest_idx < len(self.control_x) - 1:\n",
    "                        max_allowed_x = self.control_x[nearest_idx + 1] - 1e-6\n",
    "                        max_step_right = max_allowed_x - self.control_x[nearest_idx]\n",
    "                        step_x = min(step_x, max_step_right)\n",
    "\n",
    "                    # Apply updates\n",
    "                    self.control_x[nearest_idx] += step_x\n",
    "                    self.control_y[nearest_idx] += step_y\n",
    "\n",
    "                    # Special handling for boundary control points\n",
    "                    # Keep first and last control points moving less to prevent boundary issues\n",
    "                    if nearest_idx == 0 or nearest_idx == len(self.control_x) - 1:\n",
    "                        # Scale down the step for boundary points\n",
    "                        self.control_y[nearest_idx] *= 0.7  # Dampen movement at boundaries\n",
    "\n",
    "                        # If it's the first control point, make second point match the derivative\n",
    "                        if nearest_idx == 0 and len(self.control_x) > 2:\n",
    "                            delta = self.control_y[1] - self.control_y[0]\n",
    "                            self.control_y[0] = self.control_y[1] - 0.5 * delta\n",
    "\n",
    "                        # If it's the last control point, make second-to-last point match the derivative\n",
    "                        elif nearest_idx == len(self.control_x) - 1 and len(self.control_x) > 2:\n",
    "                            delta = self.control_y[-1] - self.control_y[-2]\n",
    "                            self.control_y[-1] = self.control_y[-2] + 0.5 * delta\n",
    "\n",
    "            # Store control points after all updates\n",
    "            self.control_point_history.append((self.control_x.copy(), self.control_y.copy()))\n",
    "\n",
    "        # Store the last control points from the final epoch\n",
    "        self.last_control_x = self.control_x.copy()\n",
    "        self.last_control_y = self.control_y.copy()\n",
    "\n",
    "        # Restore best model for prediction\n",
    "        self.control_x = best_control_x\n",
    "        self.control_y = best_control_y\n",
    "        self._fit_spline()\n",
    "        self.class_1_pseudo = best_class_1_pseudo\n",
    "\n",
    "        return self\n",
    "\n",
    "    def predict(self, X):\n",
    "        \"\"\"\n",
    "        Predict class labels for samples in X.\n",
    "\n",
    "        Parameters:\n",
    "        -----------\n",
    "        X : array-like, shape (n_samples, 2)\n",
    "            The input samples\n",
    "\n",
    "        Returns:\n",
    "        --------\n",
    "        y : array-like, shape (n_samples,)\n",
    "            The predicted classes (0 or 1)\n",
    "        \"\"\"\n",
    "        X = np.asarray(X)\n",
    "        displacements = self._calculate_displacement(X)\n",
    "        return np.where(displacements > 0,\n",
    "                        1 if self.class_1_pseudo > 0 else 0,\n",
    "                        0 if self.class_1_pseudo > 0 else 1)\n",
    "\n",
    "    def predict_proba(self, X):\n",
    "        \"\"\"\n",
    "        Estimate probability of each class for samples in X.\n",
    "\n",
    "        Parameters:\n",
    "        -----------\n",
    "        X : array-like, shape (n_samples, 2)\n",
    "            The input samples\n",
    "\n",
    "        Returns:\n",
    "        --------\n",
    "        proba : array-like, shape (n_samples, 2)\n",
    "            The class probabilities\n",
    "        \"\"\"\n",
    "        X = np.asarray(X)\n",
    "        displacements = self._calculate_displacement(X)\n",
    "\n",
    "        # Convert displacements to probabilities with sigmoid\n",
    "        def sigmoid(x):\n",
    "            return 1 / (1 + np.exp(-x))\n",
    "\n",
    "        # Scale displacement to probability (use absolute displacement as confidence)\n",
    "        raw_probs = sigmoid(displacements * self.class_1_pseudo * 0.5)\n",
    "\n",
    "        # Create probability array [p(class=0), p(class=1)]\n",
    "        if self.class_1_pseudo > 0:\n",
    "            probs = np.column_stack([1 - raw_probs, raw_probs])\n",
    "        else:\n",
    "            probs = np.column_stack([raw_probs, 1 - raw_probs])\n",
    "\n",
    "        return probs\n",
    "\n",
    "    def plot_convergence(self, figsize=(12, 5)):\n",
    "        \"\"\"Plot error and learning rate history.\"\"\"\n",
    "        try:\n",
    "            import matplotlib.pyplot as plt\n",
    "            fig, (ax1, ax2) = plt.subplots(1, 2, figsize=figsize)\n",
    "\n",
    "            # Plot error history\n",
    "            ax1.plot(self.error_history_, 'b-', label='Errors')\n",
    "            ax1.set_title('Error Convergence')\n",
    "            ax1.set_xlabel('Epoch')\n",
    "            ax1.set_ylabel('Number of Errors')\n",
    "            ax1.grid(True)\n",
    "\n",
    "            # Mark the best epoch\n",
    "            if hasattr(self, 'best_epoch'):\n",
    "                ax1.axvline(x=self.best_epoch, color='g', linestyle='--',\n",
    "                            label=f'Best (Epoch {self.best_epoch})')\n",
    "\n",
    "            # Plot learning rate history\n",
    "            ax2.plot(self.learning_rate_history_, 'r-', label='Learning Rate')\n",
    "            ax2.set_title('Learning Rate Decay')\n",
    "            ax2.set_xlabel('Epoch')\n",
    "            ax2.set_ylabel('Learning Rate')\n",
    "            ax2.set_yscale('log')\n",
    "            ax2.grid(True)\n",
    "\n",
    "            plt.tight_layout()\n",
    "            fig.legend()\n",
    "            return fig\n",
    "        except ImportError:\n",
    "            print(\"Install matplotlib with 'pip install matplotlib'!\")\n",
    "            return None\n",
    "\n",
    "    def plot_boundary(self, X, y, figsize=(10, 8), padding_factor=0.1):\n",
    "        \"\"\"Plot decision boundary and training data.\"\"\"\n",
    "        try:\n",
    "            import matplotlib.pyplot as plt\n",
    "            import numpy as np\n",
    "            fig = plt.figure(figsize=figsize)\n",
    "\n",
    "            # Determine plot ranges\n",
    "            x_min, x_max = X[:, 0].min(), X[:, 0].max()\n",
    "            y_min, y_max = X[:, 1].min(), X[:, 1].max()\n",
    "            x_range = x_max - x_min\n",
    "            y_range = y_max - y_min\n",
    "\n",
    "            # Add padding\n",
    "            x_min -= x_range * padding_factor\n",
    "            x_max += x_range * padding_factor\n",
    "            y_min -= y_range * padding_factor\n",
    "            y_max += y_range * padding_factor\n",
    "\n",
    "            # Create x-range for spline evaluation\n",
    "            x_range_points = np.linspace(x_min, x_max, 500)\n",
    "\n",
    "            # Scatter plot of data points\n",
    "            plt.scatter(X[:, 0], X[:, 1], c=y, cmap='bwr', alpha=0.6, s=50, zorder=5)\n",
    "\n",
    "            # Plot initial spline\n",
    "            if hasattr(self, 'initial_control_x') and hasattr(self, 'initial_control_y'):\n",
    "                if self.spline_type == 'cubic':\n",
    "                    initial_spline = CubicSpline(self.initial_control_x, self.initial_control_y, bc_type='clamped')\n",
    "                else:\n",
    "                    initial_spline = PchipInterpolator(self.initial_control_x, self.initial_control_y)\n",
    "\n",
    "                y_initial = initial_spline(x_range_points)\n",
    "                plt.plot(x_range_points, y_initial, 'r--', label='Initial Boundary', alpha=0.7, zorder=1)\n",
    "\n",
    "            # Plot best spline\n",
    "            y_best = self.spline(x_range_points)\n",
    "            plt.plot(x_range_points, y_best, 'g-', label='Best Boundary', linewidth=2, zorder=2)\n",
    "\n",
    "            # Plot control points\n",
    "            plt.scatter(self.initial_control_x, self.initial_control_y,\n",
    "                        c='orange', marker='o', label='Initial Control Points', alpha=0.7, s=80, zorder=3)\n",
    "            plt.scatter(self.control_x, self.control_y,\n",
    "                        c='k', marker='x', label='Best Control Points', s=100, zorder=4)\n",
    "\n",
    "            # Add class labels\n",
    "            class0_idx = np.where(y == 0)[0]\n",
    "            class1_idx = np.where(y == 1)[0]\n",
    "            class0_center = np.mean(X[class0_idx], axis=0)\n",
    "            class1_center = np.mean(X[class1_idx], axis=0)\n",
    "\n",
    "            plt.annotate('Class 0', xy=(class0_center[0], class0_center[1]),\n",
    "                        xytext=(class0_center[0] + x_range*0.05, class0_center[1] + y_range*0.05),\n",
    "                        arrowprops=dict(facecolor='black', shrink=0.05, width=1.5),\n",
    "                        fontsize=12, fontweight='bold')\n",
    "\n",
    "            plt.annotate('Class 1', xy=(class1_center[0], class1_center[1]),\n",
    "                        xytext=(class1_center[0] - x_range*0.05, class1_center[1] - y_range*0.05),\n",
    "                        arrowprops=dict(facecolor='black', shrink=0.05, width=1.5),\n",
    "                        fontsize=12, fontweight='bold')\n",
    "\n",
    "            plt.xlim(x_min, x_max)\n",
    "            plt.ylim(y_min, y_max)\n",
    "            plt.legend(loc='upper right')\n",
    "            plt.title(f'ImprovedSMPA Decision Boundary ({self.spline_type} spline)')\n",
    "            plt.grid(True, linestyle='--', alpha=0.3)\n",
    "\n",
    "            return fig\n",
    "        except ImportError:\n",
    "            print(\"Install matplotlib with 'pip install matplotlib'!\")\n",
    "            return None\n",
    "\n",
    "    def animate_training(self, X, y, interval=200, save_path=None,\n",
    "                     every_nth_epoch=1, figsize=(10, 8), padding_factor=0.1):\n",
    "        \"\"\"\n",
    "        Create an animation of the spline's evolution during training.\n",
    "\n",
    "        Parameters:\n",
    "        -----------\n",
    "        X, y : Training data\n",
    "        interval : Time between frames in milliseconds\n",
    "        save_path : If provided, save the animation to this path\n",
    "        every_nth_epoch : Only show every nth epoch (to reduce animation size)\n",
    "        figsize : Figure size\n",
    "        padding_factor : Factor to add padding around the data\n",
    "\n",
    "        Returns:\n",
    "        --------\n",
    "        Animation object that can be displayed in Jupyter/Colab\n",
    "        \"\"\"\n",
    "        try:\n",
    "            import matplotlib.pyplot as plt\n",
    "            import matplotlib.animation as animation\n",
    "            from IPython.display import HTML\n",
    "\n",
    "            if not self.control_point_history:\n",
    "                print(\"No training history found. Run fit() first.\")\n",
    "                return None\n",
    "\n",
    "            # Set up the figure and axis\n",
    "            fig, ax = plt.subplots(figsize=figsize)\n",
    "\n",
    "            # Prepare data ranges with appropriate padding\n",
    "            x_min, x_max = X[:, 0].min(), X[:, 0].max()\n",
    "            y_min, y_max = X[:, 1].min(), X[:, 1].max()\n",
    "            x_range = x_max - x_min\n",
    "            y_range = y_max - y_min\n",
    "\n",
    "            x_min -= x_range * padding_factor\n",
    "            x_max += x_range * padding_factor\n",
    "            y_min -= y_range * padding_factor\n",
    "            y_max += y_range * padding_factor\n",
    "\n",
    "            # Create x-range for spline evaluation\n",
    "            x_range_points = np.linspace(x_min, x_max, 200)\n",
    "\n",
    "            # Scatter plot of the data (static)\n",
    "            scatter = ax.scatter(X[:, 0], X[:, 1], c=y, cmap='bwr', alpha=0.6, s=50, zorder=5)\n",
    "\n",
    "            # Initialize spline line and control points that will be updated\n",
    "            spline_line, = ax.plot([], [], 'g-', lw=2, zorder=2)\n",
    "            control_points = ax.scatter([], [], c='k', marker='x', s=100, zorder=4)\n",
    "\n",
    "            # Error points highlighting\n",
    "            error_points = ax.scatter([], [], color='yellow', edgecolor='black',\n",
    "                                    marker='*', s=150, alpha=0.7, zorder=6)\n",
    "\n",
    "            # Text for epoch counter and error count\n",
    "            info_text = ax.text(0.02, 0.95, '', transform=ax.transAxes, fontsize=12,\n",
    "                            bbox=dict(facecolor='white', alpha=0.7))\n",
    "\n",
    "            # Set up plot limits and labels\n",
    "            ax.set_xlim(x_min, x_max)\n",
    "            ax.set_ylim(y_min, y_max)\n",
    "            ax.set_title(f'ImprovedSMPA Training Evolution ({self.spline_type} spline)')\n",
    "            ax.grid(True, linestyle='--', alpha=0.3)\n",
    "\n",
    "            # Only use a subset of epochs to make the animation manageable\n",
    "            epochs_to_show = list(range(0, len(self.control_point_history), every_nth_epoch))\n",
    "\n",
    "            def init():\n",
    "                spline_line.set_data([], [])\n",
    "                control_points.set_offsets(np.empty((0, 2)))\n",
    "                error_points.set_offsets(np.empty((0, 2)))\n",
    "                info_text.set_text('')\n",
    "                return spline_line, control_points, error_points, info_text\n",
    "\n",
    "            def update(frame_idx):\n",
    "                epoch = epochs_to_show[frame_idx] if frame_idx < len(epochs_to_show) else 0\n",
    "                if epoch >= len(self.control_point_history):\n",
    "                    return spline_line, control_points, error_points, info_text\n",
    "\n",
    "                # Get control points and fit spline\n",
    "                control_x, control_y = self.control_point_history[epoch]\n",
    "                try:\n",
    "                    if self.spline_type == 'cubic':\n",
    "                        spline = CubicSpline(control_x, control_y, bc_type='clamped')\n",
    "                    else:\n",
    "                        spline = PchipInterpolator(control_x, control_y)\n",
    "\n",
    "                    y_spline = spline(x_range_points)\n",
    "\n",
    "                    # Handle extreme values\n",
    "                    mask = np.isfinite(y_spline) & (np.abs(y_spline) < 1e6)\n",
    "                    if not np.all(mask):\n",
    "                        # Replace extreme values with something reasonable\n",
    "                        y_spline = np.clip(y_spline, y_min, y_max)\n",
    "                        y_spline[~mask] = np.nan  # NaN values won't be plotted\n",
    "\n",
    "                    # Update spline line\n",
    "                    spline_line.set_data(x_range_points, y_spline)\n",
    "\n",
    "                    # Update control points\n",
    "                    control_points.set_offsets(np.column_stack((control_x, control_y)))\n",
    "\n",
    "                    # Update error points if we have them\n",
    "                    if epoch < len(self.error_index_history):\n",
    "                        error_indices = self.error_index_history[epoch]\n",
    "                        if len(error_indices) > 0:\n",
    "                            error_points.set_offsets(X[error_indices])\n",
    "                        else:\n",
    "                            error_points.set_offsets(np.empty((0, 2)))\n",
    "\n",
    "                    # Update info text\n",
    "                    error_count = self.error_history_[epoch] if epoch < len(self.error_history_) else \"N/A\"\n",
    "                    if hasattr(self, 'best_epoch') and epoch == self.best_epoch:\n",
    "                        info_text.set_text(f'Epoch: {epoch} | Errors: {error_count} | BEST MODEL')\n",
    "                        info_text.set_bbox(dict(facecolor='lightgreen', alpha=0.7))\n",
    "                    else:\n",
    "                        info_text.set_text(f'Epoch: {epoch} | Errors: {error_count}')\n",
    "                        info_text.set_bbox(dict(facecolor='white', alpha=0.7))\n",
    "                except Exception as e:\n",
    "                    print(f\"Error in frame {frame_idx} (epoch {epoch}): {e}\")\n",
    "                    # Keep previous state in case of error\n",
    "\n",
    "                return spline_line, control_points, error_points, info_text\n",
    "\n",
    "            # Create the animation\n",
    "            ani = animation.FuncAnimation(fig, update, frames=len(epochs_to_show),\n",
    "                                        init_func=init, blit=True, interval=interval)\n",
    "\n",
    "            # Save if requested\n",
    "            if save_path:\n",
    "                ani.save(save_path, writer='pillow', dpi=100)\n",
    "                print(f\"Animation saved to {save_path}\")\n",
    "\n",
    "            plt.close(fig)  # Close the figure to avoid displaying it twice\n",
    "            return ani\n",
    "\n",
    "        except ImportError as e:\n",
    "            print(f\"Error: {e}. Make sure you have matplotlib installed.\")\n",
    "            return None"
   ]
  },
  {
   "cell_type": "code",
   "execution_count": 24,
   "metadata": {},
   "outputs": [],
   "source": [
    "import numpy as np\n",
    "from sklearn.base import BaseEstimator, ClassifierMixin\n",
    "from scipy.interpolate import CubicSpline, PchipInterpolator\n",
    "\n",
    "class NDSMPA(BaseEstimator, ClassifierMixin):\n",
    "    \"\"\"\n",
    "    N-Dimensional Smooth Manifold Projection Algorithm.\n",
    "    Extends ImprovedSMPA to n dimensions by fitting 2D models for each feature\n",
    "    against a target feature and combining results additively.\n",
    "    \"\"\"\n",
    "\n",
    "    def __init__(self, learning_rate=0.005, epochs=50, random_state=7, verbose=False,\n",
    "                 lambda_scaling='log', patience=5, decay_factor=0.5, min_learning_rate=1e-6,\n",
    "                 n_control_points=5, smoothing_factor=0.1, spline_type='cubic',\n",
    "                 target_feature=-1, aggregation_method='displacement'):\n",
    "        \"\"\"\n",
    "        Initialize the NDSMPA classifier.\n",
    "\n",
    "        Parameters:\n",
    "        -----------\n",
    "        [Same as ImprovedSMPA parameters]\n",
    "        target_feature : int, default=-1\n",
    "            Index of the feature to use as the target dimension (-1 for last feature)\n",
    "        aggregation_method : {'displacement', 'proba'}, default='displacement'\n",
    "            Method to aggregate 2D model outputs ('displacement' sums signed displacements,\n",
    "            'proba' averages probabilities)\n",
    "        \"\"\"\n",
    "        self.learning_rate = learning_rate\n",
    "        self.epochs = epochs\n",
    "        self.random_state = random_state\n",
    "        self.verbose = verbose\n",
    "        self.lambda_scaling = lambda_scaling\n",
    "        self.patience = patience\n",
    "        self.decay_factor = decay_factor\n",
    "        self.min_learning_rate = min_learning_rate\n",
    "        self.n_control_points = n_control_points\n",
    "        self.smoothing_factor = smoothing_factor\n",
    "        self.spline_type = spline_type\n",
    "        self.target_feature = target_feature\n",
    "        self.aggregation_method = aggregation_method\n",
    "\n",
    "        if aggregation_method not in ['displacement', 'proba']:\n",
    "            raise ValueError(\"aggregation_method must be 'displacement' or 'proba'\")\n",
    "\n",
    "        np.random.seed(random_state)\n",
    "        self.models_ = []  # List to store 2D SMPA models\n",
    "\n",
    "    def fit(self, X, y):\n",
    "        \"\"\"\n",
    "        Fit the classifier to n-dimensional data.\n",
    "\n",
    "        Parameters:\n",
    "        -----------\n",
    "        X : array-like, shape (n_samples, n_features)\n",
    "            Training data\n",
    "        y : array-like, shape (n_samples,)\n",
    "            Target values (0 or 1)\n",
    "\n",
    "        Returns:\n",
    "        --------\n",
    "        self : object\n",
    "        \"\"\"\n",
    "        X = np.asarray(X)\n",
    "        y = np.asarray(y)\n",
    "        n_features = X.shape[1]\n",
    "\n",
    "        if n_features < 2:\n",
    "            raise ValueError(\"Data must have at least 2 features\")\n",
    "\n",
    "        # Validate target_feature\n",
    "        if self.target_feature >= n_features or self.target_feature < -n_features:\n",
    "            raise ValueError(f\"target_feature must be between {-n_features} and {n_features-1}\")\n",
    "        target_idx = self.target_feature if self.target_feature >= 0 else n_features + self.target_feature\n",
    "\n",
    "        # Reset models\n",
    "        self.models_ = []\n",
    "\n",
    "        # Fit a 2D SMPA model for each feature (except target) paired with target feature\n",
    "        for feature_idx in range(n_features):\n",
    "            if feature_idx == target_idx:\n",
    "                continue\n",
    "            # Extract 2D subset: [current feature, target feature]\n",
    "            X_2d = X[:, [feature_idx, target_idx]]\n",
    "\n",
    "            # Initialize and fit 2D model\n",
    "            model = ImprovedSMPA(\n",
    "                learning_rate=self.learning_rate,\n",
    "                epochs=self.epochs,\n",
    "                random_state=self.random_state + feature_idx,  # Vary seed for diversity\n",
    "                verbose=self.verbose,\n",
    "                lambda_scaling=self.lambda_scaling,\n",
    "                patience=self.patience,\n",
    "                decay_factor=self.decay_factor,\n",
    "                min_learning_rate=self.min_learning_rate,\n",
    "                n_control_points=self.n_control_points,\n",
    "                smoothing_factor=self.smoothing_factor,\n",
    "                spline_type=self.spline_type\n",
    "            )\n",
    "            model.fit(X_2d, y)\n",
    "            self.models_.append(model)\n",
    "\n",
    "        self.n_features_ = n_features\n",
    "        self.target_idx_ = target_idx\n",
    "        return self\n",
    "\n",
    "    def predict(self, X):\n",
    "        \"\"\"\n",
    "        Predict class labels for samples in X.\n",
    "\n",
    "        Parameters:\n",
    "        -----------\n",
    "        X : array-like, shape (n_samples, n_features)\n",
    "            The input samples\n",
    "\n",
    "        Returns:\n",
    "        --------\n",
    "        y : array-like, shape (n_samples,)\n",
    "            The predicted classes (0 or 1)\n",
    "        \"\"\"\n",
    "        X = np.asarray(X)\n",
    "        if X.shape[1] != self.n_features_:\n",
    "            raise ValueError(f\"Expected {self.n_features_} features, got {X.shape[1]}\")\n",
    "\n",
    "        if self.aggregation_method == 'displacement':\n",
    "            # Sum signed displacements across all models\n",
    "            total_displacement = np.zeros(X.shape[0])\n",
    "            for idx, model in enumerate(self.models_):\n",
    "                feature_idx = idx if idx < self.target_idx_ else idx + 1  # Adjust for skipped target\n",
    "                X_2d = X[:, [feature_idx, self.target_idx_]]\n",
    "                displacements = model._calculate_displacement(X_2d) * model.class_1_pseudo\n",
    "                total_displacement += displacements\n",
    "            # Positive total displacement -> class 1, negative -> class 0\n",
    "            return np.where(total_displacement > 0, 1, 0)\n",
    "        else:  # 'proba'\n",
    "            # Average probabilities across all models\n",
    "            proba = self.predict_proba(X)\n",
    "            return np.argmax(proba, axis=1)\n",
    "\n",
    "    def predict_proba(self, X):\n",
    "        \"\"\"\n",
    "        Estimate probability of each class for samples in X.\n",
    "\n",
    "        Parameters:\n",
    "        -----------\n",
    "        X : array-like, shape (n_samples, n_features)\n",
    "            The input samples\n",
    "\n",
    "        Returns:\n",
    "        --------\n",
    "        proba : array-like, shape (n_samples, 2)\n",
    "            The class probabilities\n",
    "        \"\"\"\n",
    "        X = np.asarray(X)\n",
    "        if X.shape[1] != self.n_features_:\n",
    "            raise ValueError(f\"Expected {self.n_features_} features, got {X.shape[1]}\")\n",
    "\n",
    "        # Collect probabilities from all models\n",
    "        probas = []\n",
    "        for idx, model in enumerate(self.models_):\n",
    "            feature_idx = idx if idx < self.target_idx_ else idx + 1\n",
    "            X_2d = X[:, [feature_idx, self.target_idx_]]\n",
    "            proba = model.predict_proba(X_2d)\n",
    "            probas.append(proba)\n",
    "\n",
    "        # Average probabilities\n",
    "        mean_proba = np.mean(np.stack(probas, axis=0), axis=0)\n",
    "        return mean_proba"
   ]
  },
  {
   "cell_type": "code",
   "execution_count": 25,
   "metadata": {},
   "outputs": [
    {
     "name": "stdout",
     "output_type": "stream",
     "text": [
      "Fitting 5 folds for each of 162 candidates, totalling 810 fits\n",
      "[CV] END aggregation_method=displacement, epochs=20, learning_rate=0.001, n_control_points=3, smoothing_factor=0.05; total time=   1.4s\n",
      "[CV] END aggregation_method=displacement, epochs=20, learning_rate=0.001, n_control_points=3, smoothing_factor=0.2; total time=   1.4s\n",
      "[CV] END aggregation_method=displacement, epochs=20, learning_rate=0.001, n_control_points=3, smoothing_factor=0.05; total time=   1.5s\n",
      "[CV] END aggregation_method=displacement, epochs=20, learning_rate=0.001, n_control_points=3, smoothing_factor=0.05; total time=   1.5s\n",
      "[CV] END aggregation_method=displacement, epochs=20, learning_rate=0.001, n_control_points=3, smoothing_factor=0.1; total time=   1.5s\n",
      "[CV] END aggregation_method=displacement, epochs=20, learning_rate=0.001, n_control_points=3, smoothing_factor=0.05; total time=   1.6s\n",
      "[CV] END aggregation_method=displacement, epochs=20, learning_rate=0.001, n_control_points=3, smoothing_factor=0.1; total time=   1.6s\n",
      "[CV] END aggregation_method=displacement, epochs=20, learning_rate=0.001, n_control_points=3, smoothing_factor=0.2; total time=   1.6s\n",
      "[CV] END aggregation_method=displacement, epochs=20, learning_rate=0.001, n_control_points=3, smoothing_factor=0.05; total time=   1.9s\n",
      "[CV] END aggregation_method=displacement, epochs=20, learning_rate=0.001, n_control_points=3, smoothing_factor=0.1; total time=   2.1s\n",
      "[CV] END aggregation_method=displacement, epochs=20, learning_rate=0.001, n_control_points=3, smoothing_factor=0.1; total time=   2.5s\n",
      "[CV] END aggregation_method=displacement, epochs=20, learning_rate=0.001, n_control_points=3, smoothing_factor=0.1; total time=   2.8s\n",
      "[CV] END aggregation_method=displacement, epochs=20, learning_rate=0.001, n_control_points=3, smoothing_factor=0.2; total time=   1.5s\n",
      "[CV] END aggregation_method=displacement, epochs=20, learning_rate=0.001, n_control_points=3, smoothing_factor=0.2; total time=   1.6s\n",
      "[CV] END aggregation_method=displacement, epochs=20, learning_rate=0.001, n_control_points=3, smoothing_factor=0.2; total time=   1.7s\n",
      "[CV] END aggregation_method=displacement, epochs=20, learning_rate=0.001, n_control_points=5, smoothing_factor=0.05; total time=   1.6s\n",
      "[CV] END aggregation_method=displacement, epochs=20, learning_rate=0.001, n_control_points=5, smoothing_factor=0.05; total time=   1.7s\n",
      "[CV] END aggregation_method=displacement, epochs=20, learning_rate=0.001, n_control_points=5, smoothing_factor=0.05; total time=   1.6s\n",
      "[CV] END aggregation_method=displacement, epochs=20, learning_rate=0.001, n_control_points=5, smoothing_factor=0.05; total time=   1.7s\n",
      "[CV] END aggregation_method=displacement, epochs=20, learning_rate=0.001, n_control_points=5, smoothing_factor=0.05; total time=   1.8s\n",
      "[CV] END aggregation_method=displacement, epochs=20, learning_rate=0.001, n_control_points=5, smoothing_factor=0.1; total time=   2.0s\n",
      "[CV] END aggregation_method=displacement, epochs=20, learning_rate=0.001, n_control_points=5, smoothing_factor=0.1; total time=   1.6s\n",
      "[CV] END aggregation_method=displacement, epochs=20, learning_rate=0.001, n_control_points=5, smoothing_factor=0.1; total time=   2.4s\n",
      "[CV] END aggregation_method=displacement, epochs=20, learning_rate=0.001, n_control_points=5, smoothing_factor=0.1; total time=   2.7s\n",
      "[CV] END aggregation_method=displacement, epochs=20, learning_rate=0.001, n_control_points=5, smoothing_factor=0.2; total time=   1.7s\n",
      "[CV] END aggregation_method=displacement, epochs=20, learning_rate=0.001, n_control_points=5, smoothing_factor=0.2; total time=   1.5s\n",
      "[CV] END aggregation_method=displacement, epochs=20, learning_rate=0.001, n_control_points=5, smoothing_factor=0.2; total time=   1.7s\n",
      "[CV] END aggregation_method=displacement, epochs=20, learning_rate=0.001, n_control_points=5, smoothing_factor=0.2; total time=   1.7s\n",
      "[CV] END aggregation_method=displacement, epochs=20, learning_rate=0.001, n_control_points=5, smoothing_factor=0.2; total time=   1.8s\n",
      "[CV] END aggregation_method=displacement, epochs=20, learning_rate=0.001, n_control_points=5, smoothing_factor=0.1; total time=   2.6s\n",
      "[CV] END aggregation_method=displacement, epochs=20, learning_rate=0.001, n_control_points=7, smoothing_factor=0.05; total time=   2.5s\n",
      "[CV] END aggregation_method=displacement, epochs=20, learning_rate=0.001, n_control_points=7, smoothing_factor=0.05; total time=   1.5s\n",
      "[CV] END aggregation_method=displacement, epochs=20, learning_rate=0.001, n_control_points=7, smoothing_factor=0.05; total time=   2.7s\n",
      "[CV] END aggregation_method=displacement, epochs=20, learning_rate=0.001, n_control_points=7, smoothing_factor=0.05; total time=   1.6s\n",
      "[CV] END aggregation_method=displacement, epochs=20, learning_rate=0.001, n_control_points=7, smoothing_factor=0.05; total time=   1.7s\n",
      "[CV] END aggregation_method=displacement, epochs=20, learning_rate=0.001, n_control_points=7, smoothing_factor=0.1; total time=   1.5s\n",
      "[CV] END aggregation_method=displacement, epochs=20, learning_rate=0.001, n_control_points=7, smoothing_factor=0.1; total time=   1.6s\n",
      "[CV] END aggregation_method=displacement, epochs=20, learning_rate=0.001, n_control_points=7, smoothing_factor=0.1; total time=   1.6s\n",
      "[CV] END aggregation_method=displacement, epochs=20, learning_rate=0.001, n_control_points=7, smoothing_factor=0.1; total time=   1.7s\n",
      "[CV] END aggregation_method=displacement, epochs=20, learning_rate=0.001, n_control_points=7, smoothing_factor=0.2; total time=   1.6s\n",
      "[CV] END aggregation_method=displacement, epochs=20, learning_rate=0.001, n_control_points=7, smoothing_factor=0.1; total time=   2.5s\n",
      "[CV] END aggregation_method=displacement, epochs=20, learning_rate=0.001, n_control_points=7, smoothing_factor=0.2; total time=   1.6s\n",
      "[CV] END aggregation_method=displacement, epochs=20, learning_rate=0.005, n_control_points=3, smoothing_factor=0.05; total time=   1.8s\n",
      "[CV] END aggregation_method=displacement, epochs=20, learning_rate=0.001, n_control_points=7, smoothing_factor=0.2; total time=   2.6s\n",
      "[CV] END aggregation_method=displacement, epochs=20, learning_rate=0.005, n_control_points=3, smoothing_factor=0.05; total time=   1.8s\n",
      "[CV] END aggregation_method=displacement, epochs=20, learning_rate=0.005, n_control_points=3, smoothing_factor=0.05; total time=   1.8s\n",
      "[CV] END aggregation_method=displacement, epochs=20, learning_rate=0.005, n_control_points=3, smoothing_factor=0.05; total time=   1.8s\n",
      "[CV] END aggregation_method=displacement, epochs=20, learning_rate=0.001, n_control_points=7, smoothing_factor=0.2; total time=   2.3s\n",
      "[CV] END aggregation_method=displacement, epochs=20, learning_rate=0.005, n_control_points=3, smoothing_factor=0.05; total time=   1.8s\n",
      "[CV] END aggregation_method=displacement, epochs=20, learning_rate=0.005, n_control_points=3, smoothing_factor=0.1; total time=   1.8s\n",
      "[CV] END aggregation_method=displacement, epochs=20, learning_rate=0.005, n_control_points=3, smoothing_factor=0.1; total time=   2.0s\n",
      "[CV] END aggregation_method=displacement, epochs=20, learning_rate=0.001, n_control_points=7, smoothing_factor=0.2; total time=   2.5s\n",
      "[CV] END aggregation_method=displacement, epochs=20, learning_rate=0.005, n_control_points=3, smoothing_factor=0.1; total time=   1.7s\n",
      "[CV] END aggregation_method=displacement, epochs=20, learning_rate=0.005, n_control_points=3, smoothing_factor=0.1; total time=   2.5s\n",
      "[CV] END aggregation_method=displacement, epochs=20, learning_rate=0.005, n_control_points=3, smoothing_factor=0.2; total time=   1.7s\n",
      "[CV] END aggregation_method=displacement, epochs=20, learning_rate=0.005, n_control_points=3, smoothing_factor=0.2; total time=   1.8s\n",
      "[CV] END aggregation_method=displacement, epochs=20, learning_rate=0.005, n_control_points=3, smoothing_factor=0.2; total time=   1.7s\n",
      "[CV] END aggregation_method=displacement, epochs=20, learning_rate=0.005, n_control_points=3, smoothing_factor=0.2; total time=   1.8s\n",
      "[CV] END aggregation_method=displacement, epochs=20, learning_rate=0.005, n_control_points=5, smoothing_factor=0.05; total time=   1.8s\n",
      "[CV] END aggregation_method=displacement, epochs=20, learning_rate=0.005, n_control_points=5, smoothing_factor=0.05; total time=   1.8s\n",
      "[CV] END aggregation_method=displacement, epochs=20, learning_rate=0.005, n_control_points=5, smoothing_factor=0.05; total time=   1.8s\n",
      "[CV] END aggregation_method=displacement, epochs=20, learning_rate=0.005, n_control_points=3, smoothing_factor=0.2; total time=   2.6s\n",
      "[CV] END aggregation_method=displacement, epochs=20, learning_rate=0.005, n_control_points=3, smoothing_factor=0.1; total time=   2.6s\n",
      "[CV] END aggregation_method=displacement, epochs=20, learning_rate=0.005, n_control_points=5, smoothing_factor=0.05; total time=   1.8s\n",
      "[CV] END aggregation_method=displacement, epochs=20, learning_rate=0.005, n_control_points=5, smoothing_factor=0.05; total time=   2.6s\n",
      "[CV] END aggregation_method=displacement, epochs=20, learning_rate=0.005, n_control_points=5, smoothing_factor=0.1; total time=   1.8s\n",
      "[CV] END aggregation_method=displacement, epochs=20, learning_rate=0.005, n_control_points=5, smoothing_factor=0.1; total time=   1.8s\n",
      "[CV] END aggregation_method=displacement, epochs=20, learning_rate=0.005, n_control_points=5, smoothing_factor=0.1; total time=   1.8s\n",
      "[CV] END aggregation_method=displacement, epochs=20, learning_rate=0.005, n_control_points=5, smoothing_factor=0.1; total time=   1.8s\n",
      "[CV] END aggregation_method=displacement, epochs=20, learning_rate=0.005, n_control_points=5, smoothing_factor=0.2; total time=   1.8s\n",
      "[CV] END aggregation_method=displacement, epochs=20, learning_rate=0.005, n_control_points=5, smoothing_factor=0.2; total time=   1.8s\n",
      "[CV] END aggregation_method=displacement, epochs=20, learning_rate=0.005, n_control_points=5, smoothing_factor=0.1; total time=   2.6s\n",
      "[CV] END aggregation_method=displacement, epochs=20, learning_rate=0.005, n_control_points=5, smoothing_factor=0.2; total time=   1.8s\n",
      "[CV] END aggregation_method=displacement, epochs=20, learning_rate=0.005, n_control_points=7, smoothing_factor=0.05; total time=   1.6s\n",
      "[CV] END aggregation_method=displacement, epochs=20, learning_rate=0.005, n_control_points=5, smoothing_factor=0.2; total time=   2.6s\n",
      "[CV] END aggregation_method=displacement, epochs=20, learning_rate=0.005, n_control_points=7, smoothing_factor=0.05; total time=   1.6s\n",
      "[CV] END aggregation_method=displacement, epochs=20, learning_rate=0.005, n_control_points=5, smoothing_factor=0.2; total time=   2.6s\n",
      "[CV] END aggregation_method=displacement, epochs=20, learning_rate=0.005, n_control_points=7, smoothing_factor=0.05; total time=   1.7s\n",
      "[CV] END aggregation_method=displacement, epochs=20, learning_rate=0.005, n_control_points=7, smoothing_factor=0.1; total time=   1.6s\n",
      "[CV] END aggregation_method=displacement, epochs=20, learning_rate=0.005, n_control_points=7, smoothing_factor=0.05; total time=   1.8s\n",
      "[CV] END aggregation_method=displacement, epochs=20, learning_rate=0.005, n_control_points=7, smoothing_factor=0.1; total time=   1.6s\n",
      "[CV] END aggregation_method=displacement, epochs=20, learning_rate=0.005, n_control_points=7, smoothing_factor=0.1; total time=   1.6s\n",
      "[CV] END aggregation_method=displacement, epochs=20, learning_rate=0.005, n_control_points=7, smoothing_factor=0.05; total time=   2.4s\n",
      "[CV] END aggregation_method=displacement, epochs=20, learning_rate=0.005, n_control_points=7, smoothing_factor=0.1; total time=   1.7s\n",
      "[CV] END aggregation_method=displacement, epochs=20, learning_rate=0.005, n_control_points=7, smoothing_factor=0.2; total time=   1.5s\n",
      "[CV] END aggregation_method=displacement, epochs=20, learning_rate=0.005, n_control_points=7, smoothing_factor=0.1; total time=   2.6s\n",
      "[CV] END aggregation_method=displacement, epochs=20, learning_rate=0.005, n_control_points=7, smoothing_factor=0.2; total time=   1.6s\n",
      "[CV] END aggregation_method=displacement, epochs=20, learning_rate=0.005, n_control_points=7, smoothing_factor=0.2; total time=   1.7s\n",
      "[CV] END aggregation_method=displacement, epochs=20, learning_rate=0.01, n_control_points=3, smoothing_factor=0.05; total time=   1.8s\n",
      "[CV] END aggregation_method=displacement, epochs=20, learning_rate=0.01, n_control_points=3, smoothing_factor=0.05; total time=   1.8s\n",
      "[CV] END aggregation_method=displacement, epochs=20, learning_rate=0.01, n_control_points=3, smoothing_factor=0.05; total time=   1.8s\n",
      "[CV] END aggregation_method=displacement, epochs=20, learning_rate=0.01, n_control_points=3, smoothing_factor=0.05; total time=   1.9s\n",
      "[CV] END aggregation_method=displacement, epochs=20, learning_rate=0.005, n_control_points=7, smoothing_factor=0.2; total time=   2.5s\n",
      "[CV] END aggregation_method=displacement, epochs=20, learning_rate=0.01, n_control_points=3, smoothing_factor=0.05; total time=   2.1s\n",
      "[CV] END aggregation_method=displacement, epochs=20, learning_rate=0.01, n_control_points=3, smoothing_factor=0.1; total time=   1.9s\n",
      "[CV] END aggregation_method=displacement, epochs=20, learning_rate=0.005, n_control_points=7, smoothing_factor=0.2; total time=   2.6s\n",
      "[CV] END aggregation_method=displacement, epochs=20, learning_rate=0.01, n_control_points=3, smoothing_factor=0.1; total time=   2.0s\n",
      "[CV] END aggregation_method=displacement, epochs=20, learning_rate=0.01, n_control_points=3, smoothing_factor=0.1; total time=   2.8s\n",
      "[CV] END aggregation_method=displacement, epochs=20, learning_rate=0.01, n_control_points=3, smoothing_factor=0.1; total time=   1.9s\n",
      "[CV] END aggregation_method=displacement, epochs=20, learning_rate=0.01, n_control_points=3, smoothing_factor=0.2; total time=   1.8s\n",
      "[CV] END aggregation_method=displacement, epochs=20, learning_rate=0.01, n_control_points=3, smoothing_factor=0.2; total time=   1.9s\n",
      "[CV] END aggregation_method=displacement, epochs=20, learning_rate=0.01, n_control_points=3, smoothing_factor=0.2; total time=   1.9s\n",
      "[CV] END aggregation_method=displacement, epochs=20, learning_rate=0.01, n_control_points=3, smoothing_factor=0.1; total time=   2.7s\n",
      "[CV] END aggregation_method=displacement, epochs=20, learning_rate=0.01, n_control_points=5, smoothing_factor=0.05; total time=   1.8s\n",
      "[CV] END aggregation_method=displacement, epochs=20, learning_rate=0.01, n_control_points=3, smoothing_factor=0.2; total time=   2.0s\n",
      "[CV] END aggregation_method=displacement, epochs=20, learning_rate=0.01, n_control_points=5, smoothing_factor=0.05; total time=   1.8s\n",
      "[CV] END aggregation_method=displacement, epochs=20, learning_rate=0.01, n_control_points=3, smoothing_factor=0.2; total time=   2.7s\n",
      "[CV] END aggregation_method=displacement, epochs=20, learning_rate=0.01, n_control_points=5, smoothing_factor=0.05; total time=   2.7s\n",
      "[CV] END aggregation_method=displacement, epochs=20, learning_rate=0.01, n_control_points=5, smoothing_factor=0.05; total time=   1.8s\n",
      "[CV] END aggregation_method=displacement, epochs=20, learning_rate=0.01, n_control_points=5, smoothing_factor=0.1; total time=   1.8s\n",
      "[CV] END aggregation_method=displacement, epochs=20, learning_rate=0.01, n_control_points=5, smoothing_factor=0.1; total time=   1.8s\n",
      "[CV] END aggregation_method=displacement, epochs=20, learning_rate=0.01, n_control_points=5, smoothing_factor=0.1; total time=   1.9s\n",
      "[CV] END aggregation_method=displacement, epochs=20, learning_rate=0.01, n_control_points=5, smoothing_factor=0.1; total time=   1.9s\n",
      "[CV] END aggregation_method=displacement, epochs=20, learning_rate=0.01, n_control_points=5, smoothing_factor=0.2; total time=   1.8s\n",
      "[CV] END aggregation_method=displacement, epochs=20, learning_rate=0.01, n_control_points=5, smoothing_factor=0.2; total time=   1.8s\n",
      "[CV] END aggregation_method=displacement, epochs=20, learning_rate=0.01, n_control_points=5, smoothing_factor=0.2; total time=   1.9s\n",
      "[CV] END aggregation_method=displacement, epochs=20, learning_rate=0.01, n_control_points=5, smoothing_factor=0.05; total time=   2.7s\n",
      "[CV] END aggregation_method=displacement, epochs=20, learning_rate=0.01, n_control_points=5, smoothing_factor=0.1; total time=   2.6s\n",
      "[CV] END aggregation_method=displacement, epochs=20, learning_rate=0.01, n_control_points=7, smoothing_factor=0.05; total time=   1.8s\n",
      "[CV] END aggregation_method=displacement, epochs=20, learning_rate=0.01, n_control_points=7, smoothing_factor=0.05; total time=   1.8s\n",
      "[CV] END aggregation_method=displacement, epochs=20, learning_rate=0.01, n_control_points=7, smoothing_factor=0.05; total time=   1.7s\n",
      "[CV] END aggregation_method=displacement, epochs=20, learning_rate=0.01, n_control_points=7, smoothing_factor=0.05; total time=   1.8s\n",
      "[CV] END aggregation_method=displacement, epochs=20, learning_rate=0.01, n_control_points=5, smoothing_factor=0.2; total time=   2.6s\n",
      "[CV] END aggregation_method=displacement, epochs=20, learning_rate=0.01, n_control_points=7, smoothing_factor=0.05; total time=   1.8s\n",
      "[CV] END aggregation_method=displacement, epochs=20, learning_rate=0.01, n_control_points=7, smoothing_factor=0.1; total time=   1.8s\n",
      "[CV] END aggregation_method=displacement, epochs=20, learning_rate=0.01, n_control_points=7, smoothing_factor=0.1; total time=   1.7s\n",
      "[CV] END aggregation_method=displacement, epochs=20, learning_rate=0.01, n_control_points=5, smoothing_factor=0.2; total time=   2.6s\n",
      "[CV] END aggregation_method=displacement, epochs=20, learning_rate=0.01, n_control_points=7, smoothing_factor=0.1; total time=   1.9s\n",
      "[CV] END aggregation_method=displacement, epochs=20, learning_rate=0.01, n_control_points=7, smoothing_factor=0.2; total time=   1.8s\n",
      "[CV] END aggregation_method=displacement, epochs=20, learning_rate=0.01, n_control_points=7, smoothing_factor=0.2; total time=   1.8s\n",
      "[CV] END aggregation_method=displacement, epochs=20, learning_rate=0.01, n_control_points=7, smoothing_factor=0.1; total time=   2.7s\n",
      "[CV] END aggregation_method=displacement, epochs=20, learning_rate=0.01, n_control_points=7, smoothing_factor=0.2; total time=   1.8s\n",
      "[CV] END aggregation_method=displacement, epochs=20, learning_rate=0.01, n_control_points=7, smoothing_factor=0.2; total time=   1.8s\n",
      "[CV] END aggregation_method=displacement, epochs=20, learning_rate=0.01, n_control_points=7, smoothing_factor=0.1; total time=   2.7s\n",
      "[CV] END aggregation_method=displacement, epochs=20, learning_rate=0.01, n_control_points=7, smoothing_factor=0.2; total time=   2.6s\n",
      "[CV] END aggregation_method=displacement, epochs=50, learning_rate=0.001, n_control_points=3, smoothing_factor=0.05; total time=   2.9s\n",
      "[CV] END aggregation_method=displacement, epochs=50, learning_rate=0.001, n_control_points=3, smoothing_factor=0.05; total time=   3.5s\n",
      "[CV] END aggregation_method=displacement, epochs=50, learning_rate=0.001, n_control_points=3, smoothing_factor=0.05; total time=   3.6s\n",
      "[CV] END aggregation_method=displacement, epochs=50, learning_rate=0.001, n_control_points=3, smoothing_factor=0.05; total time=   3.6s\n",
      "[CV] END aggregation_method=displacement, epochs=50, learning_rate=0.001, n_control_points=3, smoothing_factor=0.1; total time=   2.9s\n",
      "[CV] END aggregation_method=displacement, epochs=50, learning_rate=0.001, n_control_points=3, smoothing_factor=0.1; total time=   3.7s\n",
      "[CV] END aggregation_method=displacement, epochs=50, learning_rate=0.001, n_control_points=3, smoothing_factor=0.1; total time=   3.6s\n",
      "[CV] END aggregation_method=displacement, epochs=50, learning_rate=0.001, n_control_points=3, smoothing_factor=0.1; total time=   3.7s\n",
      "[CV] END aggregation_method=displacement, epochs=50, learning_rate=0.001, n_control_points=3, smoothing_factor=0.05; total time=   5.5s\n",
      "[CV] END aggregation_method=displacement, epochs=50, learning_rate=0.001, n_control_points=3, smoothing_factor=0.2; total time=   4.2s\n",
      "[CV] END aggregation_method=displacement, epochs=50, learning_rate=0.001, n_control_points=3, smoothing_factor=0.2; total time=   3.6s\n",
      "[CV] END aggregation_method=displacement, epochs=50, learning_rate=0.001, n_control_points=3, smoothing_factor=0.1; total time=   5.4s\n",
      "[CV] END aggregation_method=displacement, epochs=50, learning_rate=0.001, n_control_points=3, smoothing_factor=0.2; total time=   3.6s\n",
      "[CV] END aggregation_method=displacement, epochs=50, learning_rate=0.001, n_control_points=5, smoothing_factor=0.05; total time=   3.6s\n",
      "[CV] END aggregation_method=displacement, epochs=50, learning_rate=0.001, n_control_points=5, smoothing_factor=0.05; total time=   3.9s\n",
      "[CV] END aggregation_method=displacement, epochs=50, learning_rate=0.001, n_control_points=3, smoothing_factor=0.2; total time=   5.5s\n",
      "[CV] END aggregation_method=displacement, epochs=50, learning_rate=0.001, n_control_points=5, smoothing_factor=0.05; total time=   3.2s\n",
      "[CV] END aggregation_method=displacement, epochs=50, learning_rate=0.001, n_control_points=3, smoothing_factor=0.2; total time=   4.7s\n",
      "[CV] END aggregation_method=displacement, epochs=50, learning_rate=0.001, n_control_points=5, smoothing_factor=0.05; total time=   3.5s\n",
      "[CV] END aggregation_method=displacement, epochs=50, learning_rate=0.001, n_control_points=5, smoothing_factor=0.05; total time=   3.5s\n",
      "[CV] END aggregation_method=displacement, epochs=50, learning_rate=0.001, n_control_points=5, smoothing_factor=0.1; total time=   3.6s\n",
      "[CV] END aggregation_method=displacement, epochs=50, learning_rate=0.001, n_control_points=5, smoothing_factor=0.1; total time=   3.6s\n",
      "[CV] END aggregation_method=displacement, epochs=50, learning_rate=0.001, n_control_points=5, smoothing_factor=0.1; total time=   3.5s\n",
      "[CV] END aggregation_method=displacement, epochs=50, learning_rate=0.001, n_control_points=5, smoothing_factor=0.1; total time=   5.9s\n",
      "[CV] END aggregation_method=displacement, epochs=50, learning_rate=0.001, n_control_points=5, smoothing_factor=0.2; total time=   3.6s\n",
      "[CV] END aggregation_method=displacement, epochs=50, learning_rate=0.001, n_control_points=5, smoothing_factor=0.1; total time=   5.0s\n",
      "[CV] END aggregation_method=displacement, epochs=50, learning_rate=0.001, n_control_points=5, smoothing_factor=0.2; total time=   3.5s\n",
      "[CV] END aggregation_method=displacement, epochs=50, learning_rate=0.001, n_control_points=5, smoothing_factor=0.2; total time=   4.1s\n",
      "[CV] END aggregation_method=displacement, epochs=50, learning_rate=0.001, n_control_points=7, smoothing_factor=0.05; total time=   3.8s\n",
      "[CV] END aggregation_method=displacement, epochs=50, learning_rate=0.001, n_control_points=7, smoothing_factor=0.05; total time=   4.3s\n",
      "[CV] END aggregation_method=displacement, epochs=50, learning_rate=0.001, n_control_points=7, smoothing_factor=0.05; total time=   3.3s\n",
      "[CV] END aggregation_method=displacement, epochs=50, learning_rate=0.001, n_control_points=5, smoothing_factor=0.2; total time=   5.3s\n",
      "[CV] END aggregation_method=displacement, epochs=50, learning_rate=0.001, n_control_points=5, smoothing_factor=0.2; total time=   5.2s\n",
      "[CV] END aggregation_method=displacement, epochs=50, learning_rate=0.001, n_control_points=7, smoothing_factor=0.05; total time=   3.8s\n",
      "[CV] END aggregation_method=displacement, epochs=50, learning_rate=0.001, n_control_points=7, smoothing_factor=0.05; total time=   3.3s\n",
      "[CV] END aggregation_method=displacement, epochs=50, learning_rate=0.001, n_control_points=7, smoothing_factor=0.1; total time=   3.4s\n",
      "[CV] END aggregation_method=displacement, epochs=50, learning_rate=0.001, n_control_points=7, smoothing_factor=0.1; total time=   3.7s\n",
      "[CV] END aggregation_method=displacement, epochs=50, learning_rate=0.001, n_control_points=7, smoothing_factor=0.1; total time=   4.0s\n",
      "[CV] END aggregation_method=displacement, epochs=50, learning_rate=0.001, n_control_points=7, smoothing_factor=0.2; total time=   3.8s\n",
      "[CV] END aggregation_method=displacement, epochs=50, learning_rate=0.001, n_control_points=7, smoothing_factor=0.2; total time=   3.3s\n",
      "[CV] END aggregation_method=displacement, epochs=50, learning_rate=0.001, n_control_points=7, smoothing_factor=0.1; total time=   5.0s\n",
      "[CV] END aggregation_method=displacement, epochs=50, learning_rate=0.001, n_control_points=7, smoothing_factor=0.2; total time=   4.0s\n",
      "[CV] END aggregation_method=displacement, epochs=50, learning_rate=0.001, n_control_points=7, smoothing_factor=0.1; total time=   5.6s\n",
      "[CV] END aggregation_method=displacement, epochs=50, learning_rate=0.005, n_control_points=3, smoothing_factor=0.05; total time=   4.6s\n",
      "[CV] END aggregation_method=displacement, epochs=50, learning_rate=0.001, n_control_points=7, smoothing_factor=0.2; total time=   5.1s\n",
      "[CV] END aggregation_method=displacement, epochs=50, learning_rate=0.005, n_control_points=3, smoothing_factor=0.05; total time=   4.6s\n",
      "[CV] END aggregation_method=displacement, epochs=50, learning_rate=0.001, n_control_points=7, smoothing_factor=0.2; total time=   5.7s\n",
      "[CV] END aggregation_method=displacement, epochs=50, learning_rate=0.005, n_control_points=3, smoothing_factor=0.05; total time=   4.5s\n",
      "[CV] END aggregation_method=displacement, epochs=50, learning_rate=0.005, n_control_points=3, smoothing_factor=0.05; total time=   4.7s\n",
      "[CV] END aggregation_method=displacement, epochs=50, learning_rate=0.005, n_control_points=3, smoothing_factor=0.05; total time=   4.7s\n",
      "[CV] END aggregation_method=displacement, epochs=50, learning_rate=0.005, n_control_points=3, smoothing_factor=0.1; total time=   4.6s\n",
      "[CV] END aggregation_method=displacement, epochs=50, learning_rate=0.005, n_control_points=3, smoothing_factor=0.1; total time=   4.6s\n",
      "[CV] END aggregation_method=displacement, epochs=50, learning_rate=0.005, n_control_points=3, smoothing_factor=0.1; total time=   4.4s\n",
      "[CV] END aggregation_method=displacement, epochs=50, learning_rate=0.005, n_control_points=3, smoothing_factor=0.2; total time=   4.3s\n",
      "[CV] END aggregation_method=displacement, epochs=50, learning_rate=0.005, n_control_points=3, smoothing_factor=0.2; total time=   4.6s\n",
      "[CV] END aggregation_method=displacement, epochs=50, learning_rate=0.005, n_control_points=3, smoothing_factor=0.1; total time=   6.4s\n",
      "[CV] END aggregation_method=displacement, epochs=50, learning_rate=0.005, n_control_points=3, smoothing_factor=0.1; total time=   6.7s\n",
      "[CV] END aggregation_method=displacement, epochs=50, learning_rate=0.005, n_control_points=3, smoothing_factor=0.2; total time=   4.6s\n",
      "[CV] END aggregation_method=displacement, epochs=50, learning_rate=0.005, n_control_points=5, smoothing_factor=0.05; total time=   4.6s\n",
      "[CV] END aggregation_method=displacement, epochs=50, learning_rate=0.005, n_control_points=5, smoothing_factor=0.05; total time=   4.6s\n",
      "[CV] END aggregation_method=displacement, epochs=50, learning_rate=0.005, n_control_points=5, smoothing_factor=0.05; total time=   4.2s\n",
      "[CV] END aggregation_method=displacement, epochs=50, learning_rate=0.005, n_control_points=3, smoothing_factor=0.2; total time=   6.8s\n",
      "[CV] END aggregation_method=displacement, epochs=50, learning_rate=0.005, n_control_points=5, smoothing_factor=0.05; total time=   4.6s\n",
      "[CV] END aggregation_method=displacement, epochs=50, learning_rate=0.005, n_control_points=3, smoothing_factor=0.2; total time=   6.4s\n",
      "[CV] END aggregation_method=displacement, epochs=50, learning_rate=0.005, n_control_points=5, smoothing_factor=0.05; total time=   4.4s\n",
      "[CV] END aggregation_method=displacement, epochs=50, learning_rate=0.005, n_control_points=5, smoothing_factor=0.1; total time=   4.6s\n",
      "[CV] END aggregation_method=displacement, epochs=50, learning_rate=0.005, n_control_points=5, smoothing_factor=0.1; total time=   4.5s\n",
      "[CV] END aggregation_method=displacement, epochs=50, learning_rate=0.005, n_control_points=5, smoothing_factor=0.1; total time=   4.1s\n",
      "[CV] END aggregation_method=displacement, epochs=50, learning_rate=0.005, n_control_points=5, smoothing_factor=0.2; total time=   4.4s\n",
      "[CV] END aggregation_method=displacement, epochs=50, learning_rate=0.005, n_control_points=5, smoothing_factor=0.2; total time=   4.5s\n",
      "[CV] END aggregation_method=displacement, epochs=50, learning_rate=0.005, n_control_points=5, smoothing_factor=0.1; total time=   6.2s\n",
      "[CV] END aggregation_method=displacement, epochs=50, learning_rate=0.005, n_control_points=5, smoothing_factor=0.2; total time=   4.4s\n",
      "[CV] END aggregation_method=displacement, epochs=50, learning_rate=0.005, n_control_points=5, smoothing_factor=0.2; total time=   4.5s\n",
      "[CV] END aggregation_method=displacement, epochs=50, learning_rate=0.005, n_control_points=5, smoothing_factor=0.1; total time=   6.3s\n",
      "[CV] END aggregation_method=displacement, epochs=50, learning_rate=0.005, n_control_points=7, smoothing_factor=0.05; total time=   5.2s\n",
      "[CV] END aggregation_method=displacement, epochs=50, learning_rate=0.005, n_control_points=7, smoothing_factor=0.05; total time=   5.8s\n",
      "[CV] END aggregation_method=displacement, epochs=50, learning_rate=0.005, n_control_points=7, smoothing_factor=0.05; total time=   4.1s\n",
      "[CV] END aggregation_method=displacement, epochs=50, learning_rate=0.005, n_control_points=5, smoothing_factor=0.2; total time=   6.5s\n",
      "[CV] END aggregation_method=displacement, epochs=50, learning_rate=0.005, n_control_points=7, smoothing_factor=0.05; total time=   3.9s\n",
      "[CV] END aggregation_method=displacement, epochs=50, learning_rate=0.005, n_control_points=7, smoothing_factor=0.05; total time=   5.4s\n",
      "[CV] END aggregation_method=displacement, epochs=50, learning_rate=0.005, n_control_points=7, smoothing_factor=0.1; total time=   3.8s\n",
      "[CV] END aggregation_method=displacement, epochs=50, learning_rate=0.005, n_control_points=7, smoothing_factor=0.1; total time=   4.0s\n",
      "[CV] END aggregation_method=displacement, epochs=50, learning_rate=0.005, n_control_points=7, smoothing_factor=0.1; total time=   4.2s\n",
      "[CV] END aggregation_method=displacement, epochs=50, learning_rate=0.005, n_control_points=7, smoothing_factor=0.1; total time=   4.3s\n",
      "[CV] END aggregation_method=displacement, epochs=50, learning_rate=0.005, n_control_points=7, smoothing_factor=0.1; total time=   4.7s\n",
      "[CV] END aggregation_method=displacement, epochs=50, learning_rate=0.005, n_control_points=7, smoothing_factor=0.2; total time=   4.1s\n",
      "[CV] END aggregation_method=displacement, epochs=50, learning_rate=0.005, n_control_points=7, smoothing_factor=0.2; total time=   4.9s\n",
      "[CV] END aggregation_method=displacement, epochs=50, learning_rate=0.005, n_control_points=7, smoothing_factor=0.2; total time=   6.0s\n",
      "[CV] END aggregation_method=displacement, epochs=50, learning_rate=0.005, n_control_points=7, smoothing_factor=0.2; total time=   4.8s\n",
      "[CV] END aggregation_method=displacement, epochs=50, learning_rate=0.01, n_control_points=3, smoothing_factor=0.05; total time=   4.4s\n",
      "[CV] END aggregation_method=displacement, epochs=50, learning_rate=0.005, n_control_points=7, smoothing_factor=0.2; total time=   5.5s\n",
      "[CV] END aggregation_method=displacement, epochs=50, learning_rate=0.01, n_control_points=3, smoothing_factor=0.05; total time=   4.3s\n",
      "[CV] END aggregation_method=displacement, epochs=50, learning_rate=0.01, n_control_points=3, smoothing_factor=0.05; total time=   4.7s\n",
      "[CV] END aggregation_method=displacement, epochs=50, learning_rate=0.01, n_control_points=3, smoothing_factor=0.1; total time=   4.5s\n",
      "[CV] END aggregation_method=displacement, epochs=50, learning_rate=0.01, n_control_points=3, smoothing_factor=0.05; total time=   5.1s\n",
      "[CV] END aggregation_method=displacement, epochs=50, learning_rate=0.01, n_control_points=3, smoothing_factor=0.1; total time=   4.6s\n",
      "[CV] END aggregation_method=displacement, epochs=50, learning_rate=0.01, n_control_points=3, smoothing_factor=0.05; total time=   6.9s\n",
      "[CV] END aggregation_method=displacement, epochs=50, learning_rate=0.01, n_control_points=3, smoothing_factor=0.1; total time=   4.9s\n",
      "[CV] END aggregation_method=displacement, epochs=50, learning_rate=0.01, n_control_points=3, smoothing_factor=0.2; total time=   4.3s\n",
      "[CV] END aggregation_method=displacement, epochs=50, learning_rate=0.01, n_control_points=3, smoothing_factor=0.1; total time=   7.0s\n",
      "[CV] END aggregation_method=displacement, epochs=50, learning_rate=0.01, n_control_points=3, smoothing_factor=0.2; total time=   4.5s\n",
      "[CV] END aggregation_method=displacement, epochs=50, learning_rate=0.01, n_control_points=3, smoothing_factor=0.2; total time=   4.8s\n",
      "[CV] END aggregation_method=displacement, epochs=50, learning_rate=0.01, n_control_points=3, smoothing_factor=0.2; total time=   4.8s\n",
      "[CV] END aggregation_method=displacement, epochs=50, learning_rate=0.01, n_control_points=3, smoothing_factor=0.1; total time=   7.0s\n",
      "[CV] END aggregation_method=displacement, epochs=50, learning_rate=0.01, n_control_points=3, smoothing_factor=0.2; total time=   6.9s\n",
      "[CV] END aggregation_method=displacement, epochs=50, learning_rate=0.01, n_control_points=5, smoothing_factor=0.05; total time=   4.8s\n",
      "[CV] END aggregation_method=displacement, epochs=50, learning_rate=0.01, n_control_points=5, smoothing_factor=0.05; total time=   4.8s\n",
      "[CV] END aggregation_method=displacement, epochs=50, learning_rate=0.01, n_control_points=5, smoothing_factor=0.05; total time=   4.5s\n",
      "[CV] END aggregation_method=displacement, epochs=50, learning_rate=0.01, n_control_points=5, smoothing_factor=0.05; total time=   4.6s\n",
      "[CV] END aggregation_method=displacement, epochs=50, learning_rate=0.01, n_control_points=5, smoothing_factor=0.1; total time=   4.9s\n",
      "[CV] END aggregation_method=displacement, epochs=50, learning_rate=0.01, n_control_points=5, smoothing_factor=0.1; total time=   4.9s\n",
      "[CV] END aggregation_method=displacement, epochs=50, learning_rate=0.01, n_control_points=5, smoothing_factor=0.05; total time=   6.9s\n",
      "[CV] END aggregation_method=displacement, epochs=50, learning_rate=0.01, n_control_points=5, smoothing_factor=0.1; total time=   4.8s\n",
      "[CV] END aggregation_method=displacement, epochs=50, learning_rate=0.01, n_control_points=5, smoothing_factor=0.1; total time=   4.5s\n",
      "[CV] END aggregation_method=displacement, epochs=50, learning_rate=0.01, n_control_points=5, smoothing_factor=0.2; total time=   4.5s\n",
      "[CV] END aggregation_method=displacement, epochs=50, learning_rate=0.01, n_control_points=5, smoothing_factor=0.1; total time=   6.8s\n",
      "[CV] END aggregation_method=displacement, epochs=50, learning_rate=0.01, n_control_points=5, smoothing_factor=0.2; total time=   4.8s\n",
      "[CV] END aggregation_method=displacement, epochs=50, learning_rate=0.01, n_control_points=5, smoothing_factor=0.2; total time=   4.5s\n",
      "[CV] END aggregation_method=displacement, epochs=50, learning_rate=0.01, n_control_points=7, smoothing_factor=0.05; total time=   4.0s\n",
      "[CV] END aggregation_method=displacement, epochs=50, learning_rate=0.01, n_control_points=5, smoothing_factor=0.2; total time=   6.8s\n",
      "[CV] END aggregation_method=displacement, epochs=50, learning_rate=0.01, n_control_points=5, smoothing_factor=0.2; total time=   7.2s\n",
      "[CV] END aggregation_method=displacement, epochs=50, learning_rate=0.01, n_control_points=7, smoothing_factor=0.05; total time=   4.6s\n",
      "[CV] END aggregation_method=displacement, epochs=50, learning_rate=0.01, n_control_points=7, smoothing_factor=0.05; total time=   4.7s\n",
      "[CV] END aggregation_method=displacement, epochs=50, learning_rate=0.01, n_control_points=7, smoothing_factor=0.05; total time=   4.5s\n",
      "[CV] END aggregation_method=displacement, epochs=50, learning_rate=0.01, n_control_points=7, smoothing_factor=0.1; total time=   4.3s\n",
      "[CV] END aggregation_method=displacement, epochs=50, learning_rate=0.01, n_control_points=7, smoothing_factor=0.1; total time=   4.5s\n",
      "[CV] END aggregation_method=displacement, epochs=50, learning_rate=0.01, n_control_points=7, smoothing_factor=0.1; total time=   4.8s\n",
      "[CV] END aggregation_method=displacement, epochs=50, learning_rate=0.01, n_control_points=7, smoothing_factor=0.1; total time=   4.3s\n",
      "[CV] END aggregation_method=displacement, epochs=50, learning_rate=0.01, n_control_points=7, smoothing_factor=0.2; total time=   4.2s\n",
      "[CV] END aggregation_method=displacement, epochs=50, learning_rate=0.01, n_control_points=7, smoothing_factor=0.05; total time=   6.7s\n",
      "[CV] END aggregation_method=displacement, epochs=100, learning_rate=0.001, n_control_points=3, smoothing_factor=0.05; total time=   3.3s\n",
      "[CV] END aggregation_method=displacement, epochs=50, learning_rate=0.01, n_control_points=7, smoothing_factor=0.1; total time=   6.8s\n",
      "[CV] END aggregation_method=displacement, epochs=50, learning_rate=0.01, n_control_points=7, smoothing_factor=0.2; total time=   4.7s\n",
      "[CV] END aggregation_method=displacement, epochs=100, learning_rate=0.001, n_control_points=3, smoothing_factor=0.05; total time=   3.9s\n",
      "[CV] END aggregation_method=displacement, epochs=50, learning_rate=0.01, n_control_points=7, smoothing_factor=0.2; total time=   4.5s\n",
      "[CV] END aggregation_method=displacement, epochs=100, learning_rate=0.001, n_control_points=3, smoothing_factor=0.05; total time=   3.8s\n",
      "[CV] END aggregation_method=displacement, epochs=50, learning_rate=0.01, n_control_points=7, smoothing_factor=0.2; total time=   6.7s\n",
      "[CV] END aggregation_method=displacement, epochs=100, learning_rate=0.001, n_control_points=3, smoothing_factor=0.1; total time=   3.2s\n",
      "[CV] END aggregation_method=displacement, epochs=50, learning_rate=0.01, n_control_points=7, smoothing_factor=0.2; total time=   6.7s\n",
      "[CV] END aggregation_method=displacement, epochs=100, learning_rate=0.001, n_control_points=3, smoothing_factor=0.05; total time=   4.2s\n",
      "[CV] END aggregation_method=displacement, epochs=100, learning_rate=0.001, n_control_points=3, smoothing_factor=0.05; total time=   4.1s\n",
      "[CV] END aggregation_method=displacement, epochs=100, learning_rate=0.001, n_control_points=3, smoothing_factor=0.2; total time=   3.2s\n",
      "[CV] END aggregation_method=displacement, epochs=100, learning_rate=0.001, n_control_points=3, smoothing_factor=0.1; total time=   4.0s\n",
      "[CV] END aggregation_method=displacement, epochs=100, learning_rate=0.001, n_control_points=3, smoothing_factor=0.1; total time=   4.1s\n",
      "[CV] END aggregation_method=displacement, epochs=100, learning_rate=0.001, n_control_points=3, smoothing_factor=0.1; total time=   5.9s\n",
      "[CV] END aggregation_method=displacement, epochs=100, learning_rate=0.001, n_control_points=3, smoothing_factor=0.2; total time=   4.0s\n",
      "[CV] END aggregation_method=displacement, epochs=100, learning_rate=0.001, n_control_points=3, smoothing_factor=0.2; total time=   3.9s\n",
      "[CV] END aggregation_method=displacement, epochs=100, learning_rate=0.001, n_control_points=3, smoothing_factor=0.2; total time=   3.9s\n",
      "[CV] END aggregation_method=displacement, epochs=100, learning_rate=0.001, n_control_points=3, smoothing_factor=0.1; total time=   6.0s\n",
      "[CV] END aggregation_method=displacement, epochs=100, learning_rate=0.001, n_control_points=5, smoothing_factor=0.05; total time=   3.8s\n",
      "[CV] END aggregation_method=displacement, epochs=100, learning_rate=0.001, n_control_points=5, smoothing_factor=0.05; total time=   3.9s\n",
      "[CV] END aggregation_method=displacement, epochs=100, learning_rate=0.001, n_control_points=5, smoothing_factor=0.05; total time=   3.6s\n",
      "[CV] END aggregation_method=displacement, epochs=100, learning_rate=0.001, n_control_points=5, smoothing_factor=0.05; total time=   3.8s\n",
      "[CV] END aggregation_method=displacement, epochs=100, learning_rate=0.001, n_control_points=3, smoothing_factor=0.2; total time=   6.0s\n",
      "[CV] END aggregation_method=displacement, epochs=100, learning_rate=0.001, n_control_points=5, smoothing_factor=0.05; total time=   6.2s\n",
      "[CV] END aggregation_method=displacement, epochs=100, learning_rate=0.001, n_control_points=5, smoothing_factor=0.1; total time=   4.3s\n",
      "[CV] END aggregation_method=displacement, epochs=100, learning_rate=0.001, n_control_points=5, smoothing_factor=0.1; total time=   3.9s\n",
      "[CV] END aggregation_method=displacement, epochs=100, learning_rate=0.001, n_control_points=5, smoothing_factor=0.1; total time=   3.6s\n",
      "[CV] END aggregation_method=displacement, epochs=100, learning_rate=0.001, n_control_points=5, smoothing_factor=0.1; total time=   3.7s\n",
      "[CV] END aggregation_method=displacement, epochs=100, learning_rate=0.001, n_control_points=5, smoothing_factor=0.2; total time=   3.9s\n",
      "[CV] END aggregation_method=displacement, epochs=100, learning_rate=0.001, n_control_points=5, smoothing_factor=0.2; total time=   3.9s\n",
      "[CV] END aggregation_method=displacement, epochs=100, learning_rate=0.001, n_control_points=5, smoothing_factor=0.1; total time=   5.6s\n",
      "[CV] END aggregation_method=displacement, epochs=100, learning_rate=0.001, n_control_points=5, smoothing_factor=0.2; total time=   3.6s\n",
      "[CV] END aggregation_method=displacement, epochs=100, learning_rate=0.001, n_control_points=5, smoothing_factor=0.2; total time=   3.8s\n",
      "[CV] END aggregation_method=displacement, epochs=100, learning_rate=0.001, n_control_points=5, smoothing_factor=0.2; total time=   6.2s\n",
      "[CV] END aggregation_method=displacement, epochs=100, learning_rate=0.001, n_control_points=7, smoothing_factor=0.05; total time=   3.6s\n",
      "[CV] END aggregation_method=displacement, epochs=100, learning_rate=0.001, n_control_points=7, smoothing_factor=0.05; total time=   3.8s\n",
      "[CV] END aggregation_method=displacement, epochs=100, learning_rate=0.001, n_control_points=7, smoothing_factor=0.05; total time=   4.0s\n",
      "[CV] END aggregation_method=displacement, epochs=100, learning_rate=0.001, n_control_points=7, smoothing_factor=0.1; total time=   4.1s\n",
      "[CV] END aggregation_method=displacement, epochs=100, learning_rate=0.001, n_control_points=7, smoothing_factor=0.05; total time=   6.1s\n",
      "[CV] END aggregation_method=displacement, epochs=100, learning_rate=0.001, n_control_points=7, smoothing_factor=0.1; total time=   3.8s\n",
      "[CV] END aggregation_method=displacement, epochs=100, learning_rate=0.001, n_control_points=7, smoothing_factor=0.1; total time=   4.4s\n",
      "[CV] END aggregation_method=displacement, epochs=100, learning_rate=0.001, n_control_points=7, smoothing_factor=0.05; total time=   6.4s\n",
      "[CV] END aggregation_method=displacement, epochs=100, learning_rate=0.001, n_control_points=7, smoothing_factor=0.1; total time=   3.8s\n",
      "[CV] END aggregation_method=displacement, epochs=100, learning_rate=0.001, n_control_points=7, smoothing_factor=0.2; total time=   4.3s\n",
      "[CV] END aggregation_method=displacement, epochs=100, learning_rate=0.001, n_control_points=7, smoothing_factor=0.2; total time=   3.7s\n",
      "[CV] END aggregation_method=displacement, epochs=100, learning_rate=0.001, n_control_points=7, smoothing_factor=0.1; total time=   6.0s\n",
      "[CV] END aggregation_method=displacement, epochs=100, learning_rate=0.001, n_control_points=7, smoothing_factor=0.2; total time=   4.0s\n",
      "[CV] END aggregation_method=displacement, epochs=100, learning_rate=0.001, n_control_points=7, smoothing_factor=0.2; total time=   3.9s\n",
      "[CV] END aggregation_method=displacement, epochs=100, learning_rate=0.001, n_control_points=7, smoothing_factor=0.2; total time=   6.4s\n",
      "[CV] END aggregation_method=displacement, epochs=100, learning_rate=0.005, n_control_points=3, smoothing_factor=0.05; total time=   6.2s\n",
      "[CV] END aggregation_method=displacement, epochs=100, learning_rate=0.005, n_control_points=3, smoothing_factor=0.05; total time=   6.1s\n",
      "[CV] END aggregation_method=displacement, epochs=100, learning_rate=0.005, n_control_points=3, smoothing_factor=0.1; total time=   6.2s\n",
      "[CV] END aggregation_method=displacement, epochs=100, learning_rate=0.005, n_control_points=3, smoothing_factor=0.05; total time=   6.9s\n",
      "[CV] END aggregation_method=displacement, epochs=100, learning_rate=0.005, n_control_points=3, smoothing_factor=0.1; total time=   6.6s\n",
      "[CV] END aggregation_method=displacement, epochs=100, learning_rate=0.005, n_control_points=3, smoothing_factor=0.1; total time=   6.8s\n",
      "[CV] END aggregation_method=displacement, epochs=100, learning_rate=0.005, n_control_points=3, smoothing_factor=0.2; total time=   6.4s\n",
      "[CV] END aggregation_method=displacement, epochs=100, learning_rate=0.005, n_control_points=3, smoothing_factor=0.1; total time=   7.0s\n",
      "[CV] END aggregation_method=displacement, epochs=100, learning_rate=0.005, n_control_points=3, smoothing_factor=0.05; total time=   9.7s\n",
      "[CV] END aggregation_method=displacement, epochs=100, learning_rate=0.005, n_control_points=3, smoothing_factor=0.1; total time=   8.5s\n",
      "[CV] END aggregation_method=displacement, epochs=100, learning_rate=0.005, n_control_points=3, smoothing_factor=0.05; total time=  10.2s\n",
      "[CV] END aggregation_method=displacement, epochs=100, learning_rate=0.005, n_control_points=3, smoothing_factor=0.2; total time=   6.4s\n",
      "[CV] END aggregation_method=displacement, epochs=100, learning_rate=0.005, n_control_points=3, smoothing_factor=0.2; total time=   6.1s\n",
      "[CV] END aggregation_method=displacement, epochs=100, learning_rate=0.005, n_control_points=3, smoothing_factor=0.2; total time=   9.2s\n",
      "[CV] END aggregation_method=displacement, epochs=100, learning_rate=0.005, n_control_points=3, smoothing_factor=0.2; total time=   6.9s\n",
      "[CV] END aggregation_method=displacement, epochs=100, learning_rate=0.005, n_control_points=5, smoothing_factor=0.05; total time=   7.4s\n",
      "[CV] END aggregation_method=displacement, epochs=100, learning_rate=0.005, n_control_points=5, smoothing_factor=0.05; total time=   6.3s\n",
      "[CV] END aggregation_method=displacement, epochs=100, learning_rate=0.005, n_control_points=5, smoothing_factor=0.05; total time=   6.2s\n",
      "[CV] END aggregation_method=displacement, epochs=100, learning_rate=0.005, n_control_points=5, smoothing_factor=0.05; total time=   6.1s\n",
      "[CV] END aggregation_method=displacement, epochs=100, learning_rate=0.005, n_control_points=5, smoothing_factor=0.1; total time=   6.3s\n",
      "[CV] END aggregation_method=displacement, epochs=100, learning_rate=0.005, n_control_points=5, smoothing_factor=0.05; total time=   8.7s\n",
      "[CV] END aggregation_method=displacement, epochs=100, learning_rate=0.005, n_control_points=5, smoothing_factor=0.1; total time=   6.3s\n",
      "[CV] END aggregation_method=displacement, epochs=100, learning_rate=0.005, n_control_points=5, smoothing_factor=0.1; total time=   6.1s\n",
      "[CV] END aggregation_method=displacement, epochs=100, learning_rate=0.005, n_control_points=5, smoothing_factor=0.1; total time=   9.1s\n",
      "[CV] END aggregation_method=displacement, epochs=100, learning_rate=0.005, n_control_points=5, smoothing_factor=0.1; total time=   9.0s\n",
      "[CV] END aggregation_method=displacement, epochs=100, learning_rate=0.005, n_control_points=5, smoothing_factor=0.2; total time=   6.2s\n",
      "[CV] END aggregation_method=displacement, epochs=100, learning_rate=0.005, n_control_points=5, smoothing_factor=0.2; total time=   6.6s\n",
      "[CV] END aggregation_method=displacement, epochs=100, learning_rate=0.005, n_control_points=5, smoothing_factor=0.2; total time=   6.2s\n",
      "[CV] END aggregation_method=displacement, epochs=100, learning_rate=0.005, n_control_points=7, smoothing_factor=0.05; total time=   5.7s\n",
      "[CV] END aggregation_method=displacement, epochs=100, learning_rate=0.005, n_control_points=5, smoothing_factor=0.2; total time=   6.2s\n",
      "[CV] END aggregation_method=displacement, epochs=100, learning_rate=0.005, n_control_points=7, smoothing_factor=0.05; total time=   5.6s\n",
      "[CV] END aggregation_method=displacement, epochs=100, learning_rate=0.005, n_control_points=5, smoothing_factor=0.2; total time=   9.0s\n",
      "[CV] END aggregation_method=displacement, epochs=100, learning_rate=0.005, n_control_points=7, smoothing_factor=0.05; total time=   6.0s\n",
      "[CV] END aggregation_method=displacement, epochs=100, learning_rate=0.005, n_control_points=7, smoothing_factor=0.05; total time=   5.9s\n",
      "[CV] END aggregation_method=displacement, epochs=100, learning_rate=0.005, n_control_points=7, smoothing_factor=0.05; total time=   8.5s\n",
      "[CV] END aggregation_method=displacement, epochs=100, learning_rate=0.005, n_control_points=7, smoothing_factor=0.1; total time=   5.8s\n",
      "[CV] END aggregation_method=displacement, epochs=100, learning_rate=0.005, n_control_points=7, smoothing_factor=0.1; total time=   6.0s\n",
      "[CV] END aggregation_method=displacement, epochs=100, learning_rate=0.005, n_control_points=7, smoothing_factor=0.1; total time=   5.8s\n",
      "[CV] END aggregation_method=displacement, epochs=100, learning_rate=0.005, n_control_points=7, smoothing_factor=0.2; total time=   5.8s\n",
      "[CV] END aggregation_method=displacement, epochs=100, learning_rate=0.005, n_control_points=7, smoothing_factor=0.2; total time=   5.7s\n",
      "[CV] END aggregation_method=displacement, epochs=100, learning_rate=0.005, n_control_points=7, smoothing_factor=0.1; total time=   8.4s\n",
      "[CV] END aggregation_method=displacement, epochs=100, learning_rate=0.005, n_control_points=7, smoothing_factor=0.1; total time=   8.0s\n",
      "[CV] END aggregation_method=displacement, epochs=100, learning_rate=0.005, n_control_points=7, smoothing_factor=0.2; total time=   5.7s\n",
      "[CV] END aggregation_method=displacement, epochs=100, learning_rate=0.005, n_control_points=7, smoothing_factor=0.2; total time=   5.9s\n",
      "[CV] END aggregation_method=displacement, epochs=100, learning_rate=0.01, n_control_points=3, smoothing_factor=0.05; total time=   6.9s\n",
      "[CV] END aggregation_method=displacement, epochs=100, learning_rate=0.005, n_control_points=7, smoothing_factor=0.2; total time=   8.8s\n",
      "[CV] END aggregation_method=displacement, epochs=100, learning_rate=0.01, n_control_points=3, smoothing_factor=0.05; total time=   6.6s\n",
      "[CV] END aggregation_method=displacement, epochs=100, learning_rate=0.01, n_control_points=3, smoothing_factor=0.05; total time=   6.9s\n",
      "[CV] END aggregation_method=displacement, epochs=100, learning_rate=0.01, n_control_points=3, smoothing_factor=0.1; total time=   6.8s\n",
      "[CV] END aggregation_method=displacement, epochs=100, learning_rate=0.01, n_control_points=3, smoothing_factor=0.05; total time=   7.9s\n",
      "[CV] END aggregation_method=displacement, epochs=100, learning_rate=0.01, n_control_points=3, smoothing_factor=0.1; total time=   6.9s\n",
      "[CV] END aggregation_method=displacement, epochs=100, learning_rate=0.01, n_control_points=3, smoothing_factor=0.1; total time=   7.0s\n",
      "[CV] END aggregation_method=displacement, epochs=100, learning_rate=0.01, n_control_points=3, smoothing_factor=0.1; total time=   8.2s\n",
      "[CV] END aggregation_method=displacement, epochs=100, learning_rate=0.01, n_control_points=3, smoothing_factor=0.05; total time=   9.9s\n",
      "[CV] END aggregation_method=displacement, epochs=100, learning_rate=0.01, n_control_points=3, smoothing_factor=0.2; total time=   7.0s\n",
      "[CV] END aggregation_method=displacement, epochs=100, learning_rate=0.01, n_control_points=3, smoothing_factor=0.1; total time=  10.2s\n",
      "[CV] END aggregation_method=displacement, epochs=100, learning_rate=0.01, n_control_points=3, smoothing_factor=0.2; total time=   6.8s\n",
      "[CV] END aggregation_method=displacement, epochs=100, learning_rate=0.01, n_control_points=3, smoothing_factor=0.2; total time=   7.0s\n",
      "[CV] END aggregation_method=displacement, epochs=100, learning_rate=0.01, n_control_points=3, smoothing_factor=0.2; total time=   7.0s\n",
      "[CV] END aggregation_method=displacement, epochs=100, learning_rate=0.01, n_control_points=5, smoothing_factor=0.05; total time=   6.8s\n",
      "[CV] END aggregation_method=displacement, epochs=100, learning_rate=0.01, n_control_points=5, smoothing_factor=0.05; total time=   7.3s\n",
      "[CV] END aggregation_method=displacement, epochs=100, learning_rate=0.01, n_control_points=3, smoothing_factor=0.2; total time=   9.7s\n",
      "[CV] END aggregation_method=displacement, epochs=100, learning_rate=0.01, n_control_points=5, smoothing_factor=0.05; total time=   6.5s\n",
      "[CV] END aggregation_method=displacement, epochs=100, learning_rate=0.01, n_control_points=5, smoothing_factor=0.05; total time=   7.2s\n",
      "[CV] END aggregation_method=displacement, epochs=100, learning_rate=0.01, n_control_points=5, smoothing_factor=0.05; total time=   9.6s\n",
      "[CV] END aggregation_method=displacement, epochs=100, learning_rate=0.01, n_control_points=5, smoothing_factor=0.1; total time=   6.7s\n",
      "[CV] END aggregation_method=displacement, epochs=100, learning_rate=0.01, n_control_points=5, smoothing_factor=0.1; total time=   7.2s\n",
      "[CV] END aggregation_method=displacement, epochs=100, learning_rate=0.01, n_control_points=5, smoothing_factor=0.1; total time=   6.5s\n",
      "[CV] END aggregation_method=displacement, epochs=100, learning_rate=0.01, n_control_points=5, smoothing_factor=0.1; total time=  10.7s\n",
      "[CV] END aggregation_method=displacement, epochs=100, learning_rate=0.01, n_control_points=5, smoothing_factor=0.2; total time=   6.5s\n",
      "[CV] END aggregation_method=displacement, epochs=100, learning_rate=0.01, n_control_points=5, smoothing_factor=0.1; total time=   9.6s\n",
      "[CV] END aggregation_method=displacement, epochs=100, learning_rate=0.01, n_control_points=5, smoothing_factor=0.2; total time=   6.7s\n",
      "[CV] END aggregation_method=displacement, epochs=100, learning_rate=0.01, n_control_points=5, smoothing_factor=0.2; total time=   7.3s\n",
      "[CV] END aggregation_method=displacement, epochs=100, learning_rate=0.01, n_control_points=5, smoothing_factor=0.2; total time=   6.5s\n",
      "[CV] END aggregation_method=displacement, epochs=100, learning_rate=0.01, n_control_points=7, smoothing_factor=0.05; total time=   6.2s\n",
      "[CV] END aggregation_method=displacement, epochs=100, learning_rate=0.01, n_control_points=7, smoothing_factor=0.05; total time=   7.1s\n",
      "[CV] END aggregation_method=displacement, epochs=100, learning_rate=0.01, n_control_points=5, smoothing_factor=0.2; total time=  10.5s\n",
      "[CV] END aggregation_method=displacement, epochs=100, learning_rate=0.01, n_control_points=7, smoothing_factor=0.05; total time=   6.3s\n",
      "[CV] END aggregation_method=displacement, epochs=100, learning_rate=0.01, n_control_points=7, smoothing_factor=0.05; total time=   7.0s\n",
      "[CV] END aggregation_method=displacement, epochs=100, learning_rate=0.01, n_control_points=7, smoothing_factor=0.05; total time=   9.9s\n",
      "[CV] END aggregation_method=proba, epochs=20, learning_rate=0.001, n_control_points=3, smoothing_factor=0.05; total time=   1.2s\n",
      "[CV] END aggregation_method=displacement, epochs=100, learning_rate=0.01, n_control_points=7, smoothing_factor=0.1; total time=   6.2s\n",
      "[CV] END aggregation_method=displacement, epochs=100, learning_rate=0.01, n_control_points=7, smoothing_factor=0.1; total time=   7.0s\n",
      "[CV] END aggregation_method=displacement, epochs=100, learning_rate=0.01, n_control_points=7, smoothing_factor=0.2; total time=   6.2s\n",
      "[CV] END aggregation_method=displacement, epochs=100, learning_rate=0.01, n_control_points=7, smoothing_factor=0.1; total time=   7.0s\n",
      "[CV] END aggregation_method=proba, epochs=20, learning_rate=0.001, n_control_points=3, smoothing_factor=0.05; total time=   1.4s\n",
      "[CV] END aggregation_method=displacement, epochs=100, learning_rate=0.01, n_control_points=7, smoothing_factor=0.1; total time=   9.1s\n",
      "[CV] END aggregation_method=displacement, epochs=100, learning_rate=0.01, n_control_points=7, smoothing_factor=0.2; total time=   6.9s\n",
      "[CV] END aggregation_method=proba, epochs=20, learning_rate=0.001, n_control_points=3, smoothing_factor=0.05; total time=   1.5s\n",
      "[CV] END aggregation_method=proba, epochs=20, learning_rate=0.001, n_control_points=3, smoothing_factor=0.1; total time=   1.3s\n",
      "[CV] END aggregation_method=proba, epochs=20, learning_rate=0.001, n_control_points=3, smoothing_factor=0.05; total time=   2.3s\n",
      "[CV] END aggregation_method=proba, epochs=20, learning_rate=0.001, n_control_points=3, smoothing_factor=0.05; total time=   1.6s\n",
      "[CV] END aggregation_method=proba, epochs=20, learning_rate=0.001, n_control_points=3, smoothing_factor=0.1; total time=   1.6s\n",
      "[CV] END aggregation_method=proba, epochs=20, learning_rate=0.001, n_control_points=3, smoothing_factor=0.1; total time=   1.5s\n",
      "[CV] END aggregation_method=proba, epochs=20, learning_rate=0.001, n_control_points=3, smoothing_factor=0.2; total time=   1.3s\n",
      "[CV] END aggregation_method=proba, epochs=20, learning_rate=0.001, n_control_points=3, smoothing_factor=0.1; total time=   1.5s\n",
      "[CV] END aggregation_method=proba, epochs=20, learning_rate=0.001, n_control_points=3, smoothing_factor=0.2; total time=   1.5s\n",
      "[CV] END aggregation_method=proba, epochs=20, learning_rate=0.001, n_control_points=3, smoothing_factor=0.1; total time=   2.2s\n",
      "[CV] END aggregation_method=proba, epochs=20, learning_rate=0.001, n_control_points=3, smoothing_factor=0.2; total time=   1.5s\n",
      "[CV] END aggregation_method=proba, epochs=20, learning_rate=0.001, n_control_points=3, smoothing_factor=0.2; total time=   1.5s\n",
      "[CV] END aggregation_method=displacement, epochs=100, learning_rate=0.01, n_control_points=7, smoothing_factor=0.1; total time=  10.5s\n",
      "[CV] END aggregation_method=displacement, epochs=100, learning_rate=0.01, n_control_points=7, smoothing_factor=0.2; total time=   7.0s\n",
      "[CV] END aggregation_method=proba, epochs=20, learning_rate=0.001, n_control_points=5, smoothing_factor=0.05; total time=   1.6s\n",
      "[CV] END aggregation_method=proba, epochs=20, learning_rate=0.001, n_control_points=3, smoothing_factor=0.2; total time=   2.4s\n",
      "[CV] END aggregation_method=proba, epochs=20, learning_rate=0.001, n_control_points=5, smoothing_factor=0.05; total time=   1.6s\n",
      "[CV] END aggregation_method=displacement, epochs=100, learning_rate=0.01, n_control_points=7, smoothing_factor=0.2; total time=   6.4s\n",
      "[CV] END aggregation_method=proba, epochs=20, learning_rate=0.001, n_control_points=5, smoothing_factor=0.05; total time=   1.5s\n",
      "[CV] END aggregation_method=proba, epochs=20, learning_rate=0.001, n_control_points=5, smoothing_factor=0.05; total time=   1.5s\n",
      "[CV] END aggregation_method=proba, epochs=20, learning_rate=0.001, n_control_points=5, smoothing_factor=0.1; total time=   1.6s\n",
      "[CV] END aggregation_method=proba, epochs=20, learning_rate=0.001, n_control_points=5, smoothing_factor=0.1; total time=   1.6s\n",
      "[CV] END aggregation_method=proba, epochs=20, learning_rate=0.001, n_control_points=5, smoothing_factor=0.1; total time=   1.5s\n",
      "[CV] END aggregation_method=proba, epochs=20, learning_rate=0.001, n_control_points=5, smoothing_factor=0.1; total time=   1.5s\n",
      "[CV] END aggregation_method=proba, epochs=20, learning_rate=0.001, n_control_points=5, smoothing_factor=0.05; total time=   2.2s\n",
      "[CV] END aggregation_method=proba, epochs=20, learning_rate=0.001, n_control_points=5, smoothing_factor=0.2; total time=   1.6s\n",
      "[CV] END aggregation_method=proba, epochs=20, learning_rate=0.001, n_control_points=5, smoothing_factor=0.2; total time=   1.5s\n",
      "[CV] END aggregation_method=proba, epochs=20, learning_rate=0.001, n_control_points=5, smoothing_factor=0.2; total time=   1.5s\n",
      "[CV] END aggregation_method=proba, epochs=20, learning_rate=0.001, n_control_points=5, smoothing_factor=0.2; total time=   1.5s\n",
      "[CV] END aggregation_method=proba, epochs=20, learning_rate=0.001, n_control_points=5, smoothing_factor=0.1; total time=   2.3s\n",
      "[CV] END aggregation_method=proba, epochs=20, learning_rate=0.001, n_control_points=5, smoothing_factor=0.2; total time=   2.4s\n",
      "[CV] END aggregation_method=proba, epochs=20, learning_rate=0.001, n_control_points=7, smoothing_factor=0.05; total time=   1.6s\n",
      "[CV] END aggregation_method=proba, epochs=20, learning_rate=0.001, n_control_points=7, smoothing_factor=0.05; total time=   1.6s\n"
     ]
    },
    {
     "name": "stderr",
     "output_type": "stream",
     "text": [
      "/tmp/ipykernel_44177/2097424821.py:374: RuntimeWarning: overflow encountered in exp\n"
     ]
    },
    {
     "name": "stdout",
     "output_type": "stream",
     "text": [
      "[CV] END aggregation_method=proba, epochs=20, learning_rate=0.001, n_control_points=7, smoothing_factor=0.05; total time=   1.4s\n",
      "[CV] END aggregation_method=proba, epochs=20, learning_rate=0.001, n_control_points=7, smoothing_factor=0.05; total time=   1.6s\n",
      "[CV] END aggregation_method=proba, epochs=20, learning_rate=0.001, n_control_points=7, smoothing_factor=0.1; total time=   1.6s\n",
      "[CV] END aggregation_method=proba, epochs=20, learning_rate=0.001, n_control_points=7, smoothing_factor=0.1; total time=   1.5s\n",
      "[CV] END aggregation_method=proba, epochs=20, learning_rate=0.001, n_control_points=7, smoothing_factor=0.1; total time=   1.6s\n"
     ]
    },
    {
     "name": "stderr",
     "output_type": "stream",
     "text": [
      "/tmp/ipykernel_44177/2097424821.py:374: RuntimeWarning: overflow encountered in exp\n"
     ]
    },
    {
     "name": "stdout",
     "output_type": "stream",
     "text": [
      "[CV] END aggregation_method=proba, epochs=20, learning_rate=0.001, n_control_points=7, smoothing_factor=0.1; total time=   1.6s\n",
      "[CV] END aggregation_method=proba, epochs=20, learning_rate=0.001, n_control_points=7, smoothing_factor=0.05; total time=   2.2s\n",
      "[CV] END aggregation_method=displacement, epochs=100, learning_rate=0.01, n_control_points=7, smoothing_factor=0.2; total time=   9.9s\n"
     ]
    },
    {
     "name": "stderr",
     "output_type": "stream",
     "text": [
      "/tmp/ipykernel_44177/2097424821.py:374: RuntimeWarning: overflow encountered in exp\n",
      "/tmp/ipykernel_44177/2097424821.py:374: RuntimeWarning: overflow encountered in exp\n",
      "/tmp/ipykernel_44177/2097424821.py:374: RuntimeWarning: overflow encountered in exp\n"
     ]
    },
    {
     "name": "stdout",
     "output_type": "stream",
     "text": [
      "[CV] END aggregation_method=proba, epochs=20, learning_rate=0.001, n_control_points=7, smoothing_factor=0.2; total time=   1.5s\n",
      "[CV] END aggregation_method=proba, epochs=20, learning_rate=0.001, n_control_points=7, smoothing_factor=0.2; total time=   1.6s\n",
      "[CV] END aggregation_method=proba, epochs=20, learning_rate=0.001, n_control_points=7, smoothing_factor=0.1; total time=   2.2s\n",
      "[CV] END aggregation_method=proba, epochs=20, learning_rate=0.001, n_control_points=7, smoothing_factor=0.2; total time=   1.7s\n",
      "[CV] END aggregation_method=proba, epochs=20, learning_rate=0.001, n_control_points=7, smoothing_factor=0.2; total time=   1.5s\n"
     ]
    },
    {
     "name": "stderr",
     "output_type": "stream",
     "text": [
      "/tmp/ipykernel_44177/2097424821.py:374: RuntimeWarning: overflow encountered in exp\n"
     ]
    },
    {
     "name": "stdout",
     "output_type": "stream",
     "text": [
      "[CV] END aggregation_method=proba, epochs=20, learning_rate=0.001, n_control_points=7, smoothing_factor=0.2; total time=   2.4s\n",
      "[CV] END aggregation_method=proba, epochs=20, learning_rate=0.005, n_control_points=3, smoothing_factor=0.05; total time=   1.8s\n",
      "[CV] END aggregation_method=proba, epochs=20, learning_rate=0.005, n_control_points=3, smoothing_factor=0.05; total time=   1.7s\n",
      "[CV] END aggregation_method=proba, epochs=20, learning_rate=0.005, n_control_points=3, smoothing_factor=0.05; total time=   1.8s\n",
      "[CV] END aggregation_method=proba, epochs=20, learning_rate=0.005, n_control_points=3, smoothing_factor=0.05; total time=   1.7s\n",
      "[CV] END aggregation_method=proba, epochs=20, learning_rate=0.005, n_control_points=3, smoothing_factor=0.1; total time=   1.7s\n",
      "[CV] END aggregation_method=proba, epochs=20, learning_rate=0.005, n_control_points=3, smoothing_factor=0.1; total time=   1.8s\n",
      "[CV] END aggregation_method=proba, epochs=20, learning_rate=0.005, n_control_points=3, smoothing_factor=0.1; total time=   1.8s\n",
      "[CV] END aggregation_method=proba, epochs=20, learning_rate=0.005, n_control_points=3, smoothing_factor=0.2; total time=   1.7s\n",
      "[CV] END aggregation_method=proba, epochs=20, learning_rate=0.005, n_control_points=3, smoothing_factor=0.05; total time=   2.7s\n",
      "[CV] END aggregation_method=proba, epochs=20, learning_rate=0.005, n_control_points=3, smoothing_factor=0.1; total time=   2.6s\n",
      "[CV] END aggregation_method=proba, epochs=20, learning_rate=0.005, n_control_points=3, smoothing_factor=0.1; total time=   2.4s\n",
      "[CV] END aggregation_method=proba, epochs=20, learning_rate=0.005, n_control_points=3, smoothing_factor=0.2; total time=   1.6s\n",
      "[CV] END aggregation_method=proba, epochs=20, learning_rate=0.005, n_control_points=3, smoothing_factor=0.2; total time=   1.7s\n",
      "[CV] END aggregation_method=proba, epochs=20, learning_rate=0.005, n_control_points=3, smoothing_factor=0.2; total time=   1.8s\n",
      "[CV] END aggregation_method=proba, epochs=20, learning_rate=0.005, n_control_points=5, smoothing_factor=0.05; total time=   1.8s\n"
     ]
    },
    {
     "name": "stderr",
     "output_type": "stream",
     "text": [
      "/tmp/ipykernel_44177/2097424821.py:374: RuntimeWarning: overflow encountered in exp\n"
     ]
    },
    {
     "name": "stdout",
     "output_type": "stream",
     "text": [
      "[CV] END aggregation_method=proba, epochs=20, learning_rate=0.005, n_control_points=3, smoothing_factor=0.2; total time=   2.8s\n"
     ]
    },
    {
     "name": "stderr",
     "output_type": "stream",
     "text": [
      "/tmp/ipykernel_44177/2097424821.py:374: RuntimeWarning: overflow encountered in exp\n",
      "/tmp/ipykernel_44177/2097424821.py:374: RuntimeWarning: overflow encountered in exp\n"
     ]
    },
    {
     "name": "stdout",
     "output_type": "stream",
     "text": [
      "[CV] END aggregation_method=proba, epochs=20, learning_rate=0.005, n_control_points=5, smoothing_factor=0.05; total time=   1.8s\n",
      "[CV] END aggregation_method=proba, epochs=20, learning_rate=0.005, n_control_points=5, smoothing_factor=0.05; total time=   1.9s\n"
     ]
    },
    {
     "name": "stderr",
     "output_type": "stream",
     "text": [
      "/tmp/ipykernel_44177/2097424821.py:374: RuntimeWarning: overflow encountered in exp\n",
      "/tmp/ipykernel_44177/2097424821.py:374: RuntimeWarning: overflow encountered in exp\n"
     ]
    },
    {
     "name": "stdout",
     "output_type": "stream",
     "text": [
      "[CV] END aggregation_method=proba, epochs=20, learning_rate=0.005, n_control_points=5, smoothing_factor=0.05; total time=   1.8s\n",
      "[CV] END aggregation_method=proba, epochs=20, learning_rate=0.005, n_control_points=5, smoothing_factor=0.05; total time=   1.8s\n"
     ]
    },
    {
     "name": "stderr",
     "output_type": "stream",
     "text": [
      "/tmp/ipykernel_44177/2097424821.py:374: RuntimeWarning: overflow encountered in exp\n",
      "/tmp/ipykernel_44177/2097424821.py:374: RuntimeWarning: overflow encountered in exp\n"
     ]
    },
    {
     "name": "stdout",
     "output_type": "stream",
     "text": [
      "[CV] END aggregation_method=proba, epochs=20, learning_rate=0.005, n_control_points=5, smoothing_factor=0.1; total time=   1.7s\n",
      "[CV] END aggregation_method=proba, epochs=20, learning_rate=0.005, n_control_points=5, smoothing_factor=0.1; total time=   1.9s\n"
     ]
    },
    {
     "name": "stderr",
     "output_type": "stream",
     "text": [
      "/tmp/ipykernel_44177/2097424821.py:374: RuntimeWarning: overflow encountered in exp\n",
      "/tmp/ipykernel_44177/2097424821.py:374: RuntimeWarning: overflow encountered in exp\n",
      "/tmp/ipykernel_44177/2097424821.py:374: RuntimeWarning: overflow encountered in exp\n",
      "/tmp/ipykernel_44177/2097424821.py:374: RuntimeWarning: overflow encountered in exp\n"
     ]
    },
    {
     "name": "stdout",
     "output_type": "stream",
     "text": [
      "[CV] END aggregation_method=proba, epochs=20, learning_rate=0.005, n_control_points=5, smoothing_factor=0.2; total time=   1.9s\n",
      "[CV] END aggregation_method=proba, epochs=20, learning_rate=0.005, n_control_points=5, smoothing_factor=0.1; total time=   2.7s\n",
      "[CV] END aggregation_method=proba, epochs=20, learning_rate=0.005, n_control_points=5, smoothing_factor=0.2; total time=   1.9s\n",
      "[CV] END aggregation_method=proba, epochs=20, learning_rate=0.005, n_control_points=5, smoothing_factor=0.1; total time=   2.7s\n"
     ]
    },
    {
     "name": "stderr",
     "output_type": "stream",
     "text": [
      "/tmp/ipykernel_44177/2097424821.py:374: RuntimeWarning: overflow encountered in exp\n",
      "/tmp/ipykernel_44177/2097424821.py:374: RuntimeWarning: overflow encountered in exp\n",
      "/tmp/ipykernel_44177/2097424821.py:374: RuntimeWarning: overflow encountered in exp\n"
     ]
    },
    {
     "name": "stdout",
     "output_type": "stream",
     "text": [
      "[CV] END aggregation_method=proba, epochs=20, learning_rate=0.005, n_control_points=5, smoothing_factor=0.2; total time=   1.8s\n",
      "[CV] END aggregation_method=proba, epochs=20, learning_rate=0.005, n_control_points=5, smoothing_factor=0.1; total time=   2.8s\n",
      "[CV] END aggregation_method=proba, epochs=20, learning_rate=0.005, n_control_points=7, smoothing_factor=0.05; total time=   1.5s\n"
     ]
    },
    {
     "name": "stderr",
     "output_type": "stream",
     "text": [
      "/tmp/ipykernel_44177/2097424821.py:374: RuntimeWarning: overflow encountered in exp\n",
      "/tmp/ipykernel_44177/2097424821.py:374: RuntimeWarning: overflow encountered in exp\n"
     ]
    },
    {
     "name": "stdout",
     "output_type": "stream",
     "text": [
      "[CV] END aggregation_method=proba, epochs=20, learning_rate=0.005, n_control_points=5, smoothing_factor=0.2; total time=   1.9s\n",
      "[CV] END aggregation_method=proba, epochs=20, learning_rate=0.005, n_control_points=7, smoothing_factor=0.05; total time=   1.6s\n"
     ]
    },
    {
     "name": "stderr",
     "output_type": "stream",
     "text": [
      "/tmp/ipykernel_44177/2097424821.py:374: RuntimeWarning: overflow encountered in exp\n",
      "/tmp/ipykernel_44177/2097424821.py:374: RuntimeWarning: overflow encountered in exp\n"
     ]
    },
    {
     "name": "stdout",
     "output_type": "stream",
     "text": [
      "[CV] END aggregation_method=proba, epochs=20, learning_rate=0.005, n_control_points=7, smoothing_factor=0.05; total time=   1.6s\n",
      "[CV] END aggregation_method=proba, epochs=20, learning_rate=0.005, n_control_points=5, smoothing_factor=0.2; total time=   2.8s\n"
     ]
    },
    {
     "name": "stderr",
     "output_type": "stream",
     "text": [
      "/tmp/ipykernel_44177/2097424821.py:374: RuntimeWarning: overflow encountered in exp\n",
      "/tmp/ipykernel_44177/2097424821.py:374: RuntimeWarning: overflow encountered in exp\n"
     ]
    },
    {
     "name": "stdout",
     "output_type": "stream",
     "text": [
      "[CV] END aggregation_method=proba, epochs=20, learning_rate=0.005, n_control_points=7, smoothing_factor=0.05; total time=   1.8s\n",
      "[CV] END aggregation_method=proba, epochs=20, learning_rate=0.005, n_control_points=7, smoothing_factor=0.05; total time=   1.7s\n"
     ]
    },
    {
     "name": "stderr",
     "output_type": "stream",
     "text": [
      "/tmp/ipykernel_44177/2097424821.py:374: RuntimeWarning: overflow encountered in exp\n"
     ]
    },
    {
     "name": "stdout",
     "output_type": "stream",
     "text": [
      "[CV] END aggregation_method=proba, epochs=20, learning_rate=0.005, n_control_points=7, smoothing_factor=0.1; total time=   1.6s\n"
     ]
    },
    {
     "name": "stderr",
     "output_type": "stream",
     "text": [
      "/tmp/ipykernel_44177/2097424821.py:374: RuntimeWarning: overflow encountered in exp\n",
      "/tmp/ipykernel_44177/2097424821.py:374: RuntimeWarning: overflow encountered in exp\n",
      "/tmp/ipykernel_44177/2097424821.py:374: RuntimeWarning: overflow encountered in exp\n",
      "/tmp/ipykernel_44177/2097424821.py:374: RuntimeWarning: overflow encountered in exp\n",
      "/tmp/ipykernel_44177/2097424821.py:374: RuntimeWarning: overflow encountered in exp\n"
     ]
    },
    {
     "name": "stdout",
     "output_type": "stream",
     "text": [
      "[CV] END aggregation_method=proba, epochs=20, learning_rate=0.005, n_control_points=7, smoothing_factor=0.2; total time=   1.6s\n",
      "[CV] END aggregation_method=proba, epochs=20, learning_rate=0.005, n_control_points=7, smoothing_factor=0.1; total time=   1.8s\n",
      "[CV] END aggregation_method=proba, epochs=20, learning_rate=0.005, n_control_points=7, smoothing_factor=0.2; total time=   1.6s\n",
      "[CV] END aggregation_method=proba, epochs=20, learning_rate=0.005, n_control_points=7, smoothing_factor=0.1; total time=   2.3s\n",
      "[CV] END aggregation_method=proba, epochs=20, learning_rate=0.005, n_control_points=7, smoothing_factor=0.2; total time=   1.6s\n"
     ]
    },
    {
     "name": "stderr",
     "output_type": "stream",
     "text": [
      "/tmp/ipykernel_44177/2097424821.py:374: RuntimeWarning: overflow encountered in exp\n"
     ]
    },
    {
     "name": "stdout",
     "output_type": "stream",
     "text": [
      "[CV] END aggregation_method=proba, epochs=20, learning_rate=0.005, n_control_points=7, smoothing_factor=0.1; total time=   2.5s\n"
     ]
    },
    {
     "name": "stderr",
     "output_type": "stream",
     "text": [
      "/tmp/ipykernel_44177/2097424821.py:374: RuntimeWarning: overflow encountered in exp\n"
     ]
    },
    {
     "name": "stdout",
     "output_type": "stream",
     "text": [
      "[CV] END aggregation_method=proba, epochs=20, learning_rate=0.005, n_control_points=7, smoothing_factor=0.2; total time=   1.7s\n"
     ]
    },
    {
     "name": "stderr",
     "output_type": "stream",
     "text": [
      "/tmp/ipykernel_44177/2097424821.py:374: RuntimeWarning: overflow encountered in exp\n"
     ]
    },
    {
     "name": "stdout",
     "output_type": "stream",
     "text": [
      "[CV] END aggregation_method=proba, epochs=20, learning_rate=0.005, n_control_points=7, smoothing_factor=0.1; total time=   2.7s\n",
      "[CV] END aggregation_method=proba, epochs=20, learning_rate=0.01, n_control_points=3, smoothing_factor=0.05; total time=   1.9s\n",
      "[CV] END aggregation_method=proba, epochs=20, learning_rate=0.01, n_control_points=3, smoothing_factor=0.05; total time=   1.9s\n",
      "[CV] END aggregation_method=proba, epochs=20, learning_rate=0.01, n_control_points=3, smoothing_factor=0.05; total time=   2.0s\n",
      "[CV] END aggregation_method=proba, epochs=20, learning_rate=0.005, n_control_points=7, smoothing_factor=0.2; total time=   2.6s\n"
     ]
    },
    {
     "name": "stderr",
     "output_type": "stream",
     "text": [
      "/tmp/ipykernel_44177/2097424821.py:374: RuntimeWarning: overflow encountered in exp\n"
     ]
    },
    {
     "name": "stdout",
     "output_type": "stream",
     "text": [
      "[CV] END aggregation_method=proba, epochs=20, learning_rate=0.01, n_control_points=3, smoothing_factor=0.05; total time=   1.9s\n",
      "[CV] END aggregation_method=proba, epochs=20, learning_rate=0.01, n_control_points=3, smoothing_factor=0.05; total time=   2.0s\n",
      "[CV] END aggregation_method=proba, epochs=20, learning_rate=0.01, n_control_points=3, smoothing_factor=0.1; total time=   1.9s\n",
      "[CV] END aggregation_method=proba, epochs=20, learning_rate=0.01, n_control_points=3, smoothing_factor=0.1; total time=   1.9s\n",
      "[CV] END aggregation_method=proba, epochs=20, learning_rate=0.01, n_control_points=3, smoothing_factor=0.1; total time=   1.8s\n",
      "[CV] END aggregation_method=proba, epochs=20, learning_rate=0.01, n_control_points=3, smoothing_factor=0.1; total time=   2.8s\n",
      "[CV] END aggregation_method=proba, epochs=20, learning_rate=0.01, n_control_points=3, smoothing_factor=0.2; total time=   1.9s\n",
      "[CV] END aggregation_method=proba, epochs=20, learning_rate=0.01, n_control_points=3, smoothing_factor=0.1; total time=   2.9s\n",
      "[CV] END aggregation_method=proba, epochs=20, learning_rate=0.01, n_control_points=3, smoothing_factor=0.2; total time=   1.9s\n",
      "[CV] END aggregation_method=proba, epochs=20, learning_rate=0.01, n_control_points=3, smoothing_factor=0.2; total time=   2.0s\n",
      "[CV] END aggregation_method=proba, epochs=20, learning_rate=0.01, n_control_points=5, smoothing_factor=0.05; total time=   1.8s\n"
     ]
    },
    {
     "name": "stderr",
     "output_type": "stream",
     "text": [
      "/tmp/ipykernel_44177/2097424821.py:374: RuntimeWarning: overflow encountered in exp\n",
      "/tmp/ipykernel_44177/2097424821.py:374: RuntimeWarning: overflow encountered in exp\n",
      "/tmp/ipykernel_44177/2097424821.py:374: RuntimeWarning: overflow encountered in exp\n",
      "/tmp/ipykernel_44177/2097424821.py:374: RuntimeWarning: overflow encountered in exp\n"
     ]
    },
    {
     "name": "stdout",
     "output_type": "stream",
     "text": [
      "[CV] END aggregation_method=proba, epochs=20, learning_rate=0.01, n_control_points=3, smoothing_factor=0.2; total time=   2.8s\n",
      "[CV] END aggregation_method=proba, epochs=20, learning_rate=0.01, n_control_points=5, smoothing_factor=0.05; total time=   1.8s\n",
      "[CV] END aggregation_method=proba, epochs=20, learning_rate=0.01, n_control_points=5, smoothing_factor=0.05; total time=   1.8s\n",
      "[CV] END aggregation_method=proba, epochs=20, learning_rate=0.01, n_control_points=5, smoothing_factor=0.05; total time=   1.9s\n",
      "[CV] END aggregation_method=proba, epochs=20, learning_rate=0.01, n_control_points=5, smoothing_factor=0.05; total time=   1.8s\n",
      "[CV] END aggregation_method=proba, epochs=20, learning_rate=0.01, n_control_points=3, smoothing_factor=0.2; total time=   2.7s\n"
     ]
    },
    {
     "name": "stderr",
     "output_type": "stream",
     "text": [
      "/tmp/ipykernel_44177/2097424821.py:374: RuntimeWarning: overflow encountered in exp\n",
      "/tmp/ipykernel_44177/2097424821.py:374: RuntimeWarning: overflow encountered in exp\n"
     ]
    },
    {
     "name": "stdout",
     "output_type": "stream",
     "text": [
      "[CV] END aggregation_method=proba, epochs=20, learning_rate=0.01, n_control_points=5, smoothing_factor=0.1; total time=   1.8s\n",
      "[CV] END aggregation_method=proba, epochs=20, learning_rate=0.01, n_control_points=5, smoothing_factor=0.1; total time=   1.9s\n",
      "[CV] END aggregation_method=proba, epochs=20, learning_rate=0.01, n_control_points=5, smoothing_factor=0.1; total time=   1.8s\n",
      "[CV] END aggregation_method=proba, epochs=20, learning_rate=0.01, n_control_points=5, smoothing_factor=0.1; total time=   2.6s\n",
      "[CV] END aggregation_method=proba, epochs=20, learning_rate=0.01, n_control_points=5, smoothing_factor=0.2; total time=   1.7s\n"
     ]
    },
    {
     "name": "stderr",
     "output_type": "stream",
     "text": [
      "/tmp/ipykernel_44177/2097424821.py:374: RuntimeWarning: overflow encountered in exp\n",
      "/tmp/ipykernel_44177/2097424821.py:374: RuntimeWarning: overflow encountered in exp\n",
      "/tmp/ipykernel_44177/2097424821.py:374: RuntimeWarning: overflow encountered in exp\n"
     ]
    },
    {
     "name": "stdout",
     "output_type": "stream",
     "text": [
      "[CV] END aggregation_method=proba, epochs=20, learning_rate=0.01, n_control_points=5, smoothing_factor=0.2; total time=   1.8s\n",
      "[CV] END aggregation_method=proba, epochs=20, learning_rate=0.01, n_control_points=5, smoothing_factor=0.2; total time=   1.8s\n",
      "[CV] END aggregation_method=proba, epochs=20, learning_rate=0.01, n_control_points=5, smoothing_factor=0.2; total time=   1.9s\n"
     ]
    },
    {
     "name": "stderr",
     "output_type": "stream",
     "text": [
      "/tmp/ipykernel_44177/2097424821.py:374: RuntimeWarning: overflow encountered in exp\n",
      "/tmp/ipykernel_44177/2097424821.py:374: RuntimeWarning: overflow encountered in exp\n"
     ]
    },
    {
     "name": "stdout",
     "output_type": "stream",
     "text": [
      "[CV] END aggregation_method=proba, epochs=20, learning_rate=0.01, n_control_points=5, smoothing_factor=0.1; total time=   2.6s\n",
      "[CV] END aggregation_method=proba, epochs=20, learning_rate=0.01, n_control_points=7, smoothing_factor=0.05; total time=   1.8s\n"
     ]
    },
    {
     "name": "stderr",
     "output_type": "stream",
     "text": [
      "/tmp/ipykernel_44177/2097424821.py:374: RuntimeWarning: overflow encountered in exp\n",
      "/tmp/ipykernel_44177/2097424821.py:374: RuntimeWarning: overflow encountered in exp\n"
     ]
    },
    {
     "name": "stdout",
     "output_type": "stream",
     "text": [
      "[CV] END aggregation_method=proba, epochs=20, learning_rate=0.01, n_control_points=5, smoothing_factor=0.2; total time=   2.7s\n"
     ]
    },
    {
     "name": "stderr",
     "output_type": "stream",
     "text": [
      "/tmp/ipykernel_44177/2097424821.py:374: RuntimeWarning: overflow encountered in exp\n",
      "/tmp/ipykernel_44177/2097424821.py:374: RuntimeWarning: overflow encountered in exp\n",
      "/tmp/ipykernel_44177/2097424821.py:374: RuntimeWarning: overflow encountered in exp\n"
     ]
    },
    {
     "name": "stdout",
     "output_type": "stream",
     "text": [
      "[CV] END aggregation_method=proba, epochs=20, learning_rate=0.01, n_control_points=7, smoothing_factor=0.05; total time=   1.8s\n",
      "[CV] END aggregation_method=proba, epochs=20, learning_rate=0.01, n_control_points=7, smoothing_factor=0.05; total time=   2.6s\n",
      "[CV] END aggregation_method=proba, epochs=20, learning_rate=0.01, n_control_points=7, smoothing_factor=0.05; total time=   1.9s\n"
     ]
    },
    {
     "name": "stderr",
     "output_type": "stream",
     "text": [
      "/tmp/ipykernel_44177/2097424821.py:374: RuntimeWarning: overflow encountered in exp\n",
      "/tmp/ipykernel_44177/2097424821.py:374: RuntimeWarning: overflow encountered in exp\n"
     ]
    },
    {
     "name": "stdout",
     "output_type": "stream",
     "text": [
      "[CV] END aggregation_method=proba, epochs=20, learning_rate=0.01, n_control_points=7, smoothing_factor=0.05; total time=   1.8s\n",
      "[CV] END aggregation_method=proba, epochs=20, learning_rate=0.01, n_control_points=7, smoothing_factor=0.1; total time=   1.7s\n"
     ]
    },
    {
     "name": "stderr",
     "output_type": "stream",
     "text": [
      "/tmp/ipykernel_44177/2097424821.py:374: RuntimeWarning: overflow encountered in exp\n"
     ]
    },
    {
     "name": "stdout",
     "output_type": "stream",
     "text": [
      "[CV] END aggregation_method=proba, epochs=20, learning_rate=0.01, n_control_points=7, smoothing_factor=0.1; total time=   1.7s\n"
     ]
    },
    {
     "name": "stderr",
     "output_type": "stream",
     "text": [
      "/tmp/ipykernel_44177/2097424821.py:374: RuntimeWarning: overflow encountered in exp\n",
      "/tmp/ipykernel_44177/2097424821.py:374: RuntimeWarning: overflow encountered in exp\n"
     ]
    },
    {
     "name": "stdout",
     "output_type": "stream",
     "text": [
      "[CV] END aggregation_method=proba, epochs=20, learning_rate=0.01, n_control_points=7, smoothing_factor=0.1; total time=   1.9s\n",
      "[CV] END aggregation_method=proba, epochs=20, learning_rate=0.01, n_control_points=7, smoothing_factor=0.1; total time=   1.9s\n"
     ]
    },
    {
     "name": "stderr",
     "output_type": "stream",
     "text": [
      "/tmp/ipykernel_44177/2097424821.py:374: RuntimeWarning: overflow encountered in exp\n"
     ]
    },
    {
     "name": "stdout",
     "output_type": "stream",
     "text": [
      "[CV] END aggregation_method=proba, epochs=20, learning_rate=0.01, n_control_points=7, smoothing_factor=0.2; total time=   1.8s\n"
     ]
    },
    {
     "name": "stderr",
     "output_type": "stream",
     "text": [
      "/tmp/ipykernel_44177/2097424821.py:374: RuntimeWarning: overflow encountered in exp\n"
     ]
    },
    {
     "name": "stdout",
     "output_type": "stream",
     "text": [
      "[CV] END aggregation_method=proba, epochs=20, learning_rate=0.01, n_control_points=7, smoothing_factor=0.1; total time=   2.6s\n"
     ]
    },
    {
     "name": "stderr",
     "output_type": "stream",
     "text": [
      "/tmp/ipykernel_44177/2097424821.py:374: RuntimeWarning: overflow encountered in exp\n"
     ]
    },
    {
     "name": "stdout",
     "output_type": "stream",
     "text": [
      "[CV] END aggregation_method=proba, epochs=20, learning_rate=0.01, n_control_points=7, smoothing_factor=0.2; total time=   2.7s\n"
     ]
    },
    {
     "name": "stderr",
     "output_type": "stream",
     "text": [
      "/tmp/ipykernel_44177/2097424821.py:374: RuntimeWarning: overflow encountered in exp\n"
     ]
    },
    {
     "name": "stdout",
     "output_type": "stream",
     "text": [
      "[CV] END aggregation_method=proba, epochs=20, learning_rate=0.01, n_control_points=7, smoothing_factor=0.2; total time=   1.9s\n"
     ]
    },
    {
     "name": "stderr",
     "output_type": "stream",
     "text": [
      "/tmp/ipykernel_44177/2097424821.py:374: RuntimeWarning: overflow encountered in exp\n"
     ]
    },
    {
     "name": "stdout",
     "output_type": "stream",
     "text": [
      "[CV] END aggregation_method=proba, epochs=20, learning_rate=0.01, n_control_points=7, smoothing_factor=0.2; total time=   2.7s\n"
     ]
    },
    {
     "name": "stderr",
     "output_type": "stream",
     "text": [
      "/tmp/ipykernel_44177/2097424821.py:374: RuntimeWarning: overflow encountered in exp\n"
     ]
    },
    {
     "name": "stdout",
     "output_type": "stream",
     "text": [
      "[CV] END aggregation_method=proba, epochs=20, learning_rate=0.01, n_control_points=7, smoothing_factor=0.2; total time=   2.7s\n",
      "[CV] END aggregation_method=proba, epochs=50, learning_rate=0.001, n_control_points=3, smoothing_factor=0.05; total time=   3.0s\n",
      "[CV] END aggregation_method=proba, epochs=50, learning_rate=0.001, n_control_points=3, smoothing_factor=0.1; total time=   3.0s\n",
      "[CV] END aggregation_method=proba, epochs=50, learning_rate=0.001, n_control_points=3, smoothing_factor=0.05; total time=   3.6s\n",
      "[CV] END aggregation_method=proba, epochs=50, learning_rate=0.001, n_control_points=3, smoothing_factor=0.05; total time=   3.8s\n",
      "[CV] END aggregation_method=proba, epochs=50, learning_rate=0.001, n_control_points=3, smoothing_factor=0.05; total time=   3.8s\n",
      "[CV] END aggregation_method=proba, epochs=50, learning_rate=0.001, n_control_points=3, smoothing_factor=0.05; total time=   3.8s\n",
      "[CV] END aggregation_method=proba, epochs=50, learning_rate=0.001, n_control_points=3, smoothing_factor=0.1; total time=   3.6s\n",
      "[CV] END aggregation_method=proba, epochs=50, learning_rate=0.001, n_control_points=3, smoothing_factor=0.1; total time=   3.8s\n",
      "[CV] END aggregation_method=proba, epochs=50, learning_rate=0.001, n_control_points=3, smoothing_factor=0.1; total time=   5.3s\n",
      "[CV] END aggregation_method=proba, epochs=50, learning_rate=0.001, n_control_points=3, smoothing_factor=0.2; total time=   4.2s\n",
      "[CV] END aggregation_method=proba, epochs=50, learning_rate=0.001, n_control_points=3, smoothing_factor=0.2; total time=   3.6s\n",
      "[CV] END aggregation_method=proba, epochs=50, learning_rate=0.001, n_control_points=3, smoothing_factor=0.1; total time=   5.5s\n",
      "[CV] END aggregation_method=proba, epochs=50, learning_rate=0.001, n_control_points=3, smoothing_factor=0.2; total time=   3.6s\n",
      "[CV] END aggregation_method=proba, epochs=50, learning_rate=0.001, n_control_points=3, smoothing_factor=0.2; total time=   3.8s\n",
      "[CV] END aggregation_method=proba, epochs=50, learning_rate=0.001, n_control_points=5, smoothing_factor=0.05; total time=   3.4s\n",
      "[CV] END aggregation_method=proba, epochs=50, learning_rate=0.001, n_control_points=5, smoothing_factor=0.05; total time=   3.6s\n",
      "[CV] END aggregation_method=proba, epochs=50, learning_rate=0.001, n_control_points=5, smoothing_factor=0.05; total time=   4.0s\n",
      "[CV] END aggregation_method=proba, epochs=50, learning_rate=0.001, n_control_points=3, smoothing_factor=0.2; total time=   5.4s\n",
      "[CV] END aggregation_method=proba, epochs=50, learning_rate=0.001, n_control_points=5, smoothing_factor=0.05; total time=   3.7s\n",
      "[CV] END aggregation_method=proba, epochs=50, learning_rate=0.001, n_control_points=5, smoothing_factor=0.05; total time=   3.4s\n",
      "[CV] END aggregation_method=proba, epochs=50, learning_rate=0.001, n_control_points=5, smoothing_factor=0.1; total time=   3.6s\n",
      "[CV] END aggregation_method=proba, epochs=50, learning_rate=0.001, n_control_points=5, smoothing_factor=0.1; total time=   3.5s\n",
      "[CV] END aggregation_method=proba, epochs=50, learning_rate=0.001, n_control_points=5, smoothing_factor=0.2; total time=   3.5s\n",
      "[CV] END aggregation_method=proba, epochs=50, learning_rate=0.001, n_control_points=5, smoothing_factor=0.2; total time=   3.6s\n",
      "[CV] END aggregation_method=proba, epochs=50, learning_rate=0.001, n_control_points=5, smoothing_factor=0.2; total time=   4.1s\n",
      "[CV] END aggregation_method=proba, epochs=50, learning_rate=0.001, n_control_points=5, smoothing_factor=0.2; total time=   3.6s\n",
      "[CV] END aggregation_method=proba, epochs=50, learning_rate=0.001, n_control_points=5, smoothing_factor=0.1; total time=   5.4s\n",
      "[CV] END aggregation_method=proba, epochs=50, learning_rate=0.001, n_control_points=5, smoothing_factor=0.1; total time=   4.9s\n",
      "[CV] END aggregation_method=proba, epochs=50, learning_rate=0.001, n_control_points=7, smoothing_factor=0.05; total time=   4.0s\n",
      "[CV] END aggregation_method=proba, epochs=50, learning_rate=0.001, n_control_points=5, smoothing_factor=0.1; total time=   5.8s\n",
      "[CV] END aggregation_method=proba, epochs=50, learning_rate=0.001, n_control_points=5, smoothing_factor=0.2; total time=   5.3s\n",
      "[CV] END aggregation_method=proba, epochs=50, learning_rate=0.001, n_control_points=7, smoothing_factor=0.05; total time=   4.1s\n"
     ]
    },
    {
     "name": "stderr",
     "output_type": "stream",
     "text": [
      "/tmp/ipykernel_44177/2097424821.py:374: RuntimeWarning: overflow encountered in exp\n"
     ]
    },
    {
     "name": "stdout",
     "output_type": "stream",
     "text": [
      "[CV] END aggregation_method=proba, epochs=50, learning_rate=0.001, n_control_points=7, smoothing_factor=0.05; total time=   3.5s\n",
      "[CV] END aggregation_method=proba, epochs=50, learning_rate=0.001, n_control_points=7, smoothing_factor=0.05; total time=   3.7s\n"
     ]
    },
    {
     "name": "stderr",
     "output_type": "stream",
     "text": [
      "/tmp/ipykernel_44177/2097424821.py:374: RuntimeWarning: overflow encountered in exp\n",
      "/tmp/ipykernel_44177/2097424821.py:374: RuntimeWarning: overflow encountered in exp\n"
     ]
    },
    {
     "name": "stdout",
     "output_type": "stream",
     "text": [
      "[CV] END aggregation_method=proba, epochs=50, learning_rate=0.001, n_control_points=7, smoothing_factor=0.1; total time=   3.4s\n",
      "[CV] END aggregation_method=proba, epochs=50, learning_rate=0.001, n_control_points=7, smoothing_factor=0.05; total time=   3.5s\n",
      "[CV] END aggregation_method=proba, epochs=50, learning_rate=0.001, n_control_points=7, smoothing_factor=0.1; total time=   3.8s\n",
      "[CV] END aggregation_method=proba, epochs=50, learning_rate=0.001, n_control_points=7, smoothing_factor=0.1; total time=   4.2s\n",
      "[CV] END aggregation_method=proba, epochs=50, learning_rate=0.001, n_control_points=7, smoothing_factor=0.2; total time=   3.8s\n",
      "[CV] END aggregation_method=proba, epochs=50, learning_rate=0.001, n_control_points=7, smoothing_factor=0.2; total time=   3.8s\n",
      "[CV] END aggregation_method=proba, epochs=50, learning_rate=0.001, n_control_points=7, smoothing_factor=0.1; total time=   5.0s\n",
      "[CV] END aggregation_method=proba, epochs=50, learning_rate=0.001, n_control_points=7, smoothing_factor=0.2; total time=   3.5s\n"
     ]
    },
    {
     "name": "stderr",
     "output_type": "stream",
     "text": [
      "/tmp/ipykernel_44177/2097424821.py:374: RuntimeWarning: overflow encountered in exp\n",
      "/tmp/ipykernel_44177/2097424821.py:374: RuntimeWarning: overflow encountered in exp\n"
     ]
    },
    {
     "name": "stdout",
     "output_type": "stream",
     "text": [
      "[CV] END aggregation_method=proba, epochs=50, learning_rate=0.001, n_control_points=7, smoothing_factor=0.1; total time=   5.7s\n"
     ]
    },
    {
     "name": "stderr",
     "output_type": "stream",
     "text": [
      "/tmp/ipykernel_44177/2097424821.py:374: RuntimeWarning: overflow encountered in exp\n"
     ]
    },
    {
     "name": "stdout",
     "output_type": "stream",
     "text": [
      "[CV] END aggregation_method=proba, epochs=50, learning_rate=0.001, n_control_points=7, smoothing_factor=0.2; total time=   5.1s\n",
      "[CV] END aggregation_method=proba, epochs=50, learning_rate=0.001, n_control_points=7, smoothing_factor=0.2; total time=   6.1s\n",
      "[CV] END aggregation_method=proba, epochs=50, learning_rate=0.005, n_control_points=3, smoothing_factor=0.05; total time=   4.5s\n",
      "[CV] END aggregation_method=proba, epochs=50, learning_rate=0.005, n_control_points=3, smoothing_factor=0.05; total time=   4.4s\n",
      "[CV] END aggregation_method=proba, epochs=50, learning_rate=0.005, n_control_points=3, smoothing_factor=0.05; total time=   4.6s\n",
      "[CV] END aggregation_method=proba, epochs=50, learning_rate=0.005, n_control_points=3, smoothing_factor=0.05; total time=   4.5s\n",
      "[CV] END aggregation_method=proba, epochs=50, learning_rate=0.005, n_control_points=3, smoothing_factor=0.1; total time=   4.5s\n",
      "[CV] END aggregation_method=proba, epochs=50, learning_rate=0.005, n_control_points=3, smoothing_factor=0.05; total time=   4.7s\n",
      "[CV] END aggregation_method=proba, epochs=50, learning_rate=0.005, n_control_points=3, smoothing_factor=0.1; total time=   4.5s\n",
      "[CV] END aggregation_method=proba, epochs=50, learning_rate=0.005, n_control_points=3, smoothing_factor=0.1; total time=   4.4s\n",
      "[CV] END aggregation_method=proba, epochs=50, learning_rate=0.005, n_control_points=3, smoothing_factor=0.2; total time=   4.2s\n",
      "[CV] END aggregation_method=proba, epochs=50, learning_rate=0.005, n_control_points=3, smoothing_factor=0.1; total time=   6.5s\n",
      "[CV] END aggregation_method=proba, epochs=50, learning_rate=0.005, n_control_points=3, smoothing_factor=0.2; total time=   4.4s\n",
      "[CV] END aggregation_method=proba, epochs=50, learning_rate=0.005, n_control_points=3, smoothing_factor=0.1; total time=   6.8s\n",
      "[CV] END aggregation_method=proba, epochs=50, learning_rate=0.005, n_control_points=5, smoothing_factor=0.05; total time=   4.6s\n"
     ]
    },
    {
     "name": "stderr",
     "output_type": "stream",
     "text": [
      "/tmp/ipykernel_44177/2097424821.py:374: RuntimeWarning: overflow encountered in exp\n"
     ]
    },
    {
     "name": "stdout",
     "output_type": "stream",
     "text": [
      "[CV] END aggregation_method=proba, epochs=50, learning_rate=0.005, n_control_points=3, smoothing_factor=0.2; total time=   6.6s\n",
      "[CV] END aggregation_method=proba, epochs=50, learning_rate=0.005, n_control_points=5, smoothing_factor=0.05; total time=   4.5s\n"
     ]
    },
    {
     "name": "stderr",
     "output_type": "stream",
     "text": [
      "/tmp/ipykernel_44177/2097424821.py:374: RuntimeWarning: overflow encountered in exp\n",
      "/tmp/ipykernel_44177/2097424821.py:374: RuntimeWarning: overflow encountered in exp\n"
     ]
    },
    {
     "name": "stdout",
     "output_type": "stream",
     "text": [
      "[CV] END aggregation_method=proba, epochs=50, learning_rate=0.005, n_control_points=5, smoothing_factor=0.05; total time=   4.6s\n",
      "[CV] END aggregation_method=proba, epochs=50, learning_rate=0.005, n_control_points=3, smoothing_factor=0.2; total time=   5.5s\n",
      "[CV] END aggregation_method=proba, epochs=50, learning_rate=0.005, n_control_points=3, smoothing_factor=0.2; total time=   7.0s\n"
     ]
    },
    {
     "name": "stderr",
     "output_type": "stream",
     "text": [
      "/tmp/ipykernel_44177/2097424821.py:374: RuntimeWarning: overflow encountered in exp\n",
      "/tmp/ipykernel_44177/2097424821.py:374: RuntimeWarning: overflow encountered in exp\n"
     ]
    },
    {
     "name": "stdout",
     "output_type": "stream",
     "text": [
      "[CV] END aggregation_method=proba, epochs=50, learning_rate=0.005, n_control_points=5, smoothing_factor=0.05; total time=   4.5s\n",
      "[CV] END aggregation_method=proba, epochs=50, learning_rate=0.005, n_control_points=5, smoothing_factor=0.05; total time=   4.5s\n"
     ]
    },
    {
     "name": "stderr",
     "output_type": "stream",
     "text": [
      "/tmp/ipykernel_44177/2097424821.py:374: RuntimeWarning: overflow encountered in exp\n"
     ]
    },
    {
     "name": "stdout",
     "output_type": "stream",
     "text": [
      "[CV] END aggregation_method=proba, epochs=50, learning_rate=0.005, n_control_points=5, smoothing_factor=0.1; total time=   4.7s\n"
     ]
    },
    {
     "name": "stderr",
     "output_type": "stream",
     "text": [
      "/tmp/ipykernel_44177/2097424821.py:374: RuntimeWarning: overflow encountered in exp\n",
      "/tmp/ipykernel_44177/2097424821.py:374: RuntimeWarning: overflow encountered in exp\n"
     ]
    },
    {
     "name": "stdout",
     "output_type": "stream",
     "text": [
      "[CV] END aggregation_method=proba, epochs=50, learning_rate=0.005, n_control_points=5, smoothing_factor=0.1; total time=   4.9s\n",
      "[CV] END aggregation_method=proba, epochs=50, learning_rate=0.005, n_control_points=5, smoothing_factor=0.1; total time=   4.7s\n"
     ]
    },
    {
     "name": "stderr",
     "output_type": "stream",
     "text": [
      "/tmp/ipykernel_44177/2097424821.py:374: RuntimeWarning: overflow encountered in exp\n"
     ]
    },
    {
     "name": "stdout",
     "output_type": "stream",
     "text": [
      "[CV] END aggregation_method=proba, epochs=50, learning_rate=0.005, n_control_points=5, smoothing_factor=0.1; total time=   4.4s\n"
     ]
    },
    {
     "name": "stderr",
     "output_type": "stream",
     "text": [
      "/tmp/ipykernel_44177/2097424821.py:374: RuntimeWarning: overflow encountered in exp\n",
      "/tmp/ipykernel_44177/2097424821.py:374: RuntimeWarning: overflow encountered in exp\n"
     ]
    },
    {
     "name": "stdout",
     "output_type": "stream",
     "text": [
      "[CV] END aggregation_method=proba, epochs=50, learning_rate=0.005, n_control_points=5, smoothing_factor=0.2; total time=   4.5s\n",
      "[CV] END aggregation_method=proba, epochs=50, learning_rate=0.005, n_control_points=5, smoothing_factor=0.2; total time=   4.5s\n"
     ]
    },
    {
     "name": "stderr",
     "output_type": "stream",
     "text": [
      "/tmp/ipykernel_44177/2097424821.py:374: RuntimeWarning: overflow encountered in exp\n",
      "/tmp/ipykernel_44177/2097424821.py:374: RuntimeWarning: overflow encountered in exp\n"
     ]
    },
    {
     "name": "stdout",
     "output_type": "stream",
     "text": [
      "[CV] END aggregation_method=proba, epochs=50, learning_rate=0.005, n_control_points=7, smoothing_factor=0.05; total time=   4.0s\n",
      "[CV] END aggregation_method=proba, epochs=50, learning_rate=0.005, n_control_points=7, smoothing_factor=0.05; total time=   4.1s\n"
     ]
    },
    {
     "name": "stderr",
     "output_type": "stream",
     "text": [
      "/tmp/ipykernel_44177/2097424821.py:374: RuntimeWarning: overflow encountered in exp\n"
     ]
    },
    {
     "name": "stdout",
     "output_type": "stream",
     "text": [
      "[CV] END aggregation_method=proba, epochs=50, learning_rate=0.005, n_control_points=5, smoothing_factor=0.1; total time=   6.5s\n"
     ]
    },
    {
     "name": "stderr",
     "output_type": "stream",
     "text": [
      "/tmp/ipykernel_44177/2097424821.py:374: RuntimeWarning: overflow encountered in exp\n",
      "/tmp/ipykernel_44177/2097424821.py:374: RuntimeWarning: overflow encountered in exp\n"
     ]
    },
    {
     "name": "stdout",
     "output_type": "stream",
     "text": [
      "[CV] END aggregation_method=proba, epochs=50, learning_rate=0.005, n_control_points=5, smoothing_factor=0.2; total time=   6.5s\n",
      "[CV] END aggregation_method=proba, epochs=50, learning_rate=0.005, n_control_points=5, smoothing_factor=0.2; total time=   6.3s\n"
     ]
    },
    {
     "name": "stderr",
     "output_type": "stream",
     "text": [
      "/tmp/ipykernel_44177/2097424821.py:374: RuntimeWarning: overflow encountered in exp\n",
      "/tmp/ipykernel_44177/2097424821.py:374: RuntimeWarning: overflow encountered in exp\n"
     ]
    },
    {
     "name": "stdout",
     "output_type": "stream",
     "text": [
      "[CV] END aggregation_method=proba, epochs=50, learning_rate=0.005, n_control_points=5, smoothing_factor=0.2; total time=   6.6s\n",
      "[CV] END aggregation_method=proba, epochs=50, learning_rate=0.005, n_control_points=7, smoothing_factor=0.05; total time=   4.0s\n"
     ]
    },
    {
     "name": "stderr",
     "output_type": "stream",
     "text": [
      "/tmp/ipykernel_44177/2097424821.py:374: RuntimeWarning: overflow encountered in exp\n"
     ]
    },
    {
     "name": "stdout",
     "output_type": "stream",
     "text": [
      "[CV] END aggregation_method=proba, epochs=50, learning_rate=0.005, n_control_points=7, smoothing_factor=0.05; total time=   4.4s\n"
     ]
    },
    {
     "name": "stderr",
     "output_type": "stream",
     "text": [
      "/tmp/ipykernel_44177/2097424821.py:374: RuntimeWarning: overflow encountered in exp\n",
      "/tmp/ipykernel_44177/2097424821.py:374: RuntimeWarning: overflow encountered in exp\n"
     ]
    },
    {
     "name": "stdout",
     "output_type": "stream",
     "text": [
      "[CV] END aggregation_method=proba, epochs=50, learning_rate=0.005, n_control_points=7, smoothing_factor=0.05; total time=   4.5s\n",
      "[CV] END aggregation_method=proba, epochs=50, learning_rate=0.005, n_control_points=7, smoothing_factor=0.1; total time=   4.3s\n"
     ]
    },
    {
     "name": "stderr",
     "output_type": "stream",
     "text": [
      "/tmp/ipykernel_44177/2097424821.py:374: RuntimeWarning: overflow encountered in exp\n",
      "/tmp/ipykernel_44177/2097424821.py:374: RuntimeWarning: overflow encountered in exp\n"
     ]
    },
    {
     "name": "stdout",
     "output_type": "stream",
     "text": [
      "[CV] END aggregation_method=proba, epochs=50, learning_rate=0.005, n_control_points=7, smoothing_factor=0.1; total time=   4.1s\n",
      "[CV] END aggregation_method=proba, epochs=50, learning_rate=0.005, n_control_points=7, smoothing_factor=0.1; total time=   4.2s\n"
     ]
    },
    {
     "name": "stderr",
     "output_type": "stream",
     "text": [
      "/tmp/ipykernel_44177/2097424821.py:374: RuntimeWarning: overflow encountered in exp\n",
      "/tmp/ipykernel_44177/2097424821.py:374: RuntimeWarning: overflow encountered in exp\n"
     ]
    },
    {
     "name": "stdout",
     "output_type": "stream",
     "text": [
      "[CV] END aggregation_method=proba, epochs=50, learning_rate=0.005, n_control_points=7, smoothing_factor=0.1; total time=   4.3s\n",
      "[CV] END aggregation_method=proba, epochs=50, learning_rate=0.005, n_control_points=7, smoothing_factor=0.1; total time=   4.4s\n"
     ]
    },
    {
     "name": "stderr",
     "output_type": "stream",
     "text": [
      "/tmp/ipykernel_44177/2097424821.py:374: RuntimeWarning: overflow encountered in exp\n",
      "/tmp/ipykernel_44177/2097424821.py:374: RuntimeWarning: overflow encountered in exp\n"
     ]
    },
    {
     "name": "stdout",
     "output_type": "stream",
     "text": [
      "[CV] END aggregation_method=proba, epochs=50, learning_rate=0.005, n_control_points=7, smoothing_factor=0.2; total time=   4.2s\n",
      "[CV] END aggregation_method=proba, epochs=50, learning_rate=0.005, n_control_points=7, smoothing_factor=0.2; total time=   5.0s\n"
     ]
    },
    {
     "name": "stderr",
     "output_type": "stream",
     "text": [
      "/tmp/ipykernel_44177/2097424821.py:374: RuntimeWarning: overflow encountered in exp\n",
      "/tmp/ipykernel_44177/2097424821.py:374: RuntimeWarning: overflow encountered in exp\n"
     ]
    },
    {
     "name": "stdout",
     "output_type": "stream",
     "text": [
      "[CV] END aggregation_method=proba, epochs=50, learning_rate=0.005, n_control_points=7, smoothing_factor=0.2; total time=   6.2s\n",
      "[CV] END aggregation_method=proba, epochs=50, learning_rate=0.005, n_control_points=7, smoothing_factor=0.2; total time=   5.8s\n",
      "[CV] END aggregation_method=proba, epochs=50, learning_rate=0.01, n_control_points=3, smoothing_factor=0.05; total time=   4.8s\n",
      "[CV] END aggregation_method=proba, epochs=50, learning_rate=0.01, n_control_points=3, smoothing_factor=0.05; total time=   4.6s\n",
      "[CV] END aggregation_method=proba, epochs=50, learning_rate=0.01, n_control_points=3, smoothing_factor=0.05; total time=   4.7s\n"
     ]
    },
    {
     "name": "stderr",
     "output_type": "stream",
     "text": [
      "/tmp/ipykernel_44177/2097424821.py:374: RuntimeWarning: overflow encountered in exp\n"
     ]
    },
    {
     "name": "stdout",
     "output_type": "stream",
     "text": [
      "[CV] END aggregation_method=proba, epochs=50, learning_rate=0.005, n_control_points=7, smoothing_factor=0.2; total time=   6.4s\n",
      "[CV] END aggregation_method=proba, epochs=50, learning_rate=0.01, n_control_points=3, smoothing_factor=0.05; total time=   4.7s\n",
      "[CV] END aggregation_method=proba, epochs=50, learning_rate=0.01, n_control_points=3, smoothing_factor=0.1; total time=   4.8s\n",
      "[CV] END aggregation_method=proba, epochs=50, learning_rate=0.01, n_control_points=3, smoothing_factor=0.1; total time=   4.7s\n",
      "[CV] END aggregation_method=proba, epochs=50, learning_rate=0.01, n_control_points=3, smoothing_factor=0.05; total time=   6.9s\n",
      "[CV] END aggregation_method=proba, epochs=50, learning_rate=0.01, n_control_points=3, smoothing_factor=0.1; total time=   4.5s\n",
      "[CV] END aggregation_method=proba, epochs=50, learning_rate=0.01, n_control_points=3, smoothing_factor=0.1; total time=   4.8s\n",
      "[CV] END aggregation_method=proba, epochs=50, learning_rate=0.01, n_control_points=3, smoothing_factor=0.2; total time=   4.6s\n",
      "[CV] END aggregation_method=proba, epochs=50, learning_rate=0.01, n_control_points=3, smoothing_factor=0.2; total time=   4.7s\n",
      "[CV] END aggregation_method=proba, epochs=50, learning_rate=0.01, n_control_points=3, smoothing_factor=0.2; total time=   4.8s\n"
     ]
    },
    {
     "name": "stderr",
     "output_type": "stream",
     "text": [
      "/tmp/ipykernel_44177/2097424821.py:374: RuntimeWarning: overflow encountered in exp\n"
     ]
    },
    {
     "name": "stdout",
     "output_type": "stream",
     "text": [
      "[CV] END aggregation_method=proba, epochs=50, learning_rate=0.01, n_control_points=5, smoothing_factor=0.05; total time=   4.8s\n"
     ]
    },
    {
     "name": "stderr",
     "output_type": "stream",
     "text": [
      "/tmp/ipykernel_44177/2097424821.py:374: RuntimeWarning: overflow encountered in exp\n",
      "/tmp/ipykernel_44177/2097424821.py:374: RuntimeWarning: overflow encountered in exp\n"
     ]
    },
    {
     "name": "stdout",
     "output_type": "stream",
     "text": [
      "[CV] END aggregation_method=proba, epochs=50, learning_rate=0.01, n_control_points=5, smoothing_factor=0.05; total time=   4.6s\n",
      "[CV] END aggregation_method=proba, epochs=50, learning_rate=0.01, n_control_points=5, smoothing_factor=0.05; total time=   4.7s\n",
      "[CV] END aggregation_method=proba, epochs=50, learning_rate=0.01, n_control_points=3, smoothing_factor=0.2; total time=   6.9s\n",
      "[CV] END aggregation_method=proba, epochs=50, learning_rate=0.01, n_control_points=3, smoothing_factor=0.1; total time=   7.1s\n",
      "[CV] END aggregation_method=proba, epochs=50, learning_rate=0.01, n_control_points=3, smoothing_factor=0.2; total time=   7.0s\n",
      "[CV] END aggregation_method=proba, epochs=50, learning_rate=0.01, n_control_points=5, smoothing_factor=0.05; total time=   4.5s\n"
     ]
    },
    {
     "name": "stderr",
     "output_type": "stream",
     "text": [
      "/tmp/ipykernel_44177/2097424821.py:374: RuntimeWarning: overflow encountered in exp\n"
     ]
    },
    {
     "name": "stdout",
     "output_type": "stream",
     "text": [
      "[CV] END aggregation_method=proba, epochs=50, learning_rate=0.01, n_control_points=5, smoothing_factor=0.1; total time=   4.9s\n"
     ]
    },
    {
     "name": "stderr",
     "output_type": "stream",
     "text": [
      "/tmp/ipykernel_44177/2097424821.py:374: RuntimeWarning: overflow encountered in exp\n",
      "/tmp/ipykernel_44177/2097424821.py:374: RuntimeWarning: overflow encountered in exp\n"
     ]
    },
    {
     "name": "stdout",
     "output_type": "stream",
     "text": [
      "[CV] END aggregation_method=proba, epochs=50, learning_rate=0.01, n_control_points=5, smoothing_factor=0.1; total time=   4.6s\n",
      "[CV] END aggregation_method=proba, epochs=50, learning_rate=0.01, n_control_points=5, smoothing_factor=0.1; total time=   4.7s\n"
     ]
    },
    {
     "name": "stderr",
     "output_type": "stream",
     "text": [
      "/tmp/ipykernel_44177/2097424821.py:374: RuntimeWarning: overflow encountered in exp\n"
     ]
    },
    {
     "name": "stdout",
     "output_type": "stream",
     "text": [
      "[CV] END aggregation_method=proba, epochs=50, learning_rate=0.01, n_control_points=5, smoothing_factor=0.1; total time=   4.7s\n"
     ]
    },
    {
     "name": "stderr",
     "output_type": "stream",
     "text": [
      "/tmp/ipykernel_44177/2097424821.py:374: RuntimeWarning: overflow encountered in exp\n"
     ]
    },
    {
     "name": "stdout",
     "output_type": "stream",
     "text": [
      "[CV] END aggregation_method=proba, epochs=50, learning_rate=0.01, n_control_points=5, smoothing_factor=0.05; total time=   6.9s\n",
      "[CV] END aggregation_method=proba, epochs=50, learning_rate=0.01, n_control_points=5, smoothing_factor=0.1; total time=   4.4s\n"
     ]
    },
    {
     "name": "stderr",
     "output_type": "stream",
     "text": [
      "/tmp/ipykernel_44177/2097424821.py:374: RuntimeWarning: overflow encountered in exp\n",
      "/tmp/ipykernel_44177/2097424821.py:374: RuntimeWarning: overflow encountered in exp\n"
     ]
    },
    {
     "name": "stdout",
     "output_type": "stream",
     "text": [
      "[CV] END aggregation_method=proba, epochs=50, learning_rate=0.01, n_control_points=5, smoothing_factor=0.2; total time=   4.7s\n",
      "[CV] END aggregation_method=proba, epochs=50, learning_rate=0.01, n_control_points=5, smoothing_factor=0.2; total time=   5.0s\n"
     ]
    },
    {
     "name": "stderr",
     "output_type": "stream",
     "text": [
      "/tmp/ipykernel_44177/2097424821.py:374: RuntimeWarning: overflow encountered in exp\n"
     ]
    },
    {
     "name": "stdout",
     "output_type": "stream",
     "text": [
      "[CV] END aggregation_method=proba, epochs=50, learning_rate=0.01, n_control_points=7, smoothing_factor=0.05; total time=   4.3s\n"
     ]
    },
    {
     "name": "stderr",
     "output_type": "stream",
     "text": [
      "/tmp/ipykernel_44177/2097424821.py:374: RuntimeWarning: overflow encountered in exp\n",
      "/tmp/ipykernel_44177/2097424821.py:374: RuntimeWarning: overflow encountered in exp\n"
     ]
    },
    {
     "name": "stdout",
     "output_type": "stream",
     "text": [
      "[CV] END aggregation_method=proba, epochs=50, learning_rate=0.01, n_control_points=5, smoothing_factor=0.2; total time=   6.6s\n",
      "[CV] END aggregation_method=proba, epochs=50, learning_rate=0.01, n_control_points=7, smoothing_factor=0.05; total time=   4.7s\n",
      "[CV] END aggregation_method=proba, epochs=50, learning_rate=0.01, n_control_points=5, smoothing_factor=0.2; total time=   6.9s\n"
     ]
    },
    {
     "name": "stderr",
     "output_type": "stream",
     "text": [
      "/tmp/ipykernel_44177/2097424821.py:374: RuntimeWarning: overflow encountered in exp\n"
     ]
    },
    {
     "name": "stdout",
     "output_type": "stream",
     "text": [
      "[CV] END aggregation_method=proba, epochs=50, learning_rate=0.01, n_control_points=5, smoothing_factor=0.2; total time=   6.2s\n"
     ]
    },
    {
     "name": "stderr",
     "output_type": "stream",
     "text": [
      "/tmp/ipykernel_44177/2097424821.py:374: RuntimeWarning: overflow encountered in exp\n",
      "/tmp/ipykernel_44177/2097424821.py:374: RuntimeWarning: overflow encountered in exp\n"
     ]
    },
    {
     "name": "stdout",
     "output_type": "stream",
     "text": [
      "[CV] END aggregation_method=proba, epochs=50, learning_rate=0.01, n_control_points=7, smoothing_factor=0.05; total time=   4.7s\n",
      "[CV] END aggregation_method=proba, epochs=50, learning_rate=0.01, n_control_points=7, smoothing_factor=0.05; total time=   4.5s\n"
     ]
    },
    {
     "name": "stderr",
     "output_type": "stream",
     "text": [
      "/tmp/ipykernel_44177/2097424821.py:374: RuntimeWarning: overflow encountered in exp\n",
      "/tmp/ipykernel_44177/2097424821.py:374: RuntimeWarning: overflow encountered in exp\n"
     ]
    },
    {
     "name": "stdout",
     "output_type": "stream",
     "text": [
      "[CV] END aggregation_method=proba, epochs=50, learning_rate=0.01, n_control_points=7, smoothing_factor=0.1; total time=   4.6s\n",
      "[CV] END aggregation_method=proba, epochs=50, learning_rate=0.01, n_control_points=7, smoothing_factor=0.05; total time=   5.3s\n"
     ]
    },
    {
     "name": "stderr",
     "output_type": "stream",
     "text": [
      "/tmp/ipykernel_44177/2097424821.py:374: RuntimeWarning: overflow encountered in exp\n"
     ]
    },
    {
     "name": "stdout",
     "output_type": "stream",
     "text": [
      "[CV] END aggregation_method=proba, epochs=50, learning_rate=0.01, n_control_points=7, smoothing_factor=0.1; total time=   4.8s\n"
     ]
    },
    {
     "name": "stderr",
     "output_type": "stream",
     "text": [
      "/tmp/ipykernel_44177/2097424821.py:374: RuntimeWarning: overflow encountered in exp\n"
     ]
    },
    {
     "name": "stdout",
     "output_type": "stream",
     "text": [
      "[CV] END aggregation_method=proba, epochs=50, learning_rate=0.01, n_control_points=7, smoothing_factor=0.1; total time=   6.4s\n"
     ]
    },
    {
     "name": "stderr",
     "output_type": "stream",
     "text": [
      "/tmp/ipykernel_44177/2097424821.py:374: RuntimeWarning: overflow encountered in exp\n"
     ]
    },
    {
     "name": "stdout",
     "output_type": "stream",
     "text": [
      "[CV] END aggregation_method=proba, epochs=50, learning_rate=0.01, n_control_points=7, smoothing_factor=0.1; total time=   4.6s\n"
     ]
    },
    {
     "name": "stderr",
     "output_type": "stream",
     "text": [
      "/tmp/ipykernel_44177/2097424821.py:374: RuntimeWarning: overflow encountered in exp\n"
     ]
    },
    {
     "name": "stdout",
     "output_type": "stream",
     "text": [
      "[CV] END aggregation_method=proba, epochs=50, learning_rate=0.01, n_control_points=7, smoothing_factor=0.1; total time=   6.1s\n",
      "[CV] END aggregation_method=proba, epochs=100, learning_rate=0.001, n_control_points=3, smoothing_factor=0.05; total time=   3.2s\n"
     ]
    },
    {
     "name": "stderr",
     "output_type": "stream",
     "text": [
      "/tmp/ipykernel_44177/2097424821.py:374: RuntimeWarning: overflow encountered in exp\n"
     ]
    },
    {
     "name": "stdout",
     "output_type": "stream",
     "text": [
      "[CV] END aggregation_method=proba, epochs=50, learning_rate=0.01, n_control_points=7, smoothing_factor=0.2; total time=   4.8s\n"
     ]
    },
    {
     "name": "stderr",
     "output_type": "stream",
     "text": [
      "/tmp/ipykernel_44177/2097424821.py:374: RuntimeWarning: overflow encountered in exp\n"
     ]
    },
    {
     "name": "stdout",
     "output_type": "stream",
     "text": [
      "[CV] END aggregation_method=proba, epochs=50, learning_rate=0.01, n_control_points=7, smoothing_factor=0.2; total time=   4.8s\n"
     ]
    },
    {
     "name": "stderr",
     "output_type": "stream",
     "text": [
      "/tmp/ipykernel_44177/2097424821.py:374: RuntimeWarning: overflow encountered in exp\n",
      "/tmp/ipykernel_44177/2097424821.py:374: RuntimeWarning: overflow encountered in exp\n"
     ]
    },
    {
     "name": "stdout",
     "output_type": "stream",
     "text": [
      "[CV] END aggregation_method=proba, epochs=50, learning_rate=0.01, n_control_points=7, smoothing_factor=0.2; total time=   4.7s\n",
      "[CV] END aggregation_method=proba, epochs=50, learning_rate=0.01, n_control_points=7, smoothing_factor=0.2; total time=   4.5s\n",
      "[CV] END aggregation_method=proba, epochs=100, learning_rate=0.001, n_control_points=3, smoothing_factor=0.05; total time=   4.0s\n"
     ]
    },
    {
     "name": "stderr",
     "output_type": "stream",
     "text": [
      "/tmp/ipykernel_44177/2097424821.py:374: RuntimeWarning: overflow encountered in exp\n"
     ]
    },
    {
     "name": "stdout",
     "output_type": "stream",
     "text": [
      "[CV] END aggregation_method=proba, epochs=50, learning_rate=0.01, n_control_points=7, smoothing_factor=0.2; total time=   6.4s\n",
      "[CV] END aggregation_method=proba, epochs=100, learning_rate=0.001, n_control_points=3, smoothing_factor=0.1; total time=   3.2s\n",
      "[CV] END aggregation_method=proba, epochs=100, learning_rate=0.001, n_control_points=3, smoothing_factor=0.05; total time=   4.3s\n",
      "[CV] END aggregation_method=proba, epochs=100, learning_rate=0.001, n_control_points=3, smoothing_factor=0.05; total time=   6.0s\n",
      "[CV] END aggregation_method=proba, epochs=100, learning_rate=0.001, n_control_points=3, smoothing_factor=0.1; total time=   3.9s\n",
      "[CV] END aggregation_method=proba, epochs=100, learning_rate=0.001, n_control_points=3, smoothing_factor=0.2; total time=   3.2s\n",
      "[CV] END aggregation_method=proba, epochs=100, learning_rate=0.001, n_control_points=3, smoothing_factor=0.1; total time=   4.3s\n",
      "[CV] END aggregation_method=proba, epochs=100, learning_rate=0.001, n_control_points=3, smoothing_factor=0.1; total time=   4.1s\n",
      "[CV] END aggregation_method=proba, epochs=100, learning_rate=0.001, n_control_points=3, smoothing_factor=0.05; total time=   6.1s\n",
      "[CV] END aggregation_method=proba, epochs=100, learning_rate=0.001, n_control_points=3, smoothing_factor=0.2; total time=   3.9s\n",
      "[CV] END aggregation_method=proba, epochs=100, learning_rate=0.001, n_control_points=3, smoothing_factor=0.2; total time=   4.1s\n",
      "[CV] END aggregation_method=proba, epochs=100, learning_rate=0.001, n_control_points=3, smoothing_factor=0.1; total time=   6.0s\n",
      "[CV] END aggregation_method=proba, epochs=100, learning_rate=0.001, n_control_points=3, smoothing_factor=0.2; total time=   4.1s\n",
      "[CV] END aggregation_method=proba, epochs=100, learning_rate=0.001, n_control_points=5, smoothing_factor=0.05; total time=   4.3s\n",
      "[CV] END aggregation_method=proba, epochs=100, learning_rate=0.001, n_control_points=5, smoothing_factor=0.05; total time=   3.8s\n",
      "[CV] END aggregation_method=proba, epochs=100, learning_rate=0.001, n_control_points=5, smoothing_factor=0.05; total time=   3.6s\n",
      "[CV] END aggregation_method=proba, epochs=100, learning_rate=0.001, n_control_points=3, smoothing_factor=0.2; total time=   6.1s\n",
      "[CV] END aggregation_method=proba, epochs=100, learning_rate=0.001, n_control_points=5, smoothing_factor=0.05; total time=   3.6s\n",
      "[CV] END aggregation_method=proba, epochs=100, learning_rate=0.001, n_control_points=5, smoothing_factor=0.05; total time=   5.7s\n",
      "[CV] END aggregation_method=proba, epochs=100, learning_rate=0.001, n_control_points=5, smoothing_factor=0.1; total time=   3.8s\n",
      "[CV] END aggregation_method=proba, epochs=100, learning_rate=0.001, n_control_points=5, smoothing_factor=0.1; total time=   3.7s\n",
      "[CV] END aggregation_method=proba, epochs=100, learning_rate=0.001, n_control_points=5, smoothing_factor=0.1; total time=   4.4s\n",
      "[CV] END aggregation_method=proba, epochs=100, learning_rate=0.001, n_control_points=5, smoothing_factor=0.1; total time=   5.7s\n",
      "[CV] END aggregation_method=proba, epochs=100, learning_rate=0.001, n_control_points=5, smoothing_factor=0.2; total time=   4.2s\n",
      "[CV] END aggregation_method=proba, epochs=100, learning_rate=0.001, n_control_points=5, smoothing_factor=0.2; total time=   3.9s\n",
      "[CV] END aggregation_method=proba, epochs=100, learning_rate=0.001, n_control_points=5, smoothing_factor=0.1; total time=   5.4s\n",
      "[CV] END aggregation_method=proba, epochs=100, learning_rate=0.001, n_control_points=5, smoothing_factor=0.2; total time=   3.8s\n",
      "[CV] END aggregation_method=proba, epochs=100, learning_rate=0.001, n_control_points=5, smoothing_factor=0.2; total time=   3.6s\n"
     ]
    },
    {
     "name": "stderr",
     "output_type": "stream",
     "text": [
      "/tmp/ipykernel_44177/2097424821.py:374: RuntimeWarning: overflow encountered in exp\n"
     ]
    },
    {
     "name": "stdout",
     "output_type": "stream",
     "text": [
      "[CV] END aggregation_method=proba, epochs=100, learning_rate=0.001, n_control_points=7, smoothing_factor=0.05; total time=   3.6s\n",
      "[CV] END aggregation_method=proba, epochs=100, learning_rate=0.001, n_control_points=7, smoothing_factor=0.05; total time=   4.2s\n"
     ]
    },
    {
     "name": "stderr",
     "output_type": "stream",
     "text": [
      "/tmp/ipykernel_44177/2097424821.py:374: RuntimeWarning: overflow encountered in exp\n"
     ]
    },
    {
     "name": "stdout",
     "output_type": "stream",
     "text": [
      "[CV] END aggregation_method=proba, epochs=100, learning_rate=0.001, n_control_points=7, smoothing_factor=0.05; total time=   3.9s\n",
      "[CV] END aggregation_method=proba, epochs=100, learning_rate=0.001, n_control_points=5, smoothing_factor=0.2; total time=   5.4s\n",
      "[CV] END aggregation_method=proba, epochs=100, learning_rate=0.001, n_control_points=7, smoothing_factor=0.05; total time=   5.1s\n"
     ]
    },
    {
     "name": "stderr",
     "output_type": "stream",
     "text": [
      "/tmp/ipykernel_44177/2097424821.py:374: RuntimeWarning: overflow encountered in exp\n"
     ]
    },
    {
     "name": "stdout",
     "output_type": "stream",
     "text": [
      "[CV] END aggregation_method=proba, epochs=100, learning_rate=0.001, n_control_points=7, smoothing_factor=0.1; total time=   3.8s\n",
      "[CV] END aggregation_method=proba, epochs=100, learning_rate=0.001, n_control_points=7, smoothing_factor=0.1; total time=   4.2s\n",
      "[CV] END aggregation_method=proba, epochs=100, learning_rate=0.001, n_control_points=7, smoothing_factor=0.1; total time=   3.8s\n",
      "[CV] END aggregation_method=proba, epochs=100, learning_rate=0.001, n_control_points=7, smoothing_factor=0.1; total time=   4.5s\n"
     ]
    },
    {
     "name": "stderr",
     "output_type": "stream",
     "text": [
      "/tmp/ipykernel_44177/2097424821.py:374: RuntimeWarning: overflow encountered in exp\n"
     ]
    },
    {
     "name": "stdout",
     "output_type": "stream",
     "text": [
      "[CV] END aggregation_method=proba, epochs=100, learning_rate=0.001, n_control_points=7, smoothing_factor=0.05; total time=   6.6s\n",
      "[CV] END aggregation_method=proba, epochs=100, learning_rate=0.001, n_control_points=7, smoothing_factor=0.2; total time=   4.3s\n"
     ]
    },
    {
     "name": "stderr",
     "output_type": "stream",
     "text": [
      "/tmp/ipykernel_44177/2097424821.py:374: RuntimeWarning: overflow encountered in exp\n"
     ]
    },
    {
     "name": "stdout",
     "output_type": "stream",
     "text": [
      "[CV] END aggregation_method=proba, epochs=100, learning_rate=0.001, n_control_points=7, smoothing_factor=0.2; total time=   3.8s\n",
      "[CV] END aggregation_method=proba, epochs=100, learning_rate=0.001, n_control_points=7, smoothing_factor=0.2; total time=   4.3s\n",
      "[CV] END aggregation_method=proba, epochs=100, learning_rate=0.001, n_control_points=7, smoothing_factor=0.1; total time=   6.4s\n",
      "[CV] END aggregation_method=proba, epochs=100, learning_rate=0.001, n_control_points=7, smoothing_factor=0.2; total time=   4.0s\n"
     ]
    },
    {
     "name": "stderr",
     "output_type": "stream",
     "text": [
      "/tmp/ipykernel_44177/2097424821.py:374: RuntimeWarning: overflow encountered in exp\n"
     ]
    },
    {
     "name": "stdout",
     "output_type": "stream",
     "text": [
      "[CV] END aggregation_method=proba, epochs=100, learning_rate=0.001, n_control_points=7, smoothing_factor=0.2; total time=   5.6s\n",
      "[CV] END aggregation_method=proba, epochs=100, learning_rate=0.005, n_control_points=3, smoothing_factor=0.05; total time=   6.0s\n",
      "[CV] END aggregation_method=proba, epochs=100, learning_rate=0.005, n_control_points=3, smoothing_factor=0.05; total time=   7.0s\n",
      "[CV] END aggregation_method=proba, epochs=100, learning_rate=0.005, n_control_points=3, smoothing_factor=0.05; total time=   6.8s\n",
      "[CV] END aggregation_method=proba, epochs=100, learning_rate=0.005, n_control_points=3, smoothing_factor=0.05; total time=   6.8s\n",
      "[CV] END aggregation_method=proba, epochs=100, learning_rate=0.005, n_control_points=3, smoothing_factor=0.1; total time=   6.7s\n",
      "[CV] END aggregation_method=proba, epochs=100, learning_rate=0.005, n_control_points=3, smoothing_factor=0.1; total time=   5.9s\n",
      "[CV] END aggregation_method=proba, epochs=100, learning_rate=0.005, n_control_points=3, smoothing_factor=0.1; total time=   6.8s\n",
      "[CV] END aggregation_method=proba, epochs=100, learning_rate=0.005, n_control_points=3, smoothing_factor=0.05; total time=   9.5s\n",
      "[CV] END aggregation_method=proba, epochs=100, learning_rate=0.005, n_control_points=3, smoothing_factor=0.2; total time=   6.5s\n",
      "[CV] END aggregation_method=proba, epochs=100, learning_rate=0.005, n_control_points=3, smoothing_factor=0.1; total time=   9.2s\n",
      "[CV] END aggregation_method=proba, epochs=100, learning_rate=0.005, n_control_points=3, smoothing_factor=0.1; total time=  10.1s\n",
      "[CV] END aggregation_method=proba, epochs=100, learning_rate=0.005, n_control_points=3, smoothing_factor=0.2; total time=   6.6s\n",
      "[CV] END aggregation_method=proba, epochs=100, learning_rate=0.005, n_control_points=3, smoothing_factor=0.2; total time=   6.1s\n"
     ]
    },
    {
     "name": "stderr",
     "output_type": "stream",
     "text": [
      "/tmp/ipykernel_44177/2097424821.py:374: RuntimeWarning: overflow encountered in exp\n"
     ]
    },
    {
     "name": "stdout",
     "output_type": "stream",
     "text": [
      "[CV] END aggregation_method=proba, epochs=100, learning_rate=0.005, n_control_points=5, smoothing_factor=0.05; total time=   6.3s\n",
      "[CV] END aggregation_method=proba, epochs=100, learning_rate=0.005, n_control_points=3, smoothing_factor=0.2; total time=   9.5s\n"
     ]
    },
    {
     "name": "stderr",
     "output_type": "stream",
     "text": [
      "/tmp/ipykernel_44177/2097424821.py:374: RuntimeWarning: overflow encountered in exp\n",
      "/tmp/ipykernel_44177/2097424821.py:374: RuntimeWarning: overflow encountered in exp\n"
     ]
    },
    {
     "name": "stdout",
     "output_type": "stream",
     "text": [
      "[CV] END aggregation_method=proba, epochs=100, learning_rate=0.005, n_control_points=5, smoothing_factor=0.05; total time=   6.1s\n",
      "[CV] END aggregation_method=proba, epochs=100, learning_rate=0.005, n_control_points=5, smoothing_factor=0.05; total time=   6.1s\n",
      "[CV] END aggregation_method=proba, epochs=100, learning_rate=0.005, n_control_points=3, smoothing_factor=0.2; total time=   7.0s\n"
     ]
    },
    {
     "name": "stderr",
     "output_type": "stream",
     "text": [
      "/tmp/ipykernel_44177/2097424821.py:374: RuntimeWarning: overflow encountered in exp\n"
     ]
    },
    {
     "name": "stdout",
     "output_type": "stream",
     "text": [
      "[CV] END aggregation_method=proba, epochs=100, learning_rate=0.005, n_control_points=5, smoothing_factor=0.05; total time=   6.2s\n"
     ]
    },
    {
     "name": "stderr",
     "output_type": "stream",
     "text": [
      "/tmp/ipykernel_44177/2097424821.py:374: RuntimeWarning: overflow encountered in exp\n"
     ]
    },
    {
     "name": "stdout",
     "output_type": "stream",
     "text": [
      "[CV] END aggregation_method=proba, epochs=100, learning_rate=0.005, n_control_points=5, smoothing_factor=0.1; total time=   6.2s\n"
     ]
    },
    {
     "name": "stderr",
     "output_type": "stream",
     "text": [
      "/tmp/ipykernel_44177/2097424821.py:374: RuntimeWarning: overflow encountered in exp\n"
     ]
    },
    {
     "name": "stdout",
     "output_type": "stream",
     "text": [
      "[CV] END aggregation_method=proba, epochs=100, learning_rate=0.005, n_control_points=5, smoothing_factor=0.05; total time=   9.2s\n"
     ]
    },
    {
     "name": "stderr",
     "output_type": "stream",
     "text": [
      "/tmp/ipykernel_44177/2097424821.py:374: RuntimeWarning: overflow encountered in exp\n"
     ]
    },
    {
     "name": "stdout",
     "output_type": "stream",
     "text": [
      "[CV] END aggregation_method=proba, epochs=100, learning_rate=0.005, n_control_points=5, smoothing_factor=0.1; total time=   8.8s\n"
     ]
    },
    {
     "name": "stderr",
     "output_type": "stream",
     "text": [
      "/tmp/ipykernel_44177/2097424821.py:374: RuntimeWarning: overflow encountered in exp\n"
     ]
    },
    {
     "name": "stdout",
     "output_type": "stream",
     "text": [
      "[CV] END aggregation_method=proba, epochs=100, learning_rate=0.005, n_control_points=5, smoothing_factor=0.1; total time=   6.9s\n"
     ]
    },
    {
     "name": "stderr",
     "output_type": "stream",
     "text": [
      "/tmp/ipykernel_44177/2097424821.py:374: RuntimeWarning: overflow encountered in exp\n",
      "/tmp/ipykernel_44177/2097424821.py:374: RuntimeWarning: overflow encountered in exp\n",
      "/tmp/ipykernel_44177/2097424821.py:374: RuntimeWarning: overflow encountered in exp\n"
     ]
    },
    {
     "name": "stdout",
     "output_type": "stream",
     "text": [
      "[CV] END aggregation_method=proba, epochs=100, learning_rate=0.005, n_control_points=5, smoothing_factor=0.2; total time=   7.0s\n",
      "[CV] END aggregation_method=proba, epochs=100, learning_rate=0.005, n_control_points=5, smoothing_factor=0.1; total time=   7.7s\n",
      "[CV] END aggregation_method=proba, epochs=100, learning_rate=0.005, n_control_points=7, smoothing_factor=0.05; total time=   6.2s\n"
     ]
    },
    {
     "name": "stderr",
     "output_type": "stream",
     "text": [
      "/tmp/ipykernel_44177/2097424821.py:374: RuntimeWarning: overflow encountered in exp\n"
     ]
    },
    {
     "name": "stdout",
     "output_type": "stream",
     "text": [
      "[CV] END aggregation_method=proba, epochs=100, learning_rate=0.005, n_control_points=7, smoothing_factor=0.05; total time=   5.8s\n"
     ]
    },
    {
     "name": "stderr",
     "output_type": "stream",
     "text": [
      "/tmp/ipykernel_44177/2097424821.py:374: RuntimeWarning: overflow encountered in exp\n",
      "/tmp/ipykernel_44177/2097424821.py:374: RuntimeWarning: overflow encountered in exp\n"
     ]
    },
    {
     "name": "stdout",
     "output_type": "stream",
     "text": [
      "[CV] END aggregation_method=proba, epochs=100, learning_rate=0.005, n_control_points=5, smoothing_factor=0.2; total time=   7.1s\n",
      "[CV] END aggregation_method=proba, epochs=100, learning_rate=0.005, n_control_points=5, smoothing_factor=0.2; total time=   7.0s\n"
     ]
    },
    {
     "name": "stderr",
     "output_type": "stream",
     "text": [
      "/tmp/ipykernel_44177/2097424821.py:374: RuntimeWarning: overflow encountered in exp\n"
     ]
    },
    {
     "name": "stdout",
     "output_type": "stream",
     "text": [
      "[CV] END aggregation_method=proba, epochs=100, learning_rate=0.005, n_control_points=5, smoothing_factor=0.2; total time=   7.9s\n"
     ]
    },
    {
     "name": "stderr",
     "output_type": "stream",
     "text": [
      "/tmp/ipykernel_44177/2097424821.py:374: RuntimeWarning: overflow encountered in exp\n"
     ]
    },
    {
     "name": "stdout",
     "output_type": "stream",
     "text": [
      "[CV] END aggregation_method=proba, epochs=100, learning_rate=0.005, n_control_points=5, smoothing_factor=0.1; total time=   9.8s\n"
     ]
    },
    {
     "name": "stderr",
     "output_type": "stream",
     "text": [
      "/tmp/ipykernel_44177/2097424821.py:374: RuntimeWarning: overflow encountered in exp\n"
     ]
    },
    {
     "name": "stdout",
     "output_type": "stream",
     "text": [
      "[CV] END aggregation_method=proba, epochs=100, learning_rate=0.005, n_control_points=5, smoothing_factor=0.2; total time=   9.4s\n"
     ]
    },
    {
     "name": "stderr",
     "output_type": "stream",
     "text": [
      "/tmp/ipykernel_44177/2097424821.py:374: RuntimeWarning: overflow encountered in exp\n"
     ]
    },
    {
     "name": "stdout",
     "output_type": "stream",
     "text": [
      "[CV] END aggregation_method=proba, epochs=100, learning_rate=0.005, n_control_points=7, smoothing_factor=0.05; total time=   6.5s\n"
     ]
    },
    {
     "name": "stderr",
     "output_type": "stream",
     "text": [
      "/tmp/ipykernel_44177/2097424821.py:374: RuntimeWarning: overflow encountered in exp\n"
     ]
    },
    {
     "name": "stdout",
     "output_type": "stream",
     "text": [
      "[CV] END aggregation_method=proba, epochs=100, learning_rate=0.005, n_control_points=7, smoothing_factor=0.1; total time=   6.0s\n"
     ]
    },
    {
     "name": "stderr",
     "output_type": "stream",
     "text": [
      "/tmp/ipykernel_44177/2097424821.py:374: RuntimeWarning: overflow encountered in exp\n",
      "/tmp/ipykernel_44177/2097424821.py:374: RuntimeWarning: overflow encountered in exp\n",
      "/tmp/ipykernel_44177/2097424821.py:374: RuntimeWarning: overflow encountered in exp\n",
      "/tmp/ipykernel_44177/2097424821.py:374: RuntimeWarning: overflow encountered in exp\n"
     ]
    },
    {
     "name": "stdout",
     "output_type": "stream",
     "text": [
      "[CV] END aggregation_method=proba, epochs=100, learning_rate=0.005, n_control_points=7, smoothing_factor=0.2; total time=   6.1s\n",
      "[CV] END aggregation_method=proba, epochs=100, learning_rate=0.005, n_control_points=7, smoothing_factor=0.05; total time=   9.4s\n",
      "[CV] END aggregation_method=proba, epochs=100, learning_rate=0.005, n_control_points=7, smoothing_factor=0.1; total time=   6.6s\n",
      "[CV] END aggregation_method=proba, epochs=100, learning_rate=0.005, n_control_points=7, smoothing_factor=0.05; total time=   7.6s\n"
     ]
    },
    {
     "name": "stderr",
     "output_type": "stream",
     "text": [
      "/tmp/ipykernel_44177/2097424821.py:374: RuntimeWarning: overflow encountered in exp\n",
      "/tmp/ipykernel_44177/2097424821.py:374: RuntimeWarning: overflow encountered in exp\n"
     ]
    },
    {
     "name": "stdout",
     "output_type": "stream",
     "text": [
      "[CV] END aggregation_method=proba, epochs=100, learning_rate=0.005, n_control_points=7, smoothing_factor=0.1; total time=   6.4s\n",
      "[CV] END aggregation_method=proba, epochs=100, learning_rate=0.005, n_control_points=7, smoothing_factor=0.1; total time=   6.8s\n"
     ]
    },
    {
     "name": "stderr",
     "output_type": "stream",
     "text": [
      "/tmp/ipykernel_44177/2097424821.py:374: RuntimeWarning: overflow encountered in exp\n"
     ]
    },
    {
     "name": "stdout",
     "output_type": "stream",
     "text": [
      "[CV] END aggregation_method=proba, epochs=100, learning_rate=0.005, n_control_points=7, smoothing_factor=0.1; total time=   7.3s\n"
     ]
    },
    {
     "name": "stderr",
     "output_type": "stream",
     "text": [
      "/tmp/ipykernel_44177/2097424821.py:374: RuntimeWarning: overflow encountered in exp\n"
     ]
    },
    {
     "name": "stdout",
     "output_type": "stream",
     "text": [
      "[CV] END aggregation_method=proba, epochs=100, learning_rate=0.005, n_control_points=7, smoothing_factor=0.2; total time=   6.7s\n"
     ]
    },
    {
     "name": "stderr",
     "output_type": "stream",
     "text": [
      "/tmp/ipykernel_44177/2097424821.py:374: RuntimeWarning: overflow encountered in exp\n"
     ]
    },
    {
     "name": "stdout",
     "output_type": "stream",
     "text": [
      "[CV] END aggregation_method=proba, epochs=100, learning_rate=0.005, n_control_points=7, smoothing_factor=0.2; total time=   7.4s\n"
     ]
    },
    {
     "name": "stderr",
     "output_type": "stream",
     "text": [
      "/tmp/ipykernel_44177/2097424821.py:374: RuntimeWarning: overflow encountered in exp\n"
     ]
    },
    {
     "name": "stdout",
     "output_type": "stream",
     "text": [
      "[CV] END aggregation_method=proba, epochs=100, learning_rate=0.005, n_control_points=7, smoothing_factor=0.2; total time=   9.3s\n"
     ]
    },
    {
     "name": "stderr",
     "output_type": "stream",
     "text": [
      "/tmp/ipykernel_44177/2097424821.py:374: RuntimeWarning: overflow encountered in exp\n"
     ]
    },
    {
     "name": "stdout",
     "output_type": "stream",
     "text": [
      "[CV] END aggregation_method=proba, epochs=100, learning_rate=0.005, n_control_points=7, smoothing_factor=0.2; total time=   8.5s\n",
      "[CV] END aggregation_method=proba, epochs=100, learning_rate=0.01, n_control_points=3, smoothing_factor=0.05; total time=   7.6s\n",
      "[CV] END aggregation_method=proba, epochs=100, learning_rate=0.01, n_control_points=3, smoothing_factor=0.1; total time=   7.5s\n",
      "[CV] END aggregation_method=proba, epochs=100, learning_rate=0.01, n_control_points=3, smoothing_factor=0.05; total time=   7.8s\n",
      "[CV] END aggregation_method=proba, epochs=100, learning_rate=0.01, n_control_points=3, smoothing_factor=0.05; total time=   8.1s\n",
      "[CV] END aggregation_method=proba, epochs=100, learning_rate=0.01, n_control_points=3, smoothing_factor=0.05; total time=   8.3s\n",
      "[CV] END aggregation_method=proba, epochs=100, learning_rate=0.01, n_control_points=3, smoothing_factor=0.1; total time=   8.0s\n",
      "[CV] END aggregation_method=proba, epochs=100, learning_rate=0.01, n_control_points=3, smoothing_factor=0.1; total time=   7.6s\n",
      "[CV] END aggregation_method=proba, epochs=100, learning_rate=0.01, n_control_points=3, smoothing_factor=0.05; total time=   9.9s\n",
      "[CV] END aggregation_method=proba, epochs=100, learning_rate=0.01, n_control_points=3, smoothing_factor=0.1; total time=   9.8s\n",
      "[CV] END aggregation_method=proba, epochs=100, learning_rate=0.01, n_control_points=3, smoothing_factor=0.1; total time=  10.8s\n",
      "[CV] END aggregation_method=proba, epochs=100, learning_rate=0.01, n_control_points=3, smoothing_factor=0.2; total time=   7.3s\n",
      "[CV] END aggregation_method=proba, epochs=100, learning_rate=0.01, n_control_points=3, smoothing_factor=0.2; total time=   7.8s\n",
      "[CV] END aggregation_method=proba, epochs=100, learning_rate=0.01, n_control_points=3, smoothing_factor=0.2; total time=  10.1s\n"
     ]
    },
    {
     "name": "stderr",
     "output_type": "stream",
     "text": [
      "/tmp/ipykernel_44177/2097424821.py:374: RuntimeWarning: overflow encountered in exp\n"
     ]
    },
    {
     "name": "stdout",
     "output_type": "stream",
     "text": [
      "[CV] END aggregation_method=proba, epochs=100, learning_rate=0.01, n_control_points=5, smoothing_factor=0.05; total time=   7.7s\n",
      "[CV] END aggregation_method=proba, epochs=100, learning_rate=0.01, n_control_points=5, smoothing_factor=0.05; total time=   6.6s\n",
      "[CV] END aggregation_method=proba, epochs=100, learning_rate=0.01, n_control_points=5, smoothing_factor=0.05; total time=   7.4s\n",
      "[CV] END aggregation_method=proba, epochs=100, learning_rate=0.01, n_control_points=5, smoothing_factor=0.05; total time=   8.6s\n"
     ]
    },
    {
     "name": "stderr",
     "output_type": "stream",
     "text": [
      "/tmp/ipykernel_44177/2097424821.py:374: RuntimeWarning: overflow encountered in exp\n",
      "/tmp/ipykernel_44177/2097424821.py:374: RuntimeWarning: overflow encountered in exp\n"
     ]
    },
    {
     "name": "stdout",
     "output_type": "stream",
     "text": [
      "[CV] END aggregation_method=proba, epochs=100, learning_rate=0.01, n_control_points=3, smoothing_factor=0.2; total time=  10.3s\n",
      "[CV] END aggregation_method=proba, epochs=100, learning_rate=0.01, n_control_points=3, smoothing_factor=0.2; total time=  10.5s\n",
      "[CV] END aggregation_method=proba, epochs=100, learning_rate=0.01, n_control_points=5, smoothing_factor=0.1; total time=   7.2s\n"
     ]
    },
    {
     "name": "stderr",
     "output_type": "stream",
     "text": [
      "/tmp/ipykernel_44177/2097424821.py:374: RuntimeWarning: overflow encountered in exp\n",
      "/tmp/ipykernel_44177/2097424821.py:374: RuntimeWarning: overflow encountered in exp\n"
     ]
    },
    {
     "name": "stdout",
     "output_type": "stream",
     "text": [
      "[CV] END aggregation_method=proba, epochs=100, learning_rate=0.01, n_control_points=5, smoothing_factor=0.05; total time=  10.9s\n"
     ]
    },
    {
     "name": "stderr",
     "output_type": "stream",
     "text": [
      "/tmp/ipykernel_44177/2097424821.py:374: RuntimeWarning: overflow encountered in exp\n"
     ]
    },
    {
     "name": "stdout",
     "output_type": "stream",
     "text": [
      "[CV] END aggregation_method=proba, epochs=100, learning_rate=0.01, n_control_points=5, smoothing_factor=0.1; total time=   7.4s\n"
     ]
    },
    {
     "name": "stderr",
     "output_type": "stream",
     "text": [
      "/tmp/ipykernel_44177/2097424821.py:374: RuntimeWarning: overflow encountered in exp\n"
     ]
    },
    {
     "name": "stdout",
     "output_type": "stream",
     "text": [
      "[CV] END aggregation_method=proba, epochs=100, learning_rate=0.01, n_control_points=5, smoothing_factor=0.1; total time=  11.8s\n"
     ]
    },
    {
     "name": "stderr",
     "output_type": "stream",
     "text": [
      "/tmp/ipykernel_44177/2097424821.py:374: RuntimeWarning: overflow encountered in exp\n",
      "/tmp/ipykernel_44177/2097424821.py:374: RuntimeWarning: overflow encountered in exp\n"
     ]
    },
    {
     "name": "stdout",
     "output_type": "stream",
     "text": [
      "[CV] END aggregation_method=proba, epochs=100, learning_rate=0.01, n_control_points=5, smoothing_factor=0.1; total time=   9.1s\n",
      "[CV] END aggregation_method=proba, epochs=100, learning_rate=0.01, n_control_points=5, smoothing_factor=0.2; total time=   6.9s\n",
      "[CV] END aggregation_method=proba, epochs=100, learning_rate=0.01, n_control_points=5, smoothing_factor=0.1; total time=   8.3s\n"
     ]
    },
    {
     "name": "stderr",
     "output_type": "stream",
     "text": [
      "/tmp/ipykernel_44177/2097424821.py:374: RuntimeWarning: overflow encountered in exp\n"
     ]
    },
    {
     "name": "stdout",
     "output_type": "stream",
     "text": [
      "[CV] END aggregation_method=proba, epochs=100, learning_rate=0.01, n_control_points=5, smoothing_factor=0.2; total time=   8.0s\n"
     ]
    },
    {
     "name": "stderr",
     "output_type": "stream",
     "text": [
      "/tmp/ipykernel_44177/2097424821.py:374: RuntimeWarning: overflow encountered in exp\n"
     ]
    },
    {
     "name": "stdout",
     "output_type": "stream",
     "text": [
      "[CV] END aggregation_method=proba, epochs=100, learning_rate=0.01, n_control_points=7, smoothing_factor=0.05; total time=   6.9s\n",
      "[CV] END aggregation_method=proba, epochs=100, learning_rate=0.01, n_control_points=5, smoothing_factor=0.2; total time=   7.5s\n",
      "[CV] END aggregation_method=proba, epochs=100, learning_rate=0.01, n_control_points=5, smoothing_factor=0.2; total time=   9.7s\n"
     ]
    },
    {
     "name": "stderr",
     "output_type": "stream",
     "text": [
      "/tmp/ipykernel_44177/2097424821.py:374: RuntimeWarning: overflow encountered in exp\n",
      "/tmp/ipykernel_44177/2097424821.py:374: RuntimeWarning: overflow encountered in exp\n"
     ]
    },
    {
     "name": "stdout",
     "output_type": "stream",
     "text": [
      "[CV] END aggregation_method=proba, epochs=100, learning_rate=0.01, n_control_points=7, smoothing_factor=0.05; total time=   7.4s\n"
     ]
    },
    {
     "name": "stderr",
     "output_type": "stream",
     "text": [
      "/tmp/ipykernel_44177/2097424821.py:374: RuntimeWarning: overflow encountered in exp\n"
     ]
    },
    {
     "name": "stdout",
     "output_type": "stream",
     "text": [
      "[CV] END aggregation_method=proba, epochs=100, learning_rate=0.01, n_control_points=5, smoothing_factor=0.2; total time=  10.1s\n"
     ]
    },
    {
     "name": "stderr",
     "output_type": "stream",
     "text": [
      "/tmp/ipykernel_44177/2097424821.py:374: RuntimeWarning: overflow encountered in exp\n"
     ]
    },
    {
     "name": "stdout",
     "output_type": "stream",
     "text": [
      "[CV] END aggregation_method=proba, epochs=100, learning_rate=0.01, n_control_points=7, smoothing_factor=0.05; total time=   6.6s\n"
     ]
    },
    {
     "name": "stderr",
     "output_type": "stream",
     "text": [
      "/tmp/ipykernel_44177/2097424821.py:374: RuntimeWarning: overflow encountered in exp\n"
     ]
    },
    {
     "name": "stdout",
     "output_type": "stream",
     "text": [
      "[CV] END aggregation_method=proba, epochs=100, learning_rate=0.01, n_control_points=7, smoothing_factor=0.05; total time=   7.1s\n"
     ]
    },
    {
     "name": "stderr",
     "output_type": "stream",
     "text": [
      "/tmp/ipykernel_44177/2097424821.py:374: RuntimeWarning: overflow encountered in exp\n"
     ]
    },
    {
     "name": "stdout",
     "output_type": "stream",
     "text": [
      "[CV] END aggregation_method=proba, epochs=100, learning_rate=0.01, n_control_points=7, smoothing_factor=0.1; total time=   8.0s\n"
     ]
    },
    {
     "name": "stderr",
     "output_type": "stream",
     "text": [
      "/tmp/ipykernel_44177/2097424821.py:374: RuntimeWarning: overflow encountered in exp\n",
      "/tmp/ipykernel_44177/2097424821.py:374: RuntimeWarning: overflow encountered in exp\n",
      "/tmp/ipykernel_44177/2097424821.py:374: RuntimeWarning: overflow encountered in exp\n"
     ]
    },
    {
     "name": "stdout",
     "output_type": "stream",
     "text": [
      "[CV] END aggregation_method=proba, epochs=100, learning_rate=0.01, n_control_points=7, smoothing_factor=0.2; total time=   6.0s\n",
      "[CV] END aggregation_method=proba, epochs=100, learning_rate=0.01, n_control_points=7, smoothing_factor=0.1; total time=   8.2s\n",
      "[CV] END aggregation_method=proba, epochs=100, learning_rate=0.01, n_control_points=7, smoothing_factor=0.05; total time=  11.1s\n"
     ]
    },
    {
     "name": "stderr",
     "output_type": "stream",
     "text": [
      "/tmp/ipykernel_44177/2097424821.py:374: RuntimeWarning: overflow encountered in exp\n"
     ]
    },
    {
     "name": "stdout",
     "output_type": "stream",
     "text": [
      "[CV] END aggregation_method=proba, epochs=100, learning_rate=0.01, n_control_points=7, smoothing_factor=0.1; total time=   7.2s\n"
     ]
    },
    {
     "name": "stderr",
     "output_type": "stream",
     "text": [
      "/tmp/ipykernel_44177/2097424821.py:374: RuntimeWarning: overflow encountered in exp\n",
      "/tmp/ipykernel_44177/2097424821.py:374: RuntimeWarning: overflow encountered in exp\n",
      "/tmp/ipykernel_44177/2097424821.py:374: RuntimeWarning: overflow encountered in exp\n"
     ]
    },
    {
     "name": "stdout",
     "output_type": "stream",
     "text": [
      "[CV] END aggregation_method=proba, epochs=100, learning_rate=0.01, n_control_points=7, smoothing_factor=0.2; total time=   6.4s\n",
      "[CV] END aggregation_method=proba, epochs=100, learning_rate=0.01, n_control_points=7, smoothing_factor=0.1; total time=   7.0s\n",
      "[CV] END aggregation_method=proba, epochs=100, learning_rate=0.01, n_control_points=7, smoothing_factor=0.2; total time=   6.7s\n"
     ]
    },
    {
     "name": "stderr",
     "output_type": "stream",
     "text": [
      "/tmp/ipykernel_44177/2097424821.py:374: RuntimeWarning: overflow encountered in exp\n"
     ]
    },
    {
     "name": "stdout",
     "output_type": "stream",
     "text": [
      "[CV] END aggregation_method=proba, epochs=100, learning_rate=0.01, n_control_points=7, smoothing_factor=0.1; total time=   9.3s\n"
     ]
    },
    {
     "name": "stderr",
     "output_type": "stream",
     "text": [
      "/tmp/ipykernel_44177/2097424821.py:374: RuntimeWarning: overflow encountered in exp\n"
     ]
    },
    {
     "name": "stdout",
     "output_type": "stream",
     "text": [
      "[CV] END aggregation_method=proba, epochs=100, learning_rate=0.01, n_control_points=7, smoothing_factor=0.2; total time=   4.5s\n"
     ]
    },
    {
     "name": "stderr",
     "output_type": "stream",
     "text": [
      "/tmp/ipykernel_44177/2097424821.py:374: RuntimeWarning: overflow encountered in exp\n"
     ]
    },
    {
     "name": "stdout",
     "output_type": "stream",
     "text": [
      "[CV] END aggregation_method=proba, epochs=100, learning_rate=0.01, n_control_points=7, smoothing_factor=0.2; total time=   6.6s\n",
      "\n",
      "Best parameters found:\n",
      "{'aggregation_method': 'displacement', 'epochs': 20, 'learning_rate': 0.01, 'n_control_points': 7, 'smoothing_factor': 0.05}\n",
      "Best cross-validation accuracy: 0.8112\n",
      "Test set accuracy with best model: 0.7772\n",
      "Classification report: \n",
      "\n",
      "              precision    recall  f1-score   support\n",
      "\n",
      "           0       0.72      0.94      0.82       103\n",
      "           1       0.90      0.59      0.71        90\n",
      "\n",
      "    accuracy                           0.78       193\n",
      "   macro avg       0.81      0.77      0.76       193\n",
      "weighted avg       0.81      0.78      0.77       193\n",
      "\n"
     ]
    }
   ],
   "source": [
    "param_grid = {\n",
    "    'learning_rate': [0.001, 0.005, 0.01],           # Learning rate options\n",
    "    'epochs': [20, 50, 100],                         # Number of epochs\n",
    "    'n_control_points': [3, 5, 7],                   # Number of spline control points\n",
    "    'smoothing_factor': [0.05, 0.1, 0.2],            # Smoothing factor for spline\n",
    "    'aggregation_method': ['displacement', 'proba']  # Aggregation methods\n",
    "}\n",
    "\n",
    "# Initialize the base model\n",
    "base_model = NDSMPA(random_state=7, verbose=False)\n",
    "\n",
    "# Set up GridSearchCV\n",
    "grid_search = GridSearchCV(\n",
    "    estimator=base_model,\n",
    "    param_grid=param_grid,\n",
    "    cv=5,                     # 5-fold cross-validation\n",
    "    scoring='accuracy',       # Optimize for accuracy\n",
    "    n_jobs=-1,                # Use all available CPU cores\n",
    "    verbose=1                 # Print progress\n",
    ")\n",
    "grid_search.fit(X_train_reordered, y_train)\n",
    "\n",
    "# Results\n",
    "print(\"\\nBest parameters found:\")\n",
    "print(grid_search.best_params_)\n",
    "print(f\"Best cross-validation accuracy: {grid_search.best_score_:.4f}\")\n",
    "\n",
    "# Evaluate on test set with best model\n",
    "best_model = grid_search.best_estimator_\n",
    "y_pred = best_model.predict(X_test_reordered)\n",
    "test_accuracy = accuracy_score(y_test, y_pred)\n",
    "print(f\"Test set accuracy with best model: {test_accuracy:.4f}\")\n",
    "\n",
    "print(\"Classification report: \\n\")\n",
    "cr = classification_report(y_test, y_pred)\n",
    "print(cr)"
   ]
  }
 ],
 "metadata": {
  "kernelspec": {
   "display_name": "Python 3",
   "language": "python",
   "name": "python3"
  },
  "language_info": {
   "codemirror_mode": {
    "name": "ipython",
    "version": 3
   },
   "file_extension": ".py",
   "mimetype": "text/x-python",
   "name": "python",
   "nbconvert_exporter": "python",
   "pygments_lexer": "ipython3",
   "version": "3.12.6"
  }
 },
 "nbformat": 4,
 "nbformat_minor": 2
}
