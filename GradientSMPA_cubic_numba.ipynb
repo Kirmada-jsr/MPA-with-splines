{
 "cells": [
  {
   "cell_type": "code",
   "execution_count": 1,
   "metadata": {},
   "outputs": [
    {
     "name": "stdout",
     "output_type": "stream",
     "text": [
      "[0 1 1 1 0 0 0 1 0 1 0 1 1 1 1 1 0 0 0 1 1 1 0 1 0 0 0 0 1 0 0 0 1 0 1 1 1\n",
      " 0 1 0 1 1 1 1 0 1 0 1 1 1 0 0 1 0 0 0 1 0 1 1 1 1 0 0 1 0 1 0 0 0 0 1 1 1\n",
      " 0 0 1 0 1 0 0 0 1 0 0 1 1 1 1 1 0 0 0 0 1 1 0 0 1 0]\n"
     ]
    }
   ],
   "source": [
    "from fast_cubic_smpa import FastCubicSMPA\n",
    "import numpy as np\n",
    "\n",
    "# Your data\n",
    "X = np.random.rand(100, 3)\n",
    "y = (X[:, 0] + X[:, 1] > 1).astype(int)\n",
    "\n",
    "model = FastCubicSMPA(n_control_points=6, max_iter=50)\n",
    "model.fit(X, y)\n",
    "preds = model.predict(X)\n",
    "print(preds)"
   ]
  },
  {
   "cell_type": "code",
   "execution_count": 2,
   "metadata": {},
   "outputs": [],
   "source": [
    "import pandas as pd\n",
    "from sklearn.preprocessing import MinMaxScaler, StandardScaler\n",
    "from sklearn.model_selection import train_test_split"
   ]
  },
  {
   "cell_type": "code",
   "execution_count": 3,
   "metadata": {},
   "outputs": [],
   "source": [
    "diabetes_df = pd.read_csv(\"./Datasets/diabetes.csv\")\n",
    "train_df, test_df = train_test_split(diabetes_df, test_size = 0.3, random_state = 25)\n",
    "X_train = train_df.drop(\"Outcome\", axis = 1)\n",
    "y_train = train_df[\"Outcome\"]\n",
    "X_test = test_df.drop(\"Outcome\", axis = 1)\n",
    "y_test = test_df[\"Outcome\"]"
   ]
  },
  {
   "cell_type": "code",
   "execution_count": 4,
   "metadata": {},
   "outputs": [
    {
     "data": {
      "text/plain": [
       "array([[  9.   , 134.   ,  74.   , ...,  25.9  ,   0.46 ,  81.   ],\n",
       "       [  4.   , 111.   ,  72.   , ...,  37.1  ,   1.39 ,  56.   ],\n",
       "       [  8.   ,  95.   ,  72.   , ...,  36.8  ,   0.485,  57.   ],\n",
       "       ...,\n",
       "       [ 10.   , 162.   ,  84.   , ...,  27.7  ,   0.182,  54.   ],\n",
       "       [  0.   ,  93.   , 100.   , ...,  43.4  ,   1.021,  35.   ],\n",
       "       [  6.   , 123.   ,  72.   , ...,  33.6  ,   0.733,  34.   ]])"
      ]
     },
     "execution_count": 4,
     "metadata": {},
     "output_type": "execute_result"
    }
   ],
   "source": [
    "X_train.to_numpy()\n",
    "X_test.to_numpy()"
   ]
  },
  {
   "cell_type": "code",
   "execution_count": 5,
   "metadata": {},
   "outputs": [],
   "source": [
    "def reorder_least_correlated_feature(X, standardize=True, feature_order=None):\n",
    "    \"\"\"\n",
    "    Reorder X based on correlation or a provided feature order.\n",
    "\n",
    "    Parameters:\n",
    "    - X: numpy array or pandas DataFrame\n",
    "    - standardize: bool\n",
    "    - feature_order: list, optional order from training set (default: None, compute from X)\n",
    "\n",
    "    Returns:\n",
    "    - X_reordered, feature_order (if computed)\n",
    "    \"\"\"\n",
    "    is_dataframe = isinstance(X, pd.DataFrame)\n",
    "    if is_dataframe:\n",
    "        column_names = X.columns\n",
    "        X_np = X.to_numpy()\n",
    "    else:\n",
    "        X_np = np.asarray(X)\n",
    "\n",
    "    if feature_order is None:\n",
    "        if standardize:\n",
    "            scaler = StandardScaler()\n",
    "            X_scaled = scaler.fit_transform(X_np)\n",
    "        else:\n",
    "            X_scaled = X_np.copy()\n",
    "\n",
    "        corr_matrix = np.abs(np.corrcoef(X_scaled, rowvar=False))\n",
    "        n_features = X_np.shape[1]\n",
    "        avg_corr = (np.sum(corr_matrix, axis=1) - np.diag(corr_matrix)) / (n_features - 1)\n",
    "        target_idx = np.argmin(avg_corr)\n",
    "        feature_order = list(range(n_features))\n",
    "        feature_order.pop(target_idx)\n",
    "        feature_order.append(target_idx)\n",
    "\n",
    "    if is_dataframe:\n",
    "        X_reordered = X.iloc[:, feature_order]\n",
    "    else:\n",
    "        X_reordered = X_np[:, feature_order]\n",
    "\n",
    "    return X_reordered, feature_order\n",
    "\n",
    "# Usage\n",
    "X_train_reordered, feature_order = reorder_least_correlated_feature(X_train)\n",
    "X_test_reordered, _ = reorder_least_correlated_feature(X_test, feature_order=feature_order)"
   ]
  },
  {
   "cell_type": "code",
   "execution_count": 6,
   "metadata": {},
   "outputs": [
    {
     "data": {
      "text/plain": [
       "pandas.core.frame.DataFrame"
      ]
     },
     "execution_count": 6,
     "metadata": {},
     "output_type": "execute_result"
    }
   ],
   "source": [
    "type(X_train_reordered)"
   ]
  },
  {
   "cell_type": "code",
   "execution_count": 7,
   "metadata": {},
   "outputs": [],
   "source": [
    "from sklearn.metrics import classification_report"
   ]
  },
  {
   "cell_type": "code",
   "execution_count": 16,
   "metadata": {},
   "outputs": [],
   "source": [
    "model = FastCubicSMPA(n_control_points=10, max_iter=1000, lambda_reg=0)\n",
    "model.fit(X_train_reordered, y_train)\n",
    "preds = model.predict(X_test_reordered)\n",
    "cr = classification_report(y_test, preds)"
   ]
  },
  {
   "cell_type": "code",
   "execution_count": 17,
   "metadata": {},
   "outputs": [
    {
     "name": "stdout",
     "output_type": "stream",
     "text": [
      "              precision    recall  f1-score   support\n",
      "\n",
      "           0       0.81      0.57      0.67       160\n",
      "           1       0.42      0.69      0.52        71\n",
      "\n",
      "    accuracy                           0.61       231\n",
      "   macro avg       0.61      0.63      0.60       231\n",
      "weighted avg       0.69      0.61      0.63       231\n",
      "\n"
     ]
    }
   ],
   "source": [
    "print(cr)"
   ]
  },
  {
   "cell_type": "code",
   "execution_count": null,
   "metadata": {},
   "outputs": [],
   "source": []
  }
 ],
 "metadata": {
  "kernelspec": {
   "display_name": "Python 3",
   "language": "python",
   "name": "python3"
  },
  "language_info": {
   "codemirror_mode": {
    "name": "ipython",
    "version": 3
   },
   "file_extension": ".py",
   "mimetype": "text/x-python",
   "name": "python",
   "nbconvert_exporter": "python",
   "pygments_lexer": "ipython3",
   "version": "3.12.6"
  }
 },
 "nbformat": 4,
 "nbformat_minor": 2
}
